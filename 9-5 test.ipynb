{
 "cells": [
  {
   "cell_type": "code",
   "execution_count": 1,
   "metadata": {
    "collapsed": true
   },
   "outputs": [],
   "source": [
    "from simnet import *"
   ]
  },
  {
   "cell_type": "code",
   "execution_count": 2,
   "metadata": {
    "collapsed": false
   },
   "outputs": [
    {
     "name": "stdout",
     "output_type": "stream",
     "text": [
      "20/20\n",
      "edge:23\n"
     ]
    },
    {
     "ename": "KeyboardInterrupt",
     "evalue": "",
     "output_type": "error",
     "traceback": [
      "\u001b[0;31m---------------------------------------------------------------------------\u001b[0m",
      "\u001b[0;31mKeyboardInterrupt\u001b[0m                         Traceback (most recent call last)",
      "\u001b[0;32m/Users/satoumasakimiyuki/miniconda3/envs/py3/lib/python3.4/site-packages/matplotlib/backends/backend_macosx.py\u001b[0m in \u001b[0;36mclose\u001b[0;34m(self)\u001b[0m\n\u001b[1;32m    380\u001b[0m             \u001b[0mself\u001b[0m\u001b[0;34m.\u001b[0m\u001b[0mshow\u001b[0m\u001b[0;34m(\u001b[0m\u001b[0;34m)\u001b[0m\u001b[0;34m\u001b[0m\u001b[0m\n\u001b[1;32m    381\u001b[0m \u001b[0;34m\u001b[0m\u001b[0m\n\u001b[0;32m--> 382\u001b[0;31m     \u001b[0;32mdef\u001b[0m \u001b[0mclose\u001b[0m\u001b[0;34m(\u001b[0m\u001b[0mself\u001b[0m\u001b[0;34m)\u001b[0m\u001b[0;34m:\u001b[0m\u001b[0;34m\u001b[0m\u001b[0m\n\u001b[0m\u001b[1;32m    383\u001b[0m         \u001b[0mGcf\u001b[0m\u001b[0;34m.\u001b[0m\u001b[0mdestroy\u001b[0m\u001b[0;34m(\u001b[0m\u001b[0mself\u001b[0m\u001b[0;34m.\u001b[0m\u001b[0mnum\u001b[0m\u001b[0;34m)\u001b[0m\u001b[0;34m\u001b[0m\u001b[0m\n\u001b[1;32m    384\u001b[0m \u001b[0;34m\u001b[0m\u001b[0m\n",
      "\u001b[0;31mKeyboardInterrupt\u001b[0m: "
     ]
    }
   ],
   "source": [
    "temp1()"
   ]
  },
  {
   "cell_type": "code",
   "execution_count": 2,
   "metadata": {
    "collapsed": false
   },
   "outputs": [],
   "source": [
    "def temp2(mode=0):\n",
    "    G = nx.Graph()\n",
    "    pylab.figure(figsize=(10, 10))\n",
    "    scoredic = dict()\n",
    "    f = MCS_Finder(\"Streptomyces\")\n",
    "    Clist = f.get_Cnlist_from_label2(\"C(C)-C(C)-C(C-C-C-C-C-C)-C-C-C-C-C-C-C-C-C\")\n",
    "    for Cnumber in Clist:\n",
    "        filepath = \"SIMCOMP/\" + Cnumber + \".txt\"\n",
    "        if not os.path.exists(filepath):\n",
    "            continue\n",
    "        with open(filepath, \"r\") as fi:\n",
    "            scorelist = []\n",
    "            score = fi.readline().split(\"\\t\")\n",
    "            score[1] = float(score[1][:-1])\n",
    "            if mode == 1:\n",
    "                while(score[1] > 0.9):\n",
    "                    scorelist.append(score)\n",
    "                    if score[0] in Clist and score[1] < 1:\n",
    "                        G = nxappend(G, Cnumber, score[0], score[1])\n",
    "                    score = fi.readline().split(\"\\t\")\n",
    "                    score[1] = float(score[1][:-1])\n",
    "            elif mode == 2:\n",
    "                try:\n",
    "                    while(True):\n",
    "                        scorelist.append(score)\n",
    "                        if score[0] in Clist and score[1] < 1:\n",
    "                            G = nxappend(G, Cnumber, score[0], score[1])\n",
    "                        score = fi.readline().split(\"\\t\")\n",
    "                        score[1] = float(score[1][:-1])\n",
    "                except IndexError:\n",
    "                    pass\n",
    "            else:\n",
    "                for i in range(3):\n",
    "                    scorelist.append(score)\n",
    "                    if score[0] in Clist and score[1] < 1:\n",
    "                        G = nxappend(G, Cnumber, score[0], score[1])\n",
    "                    score = fi.readline().split(\"\\t\")\n",
    "                    score[1] = float(score[1][:-1])\n",
    "            scoredic[Cnumber] = scorelist\n",
    "    print(str(len(G.nodes())) + \"/\" + str(len(Clist)))\n",
    "    print(\"edge:\" + str(len(G.edges())))\n",
    "    return G\n",
    "    for g in nx.connected_component_subgraphs(G):\n",
    "        nx.draw_networkx(g)\n",
    "        plt.xticks([])\n",
    "        plt.yticks([])\n",
    "        plt.show()"
   ]
  },
  {
   "cell_type": "code",
   "execution_count": 3,
   "metadata": {
    "collapsed": false
   },
   "outputs": [
    {
     "name": "stdout",
     "output_type": "stream",
     "text": [
      "20/20\n",
      "edge:23\n"
     ]
    }
   ],
   "source": [
    "G = temp2()"
   ]
  },
  {
   "cell_type": "code",
   "execution_count": 4,
   "metadata": {
    "collapsed": true
   },
   "outputs": [],
   "source": [
    "Glist = list(nx.connected_component_subgraphs(G))"
   ]
  },
  {
   "cell_type": "code",
   "execution_count": 5,
   "metadata": {
    "collapsed": false
   },
   "outputs": [
    {
     "name": "stdout",
     "output_type": "stream",
     "text": [
      "[<networkx.classes.graph.Graph object at 0x113045860>, <networkx.classes.graph.Graph object at 0x113045ef0>, <networkx.classes.graph.Graph object at 0x113045f60>]\n"
     ]
    }
   ],
   "source": [
    "print(Glist)"
   ]
  },
  {
   "cell_type": "code",
   "execution_count": 6,
   "metadata": {
    "collapsed": false
   },
   "outputs": [],
   "source": [
    "dic = dict()\n",
    "for g in Glist:\n",
    "    dic[g] = len(g.nodes())"
   ]
  },
  {
   "cell_type": "code",
   "execution_count": 7,
   "metadata": {
    "collapsed": false
   },
   "outputs": [
    {
     "name": "stdout",
     "output_type": "stream",
     "text": [
      "{<networkx.classes.graph.Graph object at 0x113045f60>: 2, <networkx.classes.graph.Graph object at 0x113045860>: 13, <networkx.classes.graph.Graph object at 0x113045ef0>: 5}\n"
     ]
    }
   ],
   "source": [
    "print(dic)"
   ]
  },
  {
   "cell_type": "code",
   "execution_count": 8,
   "metadata": {
    "collapsed": false
   },
   "outputs": [
    {
     "name": "stdout",
     "output_type": "stream",
     "text": [
      "[(<networkx.classes.graph.Graph object at 0x113045860>, 13), (<networkx.classes.graph.Graph object at 0x113045ef0>, 5), (<networkx.classes.graph.Graph object at 0x113045f60>, 2)]\n"
     ]
    }
   ],
   "source": [
    "sortGlist = sorted(dic.items(), key=lambda x: x[1], reverse=True)\n",
    "print(sortGlist)"
   ]
  },
  {
   "cell_type": "code",
   "execution_count": 9,
   "metadata": {
    "collapsed": false
   },
   "outputs": [],
   "source": [
    "for sg in sortGlist:\n",
    "    nx.draw_networkx(sg[0])\n",
    "    plt.xticks([])\n",
    "    plt.yticks([])\n",
    "    plt.show()"
   ]
  },
  {
   "cell_type": "code",
   "execution_count": 10,
   "metadata": {
    "collapsed": false
   },
   "outputs": [
    {
     "data": {
      "text/plain": [
       "['C00026595', 'C00026596', 'C00017726', 'C00015228', 'C00015229']"
      ]
     },
     "execution_count": 10,
     "metadata": {},
     "output_type": "execute_result"
    }
   ],
   "source": [
    "sortGlist[1][0].nodes()"
   ]
  },
  {
   "cell_type": "code",
   "execution_count": 11,
   "metadata": {
    "collapsed": false
   },
   "outputs": [
    {
     "data": {
      "text/plain": [
       "[('C00026595', 'C00026596'),\n",
       " ('C00026595', 'C00017726'),\n",
       " ('C00026595', 'C00015228'),\n",
       " ('C00015229', 'C00026596'),\n",
       " ('C00015229', 'C00015228')]"
      ]
     },
     "execution_count": 11,
     "metadata": {},
     "output_type": "execute_result"
    }
   ],
   "source": [
    "sortGlist[1][0].edges()"
   ]
  },
  {
   "cell_type": "code",
   "execution_count": 12,
   "metadata": {
    "collapsed": true
   },
   "outputs": [],
   "source": [
    "Cnlist = sortGlist[1][0].nodes()"
   ]
  },
  {
   "cell_type": "code",
   "execution_count": 13,
   "metadata": {
    "collapsed": false
   },
   "outputs": [
    {
     "name": "stdout",
     "output_type": "stream",
     "text": [
      "['C00026595', 'C00026596', 'C00017726', 'C00015228', 'C00015229']\n"
     ]
    }
   ],
   "source": [
    "print(Cnlist)"
   ]
  },
  {
   "cell_type": "code",
   "execution_count": 14,
   "metadata": {
    "collapsed": false
   },
   "outputs": [],
   "source": [
    "from rdkit import Chem\n",
    "from rdkit.Chem import Draw\n",
    "from rdkit.Chem import rdDepictor\n",
    "mollist = []\n",
    "for Cn in Cnlist:\n",
    "    with open('KNApSAck_mol/%s.mol' % (Cn))as f:\n",
    "        mol = Chem.MolFromMolBlock(f.read())\n",
    "        rdDepictor.Compute2DCoords(mol)\n",
    "        mollist.append(mol)"
   ]
  },
  {
   "cell_type": "code",
   "execution_count": 15,
   "metadata": {
    "collapsed": false
   },
   "outputs": [
    {
     "name": "stdout",
     "output_type": "stream",
     "text": [
      "[<rdkit.Chem.rdchem.Mol object at 0x1136d06c8>, <rdkit.Chem.rdchem.Mol object at 0x1136d0730>, <rdkit.Chem.rdchem.Mol object at 0x1136d0b40>, <rdkit.Chem.rdchem.Mol object at 0x1136d02b8>, <rdkit.Chem.rdchem.Mol object at 0x1136d0ad8>]\n"
     ]
    }
   ],
   "source": [
    "print(mollist)"
   ]
  },
  {
   "cell_type": "code",
   "execution_count": 16,
   "metadata": {
    "collapsed": false
   },
   "outputs": [],
   "source": [
    "img = Draw.MolsToGridImage(mollist, legends=Cnlist, subImgSize=(400, 400))\n",
    "img.save('Gridtest.png')"
   ]
  },
  {
   "cell_type": "markdown",
   "metadata": {},
   "source": [
    "エッジ情報が落ちてしまった"
   ]
  },
  {
   "cell_type": "code",
   "execution_count": 17,
   "metadata": {
    "collapsed": false
   },
   "outputs": [],
   "source": [
    "pos = nx.spring_layout(sortGlist[1][0])"
   ]
  },
  {
   "cell_type": "code",
   "execution_count": 18,
   "metadata": {
    "collapsed": false
   },
   "outputs": [
    {
     "name": "stdout",
     "output_type": "stream",
     "text": [
      "{'C00026595': array([ 0.4445658 ,  0.24657954]), 'C00015229': array([ 1.        ,  0.47386149]), 'C00015228': array([ 0.93793446,  0.        ]), 'C00017726': array([ 0.        ,  0.06388382]), 'C00026596': array([ 0.62345411,  0.76840931])}\n"
     ]
    }
   ],
   "source": [
    "print(pos)"
   ]
  },
  {
   "cell_type": "code",
   "execution_count": 19,
   "metadata": {
    "collapsed": true
   },
   "outputs": [],
   "source": [
    "nx.draw_networkx(sortGlist[1][0], pos)\n",
    "plt.show()"
   ]
  },
  {
   "cell_type": "code",
   "execution_count": 20,
   "metadata": {
    "collapsed": true
   },
   "outputs": [],
   "source": [
    "from PIL import Image\n",
    "import numpy as np\n",
    "import matplotlib.pyplot as plt"
   ]
  },
  {
   "cell_type": "code",
   "execution_count": 21,
   "metadata": {
    "collapsed": true
   },
   "outputs": [],
   "source": [
    "for Cn in Cnlist:\n",
    "    im = Image.open(\"Streptomyces/\" + Cn + \".png\")\n",
    "    im_list = np.asarray(im)\n",
    "    plt.imshow(im_list)\n",
    "plt.show()"
   ]
  },
  {
   "cell_type": "code",
   "execution_count": 22,
   "metadata": {
    "collapsed": false
   },
   "outputs": [],
   "source": [
    "im = Image.open(\"Streptomyces/C00015229.png\")\n",
    "im_list = np.asarray(im)\n",
    "plt.imshow(im_list)\n",
    "plt.show()"
   ]
  },
  {
   "cell_type": "code",
   "execution_count": 23,
   "metadata": {
    "collapsed": false
   },
   "outputs": [],
   "source": [
    "plt.figure(figsize=(6, 8))\n",
    "plt.axes([0.1, 0.1, 0.8, 0.8])\n",
    "plt.imshow(im_list)\n",
    "plt.axes([0.5, 0.6, 0.1, 0.1])\n",
    "plt.imshow(im_list, alpha=0)\n",
    "plt.show()"
   ]
  },
  {
   "cell_type": "markdown",
   "metadata": {},
   "source": [
    "imshowでもaxesが使えることがわかった。"
   ]
  },
  {
   "cell_type": "code",
   "execution_count": 24,
   "metadata": {
    "collapsed": false
   },
   "outputs": [
    {
     "ename": "NameError",
     "evalue": "name 'mpimg' is not defined",
     "output_type": "error",
     "traceback": [
      "\u001b[0;31m---------------------------------------------------------------------------\u001b[0m",
      "\u001b[0;31mNameError\u001b[0m                                 Traceback (most recent call last)",
      "\u001b[0;32m<ipython-input-24-618234406313>\u001b[0m in \u001b[0;36m<module>\u001b[0;34m()\u001b[0m\n\u001b[1;32m      4\u001b[0m \u001b[0mnx\u001b[0m\u001b[0;34m.\u001b[0m\u001b[0mdraw_networkx\u001b[0m\u001b[0;34m(\u001b[0m\u001b[0msortGlist\u001b[0m\u001b[0;34m[\u001b[0m\u001b[0;36m1\u001b[0m\u001b[0;34m]\u001b[0m\u001b[0;34m[\u001b[0m\u001b[0;36m0\u001b[0m\u001b[0;34m]\u001b[0m\u001b[0;34m,\u001b[0m \u001b[0mpos\u001b[0m\u001b[0;34m,\u001b[0m \u001b[0mwith_labels\u001b[0m\u001b[0;34m=\u001b[0m\u001b[0;32mFalse\u001b[0m\u001b[0;34m)\u001b[0m\u001b[0;34m\u001b[0m\u001b[0m\n\u001b[1;32m      5\u001b[0m \u001b[0;32mfor\u001b[0m \u001b[0mCn\u001b[0m \u001b[0;32min\u001b[0m \u001b[0mCnlist\u001b[0m\u001b[0;34m:\u001b[0m\u001b[0;34m\u001b[0m\u001b[0m\n\u001b[0;32m----> 6\u001b[0;31m     \u001b[0mim\u001b[0m\u001b[0;34m=\u001b[0m\u001b[0mmpimg\u001b[0m\u001b[0;34m.\u001b[0m\u001b[0mimread\u001b[0m\u001b[0;34m(\u001b[0m\u001b[0;34m\"Streptomyces/\"\u001b[0m \u001b[0;34m+\u001b[0m \u001b[0mCn\u001b[0m \u001b[0;34m+\u001b[0m \u001b[0;34m\".png\"\u001b[0m\u001b[0;34m)\u001b[0m\u001b[0;34m\u001b[0m\u001b[0m\n\u001b[0m\u001b[1;32m      7\u001b[0m     \u001b[0mlis\u001b[0m \u001b[0;34m=\u001b[0m \u001b[0mlist\u001b[0m\u001b[0;34m(\u001b[0m\u001b[0mpos\u001b[0m\u001b[0;34m[\u001b[0m\u001b[0mCn\u001b[0m\u001b[0;34m]\u001b[0m\u001b[0;34m)\u001b[0m\u001b[0;34m\u001b[0m\u001b[0m\n\u001b[1;32m      8\u001b[0m     \u001b[0;32mfor\u001b[0m \u001b[0mi\u001b[0m \u001b[0;32min\u001b[0m \u001b[0mrange\u001b[0m\u001b[0;34m(\u001b[0m\u001b[0mlen\u001b[0m\u001b[0;34m(\u001b[0m\u001b[0mlis\u001b[0m\u001b[0;34m)\u001b[0m\u001b[0;34m)\u001b[0m\u001b[0;34m:\u001b[0m\u001b[0;34m\u001b[0m\u001b[0m\n",
      "\u001b[0;31mNameError\u001b[0m: name 'mpimg' is not defined"
     ]
    }
   ],
   "source": [
    "plt.axes([0.1, 0.1, 0.8, 0.8])\n",
    "plt.xticks([])\n",
    "plt.yticks([])\n",
    "nx.draw_networkx(sortGlist[1][0], pos, with_labels=False)\n",
    "for Cn in Cnlist:\n",
    "    im=mpimg.imread(\"Streptomyces/\" + Cn + \".png\")\n",
    "    lis = list(pos[Cn])\n",
    "    for i in range(len(lis)):\n",
    "        lis[i] = lis[i] * 0.64\n",
    "        lis[i] = lis[i] + 0.1\n",
    "    lis.extend([0.2, 0.2])\n",
    "    plt.axes(lis)\n",
    "    plt.xticks([])\n",
    "    plt.yticks([])\n",
    "    plt.imshow(im)\n",
    "    if Cn == \"C00017726\":\n",
    "        print(lis)\n",
    "\n",
    "plt.show()"
   ]
  },
  {
   "cell_type": "code",
   "execution_count": 25,
   "metadata": {
    "collapsed": true
   },
   "outputs": [],
   "source": [
    "plt.imshow(im_list, interpolation=\"nearest\")\n",
    "plt.show()"
   ]
  },
  {
   "cell_type": "code",
   "execution_count": 26,
   "metadata": {
    "collapsed": true
   },
   "outputs": [],
   "source": [
    "import matplotlib.pyplot as plt\n",
    "import matplotlib.image as mpimg\n",
    "img=mpimg.imread(\"Streptomyces/C00015229.png\") #image to array\n",
    "plt.imshow(img) #array to 2Dfigure\n",
    "\n",
    "plt.show()"
   ]
  },
  {
   "cell_type": "markdown",
   "metadata": {},
   "source": [
    "とりあえずできたけどpngの解像度が悪すぎて見えない\n",
    "rdkitのせい"
   ]
  },
  {
   "cell_type": "code",
   "execution_count": 27,
   "metadata": {
    "collapsed": false
   },
   "outputs": [
    {
     "ename": "SyntaxError",
     "evalue": "invalid syntax (<ipython-input-27-37610d1f3ff8>, line 1)",
     "output_type": "error",
     "traceback": [
      "\u001b[0;36m  File \u001b[0;32m\"<ipython-input-27-37610d1f3ff8>\"\u001b[0;36m, line \u001b[0;32m1\u001b[0m\n\u001b[0;31m    with open('KNApSAck_mol/C00015228.mol'as fi:\u001b[0m\n\u001b[0m                                           ^\u001b[0m\n\u001b[0;31mSyntaxError\u001b[0m\u001b[0;31m:\u001b[0m invalid syntax\n"
     ]
    }
   ],
   "source": [
    "with open('KNApSAck_mol/C00015228.mol'as fi:\n",
    "    mol = Chem.MolFromMolBlock(fi.read())\n",
    "    rdDepictor.Compute2DCoords(mol)\n",
    "    filename = \"Streptomyces/C00015228.png\"\n",
    "    Draw.MolToFile(mol, filename, size=(400, 400), transparent=True)"
   ]
  },
  {
   "cell_type": "code",
   "execution_count": 28,
   "metadata": {
    "collapsed": false
   },
   "outputs": [],
   "source": [
    "from PIL import Image\n",
    "with open('KNApSAck_mol/C00015228.mol')as fi:\n",
    "    mol = Chem.MolFromMolBlock(fi.read())\n",
    "    rdDepictor.Compute2DCoords(mol)\n",
    "    filename = \"Streptomyces/C00015228.png\"\n",
    "    im = Draw.MolToImage(mol, size=(500, 500))\n",
    "    trans = Image.new('RGBA', im.size, (0, 0, 0, 0))\n",
    "    width = im.size[0]\n",
    "    height = im.size[1]\n",
    "    for x in range(width):\n",
    "        for y in range(height):\n",
    "            pixel = im.getpixel( (x, y) )\n",
    "        \n",
    "            # 白なら処理しない\n",
    "            if pixel[0] == 255 and pixel[1] == 255 and pixel[2] == 255:\n",
    "                continue\n",
    "        \n",
    "            # 白以外なら、用意した画像にピクセルを書き込み\n",
    "            trans.putpixel( (x, y), pixel )\n",
    "    # 透過画像を保存\n",
    "    trans.save(filename)"
   ]
  },
  {
   "cell_type": "markdown",
   "metadata": {},
   "source": [
    "透過画像を作ることに成功した  \n",
    "これで拡大しても白い部分が邪魔にならない"
   ]
  },
  {
   "cell_type": "code",
   "execution_count": 48,
   "metadata": {
    "collapsed": true
   },
   "outputs": [],
   "source": [
    "for Cn in Cnlist:\n",
    "    with open('KNApSAck_mol/%s.mol' % Cn)as fi:\n",
    "        mol = Chem.MolFromMolBlock(fi.read())\n",
    "        rdDepictor.Compute2DCoords(mol)\n",
    "        filename = \"Streptomyces/%s.png\" % Cn\n",
    "        im = Draw.MolToImage(mol, size=(500, 500))\n",
    "        trans = Image.new('RGBA', im.size, (0, 0, 0, 0))\n",
    "        width = im.size[0]\n",
    "        height = im.size[1]\n",
    "        for x in range(width):\n",
    "            for y in range(height):\n",
    "                pixel = im.getpixel( (x, y) )\n",
    "        \n",
    "                # 白なら処理しない\n",
    "                if pixel[0] == 255 and pixel[1] == 255 and pixel[2] == 255:\n",
    "                    continue\n",
    "        \n",
    "                # 白以外なら、用意した画像にピクセルを書き込み\n",
    "                trans.putpixel( (x, y), pixel )\n",
    "        # 透過画像を保存\n",
    "        trans.save(filename)"
   ]
  },
  {
   "cell_type": "code",
   "execution_count": 47,
   "metadata": {
    "collapsed": false
   },
   "outputs": [],
   "source": [
    "fig = plt.figure(figsize=(8, 6))\n",
    "fig.patch.set_facecolor('w')\n",
    "ax = plt.axes([0.1, 0.1, 0.8, 0.8])\n",
    "ax.spines[\"right\"].set_color(\"none\")  # 右消し\n",
    "ax.spines[\"left\"].set_color(\"none\")   # 左消し\n",
    "ax.spines[\"top\"].set_color(\"none\")    # 上消し\n",
    "ax.spines[\"bottom\"].set_color(\"none\") # 下消し\n",
    "plt.xticks([])\n",
    "plt.yticks([])\n",
    "nx.draw_networkx(sortGlist[1][0], pos, with_labels=False, node_size=700)\n",
    "for Cn in Cnlist:\n",
    "    im=mpimg.imread(\"Streptomyces/\" + Cn + \".png\")\n",
    "    lis = list(pos[Cn])\n",
    "    for i in range(len(lis)):\n",
    "        lis[i] = lis[i] * 0.64\n",
    "        lis[i] = lis[i] + 0.1 - (0.25 * 0.64)\n",
    "    lis.extend([0.5, 0.5])\n",
    "    ax = plt.axes(lis)\n",
    "    ax.patch.set_alpha(0.1)\n",
    "    ax.spines[\"right\"].set_color(\"none\")  # 右消し\n",
    "    ax.spines[\"left\"].set_color(\"none\")   # 左消し\n",
    "    ax.spines[\"top\"].set_color(\"none\")    # 上消し\n",
    "    ax.spines[\"bottom\"].set_color(\"none\") # 下消し\n",
    "    plt.xticks([])\n",
    "    plt.yticks([])\n",
    "    plt.imshow(im)\n",
    "\n",
    "plt.show()"
   ]
  },
  {
   "cell_type": "markdown",
   "metadata": {},
   "source": [
    "一応できたけど透過の具合が変な感じだから調整しないと醜い  \n",
    "あとファイルごと保存しないと結局拡大できない"
   ]
  },
  {
   "cell_type": "code",
   "execution_count": null,
   "metadata": {
    "collapsed": true
   },
   "outputs": [],
   "source": []
  },
  {
   "cell_type": "markdown",
   "metadata": {},
   "source": [
    "## 9月6日分"
   ]
  },
  {
   "cell_type": "code",
   "execution_count": 31,
   "metadata": {
    "collapsed": true
   },
   "outputs": [],
   "source": [
    "import matplotlib.path as pth"
   ]
  },
  {
   "cell_type": "code",
   "execution_count": 32,
   "metadata": {
    "collapsed": false
   },
   "outputs": [
    {
     "ename": "AssertionError",
     "evalue": "",
     "output_type": "error",
     "traceback": [
      "\u001b[0;31m---------------------------------------------------------------------------\u001b[0m",
      "\u001b[0;31mAssertionError\u001b[0m                            Traceback (most recent call last)",
      "\u001b[0;32m<ipython-input-32-b0d27e274169>\u001b[0m in \u001b[0;36m<module>\u001b[0;34m()\u001b[0m\n\u001b[0;32m----> 1\u001b[0;31m \u001b[0mpth\u001b[0m\u001b[0;34m.\u001b[0m\u001b[0mPath\u001b[0m\u001b[0;34m(\u001b[0m\u001b[0mvertices\u001b[0m\u001b[0;34m=\u001b[0m\u001b[0mim\u001b[0m\u001b[0;34m)\u001b[0m\u001b[0;34m\u001b[0m\u001b[0m\n\u001b[0m",
      "\u001b[0;32m/Users/satoumasakimiyuki/miniconda3/envs/py3/lib/python3.4/site-packages/matplotlib/path.py\u001b[0m in \u001b[0;36m__init__\u001b[0;34m(self, vertices, codes, _interpolation_steps, closed, readonly)\u001b[0m\n\u001b[1;32m    149\u001b[0m             \u001b[0mcodes\u001b[0m\u001b[0;34m[\u001b[0m\u001b[0;34m-\u001b[0m\u001b[0;36m1\u001b[0m\u001b[0;34m]\u001b[0m \u001b[0;34m=\u001b[0m \u001b[0mself\u001b[0m\u001b[0;34m.\u001b[0m\u001b[0mCLOSEPOLY\u001b[0m\u001b[0;34m\u001b[0m\u001b[0m\n\u001b[1;32m    150\u001b[0m \u001b[0;34m\u001b[0m\u001b[0m\n\u001b[0;32m--> 151\u001b[0;31m         \u001b[0;32massert\u001b[0m \u001b[0mvertices\u001b[0m\u001b[0;34m.\u001b[0m\u001b[0mndim\u001b[0m \u001b[0;34m==\u001b[0m \u001b[0;36m2\u001b[0m\u001b[0;34m\u001b[0m\u001b[0m\n\u001b[0m\u001b[1;32m    152\u001b[0m         \u001b[0;32massert\u001b[0m \u001b[0mvertices\u001b[0m\u001b[0;34m.\u001b[0m\u001b[0mshape\u001b[0m\u001b[0;34m[\u001b[0m\u001b[0;36m1\u001b[0m\u001b[0;34m]\u001b[0m \u001b[0;34m==\u001b[0m \u001b[0;36m2\u001b[0m\u001b[0;34m\u001b[0m\u001b[0m\n\u001b[1;32m    153\u001b[0m \u001b[0;34m\u001b[0m\u001b[0m\n",
      "\u001b[0;31mAssertionError\u001b[0m: "
     ]
    }
   ],
   "source": [
    "pth.Path(vertices=im)"
   ]
  },
  {
   "cell_type": "code",
   "execution_count": null,
   "metadata": {
    "collapsed": false
   },
   "outputs": [],
   "source": [
    "nx.draw_networkx(sortGlist[1][0], pos, with_labels=False, node_shape=im)"
   ]
  },
  {
   "cell_type": "markdown",
   "metadata": {},
   "source": [
    "matplotlib.pathはmatplotlib.path.Pathという軽い図形を描くためのクラスを描くためのもの  \n",
    "PATHを指定して表示できるわけではない"
   ]
  },
  {
   "cell_type": "code",
   "execution_count": 33,
   "metadata": {
    "collapsed": true
   },
   "outputs": [],
   "source": [
    "from matplotlib.offsetbox import OffsetImage, AnnotationBbox\n",
    "from matplotlib.cbook import get_sample_data"
   ]
  },
  {
   "cell_type": "code",
   "execution_count": 34,
   "metadata": {
    "collapsed": false
   },
   "outputs": [],
   "source": [
    "def main():\n",
    "    x = np.linspace(0, 10, 20)\n",
    "    y = np.cos(x)\n",
    "    image_path = 'Streptomyces/C00015228.png'\n",
    "    fig, ax = plt.subplots()\n",
    "    imscatter(x, y, image_path, zoom=0.5, ax=ax)\n",
    "    ax.plot(x, y)\n",
    "    plt.show()"
   ]
  },
  {
   "cell_type": "code",
   "execution_count": 35,
   "metadata": {
    "collapsed": true
   },
   "outputs": [],
   "source": [
    "def imscatter(x, y, image, ax=None, zoom=1):\n",
    "    if ax is None:\n",
    "        ax = plt.gca()\n",
    "    try:\n",
    "        image = plt.imread(image)\n",
    "    except TypeError:\n",
    "        # Likely already an array...\n",
    "        pass\n",
    "    im = OffsetImage(image, zoom=zoom)\n",
    "    x, y = np.atleast_1d(x, y)\n",
    "    artists = []\n",
    "    for x0, y0 in zip(x, y):\n",
    "        ab = AnnotationBbox(im, (x0, y0), xycoords='data', frameon=False)\n",
    "        artists.append(ax.add_artist(ab))\n",
    "    ax.update_datalim(np.column_stack([x, y]))\n",
    "    ax.autoscale()\n",
    "    return artists"
   ]
  },
  {
   "cell_type": "code",
   "execution_count": 36,
   "metadata": {
    "collapsed": true
   },
   "outputs": [],
   "source": [
    "main()"
   ]
  },
  {
   "cell_type": "markdown",
   "metadata": {},
   "source": [
    "これならmatplotlibのマーカーを画像に変更できる"
   ]
  },
  {
   "cell_type": "code",
   "execution_count": 37,
   "metadata": {
    "collapsed": true
   },
   "outputs": [],
   "source": [
    "def imscatter2(pos, Cn, ax=None, zoom=1):\n",
    "    if ax is None:\n",
    "        ax = plt.gca()\n",
    "    filepath = \"Streptomyces/\" + Cn + \".png\"\n",
    "    image = plt.imread(filepath)\n",
    "    im = OffsetImage(image, zoom=zoom)\n",
    "    x, y = np.atleast_1d(pos[Cn][0], pos[Cn][1])\n",
    "    artists = []\n",
    "    for x0, y0 in zip(x, y):\n",
    "        ab = AnnotationBbox(im, (x0, y0), xycoords='data', frameon=False)\n",
    "        artists.append(ax.add_artist(ab))\n",
    "    ax.update_datalim(np.column_stack([x, y]))\n",
    "    ax.autoscale()\n",
    "    return artists"
   ]
  },
  {
   "cell_type": "code",
   "execution_count": 38,
   "metadata": {
    "collapsed": false
   },
   "outputs": [
    {
     "data": {
      "text/plain": [
       "[<matplotlib.offsetbox.AnnotationBbox at 0x11703b710>]"
      ]
     },
     "execution_count": 38,
     "metadata": {},
     "output_type": "execute_result"
    }
   ],
   "source": [
    "imscatter2(pos, \"C00015228\", zoom = 0.4)"
   ]
  },
  {
   "cell_type": "code",
   "execution_count": 39,
   "metadata": {
    "collapsed": true
   },
   "outputs": [],
   "source": [
    "nx.draw_networkx(sortGlist[1][0], pos, with_labels=False, node_size=20)"
   ]
  },
  {
   "cell_type": "code",
   "execution_count": 40,
   "metadata": {
    "collapsed": true
   },
   "outputs": [],
   "source": [
    "plt.show()"
   ]
  },
  {
   "cell_type": "code",
   "execution_count": 41,
   "metadata": {
    "collapsed": true
   },
   "outputs": [],
   "source": [
    "def imscatter3(pos, Cnlist, ax=None, zoom=1):\n",
    "    if ax is None:\n",
    "        ax = plt.gca()\n",
    "    artists = []\n",
    "    for Cn in Cnlist:\n",
    "        filepath = \"Streptomyces/\" + Cn + \".png\"\n",
    "        image = plt.imread(filepath)\n",
    "        im = OffsetImage(image, zoom=zoom)\n",
    "        x, y = np.atleast_1d(pos[Cn][0], pos[Cn][1])\n",
    "        for x0, y0 in zip(x, y):\n",
    "            ab = AnnotationBbox(im, (x0, y0), xycoords='data', frameon=False)\n",
    "            artists.append(ax.add_artist(ab))\n",
    "        ax.update_datalim(np.column_stack([x, y]))\n",
    "        ax.autoscale()\n",
    "    return artists"
   ]
  },
  {
   "cell_type": "code",
   "execution_count": 46,
   "metadata": {
    "collapsed": false
   },
   "outputs": [],
   "source": [
    "fig = plt.figure(figsize=(8, 6))\n",
    "fig.patch.set_facecolor('w')\n",
    "ax = plt.axes([0.1, 0.1, 0.8, 0.8])\n",
    "ax.spines[\"right\"].set_color(\"none\")  # 右消し\n",
    "ax.spines[\"left\"].set_color(\"none\")   # 左消し\n",
    "ax.spines[\"top\"].set_color(\"none\")    # 上消し\n",
    "ax.spines[\"bottom\"].set_color(\"none\") # 下消し\n",
    "plt.xticks([])\n",
    "plt.yticks([])\n",
    "imscatter3(pos, Cnlist, zoom=0.5)\n",
    "nx.draw_networkx_nodes(sortGlist[1][0], pos, with_labels=False, node_size=200, node_shape=\",\", node_color=\"w\", alpha=0)\n",
    "nx.draw_networkx_edges(sortGlist[1][0], pos, with_labels=False, alpha=0.3)\n",
    "plt.show()"
   ]
  },
  {
   "cell_type": "markdown",
   "metadata": {},
   "source": [
    "できた。  \n",
    "透過だけなんとかする。"
   ]
  },
  {
   "cell_type": "code",
   "execution_count": 43,
   "metadata": {
    "collapsed": true
   },
   "outputs": [],
   "source": [
    "def imscatter4(pos, Cnlist, ax=None, zoom=1):\n",
    "    if ax is None:\n",
    "        ax = plt.gca()\n",
    "    artists = []\n",
    "    for Cn in Cnlist:\n",
    "        filepath = \"Streptomyces/\" + Cn + \"back.png\"\n",
    "        image = plt.imread(filepath)\n",
    "        im = OffsetImage(image, zoom=zoom)\n",
    "        x, y = np.atleast_1d(pos[Cn][0], pos[Cn][1])\n",
    "        for x0, y0 in zip(x, y):\n",
    "            ab = AnnotationBbox(im, (x0, y0), xycoords='data', frameon=False)\n",
    "            artists.append(ax.add_artist(ab))\n",
    "        ax.update_datalim(np.column_stack([x, y]))\n",
    "        ax.autoscale()\n",
    "        nx.draw_networkx_nodes(G=sortGlist[1][0], pos=pos, nodelist=[Cn], node_size=0)\n",
    "    return artists"
   ]
  },
  {
   "cell_type": "code",
   "execution_count": 44,
   "metadata": {
    "collapsed": false
   },
   "outputs": [],
   "source": [
    "imscatter4(pos, Cnlist, zoom=0.4)\n",
    "plt.show()"
   ]
  },
  {
   "cell_type": "markdown",
   "metadata": {},
   "source": [
    "背景が白い画像も用意した。これの余白？を切り取って貼り付けたい  \n",
    "果たしてそれがいいことかは知らない"
   ]
  },
  {
   "cell_type": "markdown",
   "metadata": {
    "collapsed": true
   },
   "source": [
    "パラメータの調整をして少し見やすくした。"
   ]
  },
  {
   "cell_type": "code",
   "execution_count": 45,
   "metadata": {
    "collapsed": false
   },
   "outputs": [
    {
     "name": "stdout",
     "output_type": "stream",
     "text": [
      "{'C00026595': array([ 0.4445658 ,  0.24657954]), 'C00015229': array([ 1.        ,  0.47386149]), 'C00015228': array([ 0.93793446,  0.        ]), 'C00017726': array([ 0.        ,  0.06388382]), 'C00026596': array([ 0.62345411,  0.76840931])}\n"
     ]
    }
   ],
   "source": [
    "print(pos)"
   ]
  },
  {
   "cell_type": "code",
   "execution_count": null,
   "metadata": {
    "collapsed": true
   },
   "outputs": [],
   "source": []
  }
 ],
 "metadata": {
  "kernelspec": {
   "display_name": "Python 3",
   "language": "python",
   "name": "python3"
  },
  "language_info": {
   "codemirror_mode": {
    "name": "ipython",
    "version": 3
   },
   "file_extension": ".py",
   "mimetype": "text/x-python",
   "name": "python",
   "nbconvert_exporter": "python",
   "pygments_lexer": "ipython3",
   "version": "3.4.5"
  }
 },
 "nbformat": 4,
 "nbformat_minor": 2
}
