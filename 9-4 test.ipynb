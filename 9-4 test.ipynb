{
 "cells": [
  {
   "cell_type": "code",
   "execution_count": 2,
   "metadata": {
    "collapsed": false
   },
   "outputs": [],
   "source": [
    "from classes import MCS_Finder\n",
    "from rdkit.Chem import Draw\n",
    "from rdkit.Chem import rdDepictor\n",
    "from rdkit import Chem"
   ]
  },
  {
   "cell_type": "code",
   "execution_count": 3,
   "metadata": {
    "collapsed": false
   },
   "outputs": [],
   "source": [
    "f = MCS_Finder(\"Streptomyces\")"
   ]
  },
  {
   "cell_type": "code",
   "execution_count": 4,
   "metadata": {
    "collapsed": false
   },
   "outputs": [],
   "source": [
    "Cnlist = f.get_Cnlist_from_label2(\"C(C)-C(C)-C(C-C-C-C-C-C)-C-C-C-C-C-C-C-C-C\")"
   ]
  },
  {
   "cell_type": "code",
   "execution_count": 5,
   "metadata": {
    "collapsed": false
   },
   "outputs": [
    {
     "name": "stdout",
     "output_type": "stream",
     "text": [
      "['C00015228', 'C00015229', 'C00016476', 'C00016751', 'C00016938', 'C00017103', 'C00017237', 'C00017544', 'C00017573', 'C00017671', 'C00017726', 'C00017791', 'C00017792', 'C00018127', 'C00024753', 'C00026595', 'C00026596', 'C00028349', 'C00028350', 'C00028707']\n"
     ]
    }
   ],
   "source": [
    "print(Cnlist)"
   ]
  },
  {
   "cell_type": "code",
   "execution_count": 6,
   "metadata": {
    "collapsed": false
   },
   "outputs": [],
   "source": [
    "for Cn in Cnlist:\n",
    "    with open('KNApSAck_mol/%s.mol' % (Cn))as fi:\n",
    "        mol = Chem.MolFromMolBlock(fi.read())\n",
    "        rdDepictor.Compute2DCoords(mol)\n",
    "    filename = f.gene + \"/\" + Cn + \"back.png\"\n",
    "    Draw.MolToFile(mol, filename)\n",
    "    break"
   ]
  },
  {
   "cell_type": "markdown",
   "metadata": {},
   "source": [
    "Cnlist内のCnの図を全て保存するためのコード"
   ]
  },
  {
   "cell_type": "markdown",
   "metadata": {},
   "source": [
    "とりあえず必要なのだけ抜く"
   ]
  },
  {
   "cell_type": "code",
   "execution_count": 9,
   "metadata": {
    "collapsed": false
   },
   "outputs": [],
   "source": [
    "for Cn in [\"C00017726\", \"C00026595\", \"C00026596\", \"C00015229\", \"C00015228\"]:\n",
    "    with open('KNApSAck_mol/%s.mol' % (Cn))as fi:\n",
    "        mol = Chem.MolFromMolBlock(fi.read())\n",
    "        rdDepictor.Compute2DCoords(mol)\n",
    "    filename = f.gene + \"/\" + Cn + \"back.png\"\n",
    "    Draw.MolToFile(mol, filename, size=(500, 500))"
   ]
  },
  {
   "cell_type": "code",
   "execution_count": 22,
   "metadata": {
    "collapsed": true
   },
   "outputs": [],
   "source": [
    "%matplotlib inline"
   ]
  },
  {
   "cell_type": "code",
   "execution_count": 35,
   "metadata": {
    "collapsed": false
   },
   "outputs": [
    {
     "data": {
      "image/png": "[encoded data removed]",
      "text/plain": [
       "<matplotlib.figure.Figure at 0x1110f52e8>"
      ]
     },
     "metadata": {},
     "output_type": "display_data"
    }
   ],
   "source": [
    "from PIL import Image\n",
    "import numpy as np\n",
    "import matplotlib.pyplot as plt\n",
    "im = Image.open(\"Streptomyces/9-4test.png\")\n",
    "im_list = np.asarray(im)\n",
    "plt.imshow(im_list)\n",
    "plt.show()"
   ]
  },
  {
   "cell_type": "markdown",
   "metadata": {},
   "source": [
    "左上の部分だけ画像を拾ってきた  \n",
    "細かい部分は直接開いて"
   ]
  },
  {
   "cell_type": "code",
   "execution_count": 34,
   "metadata": {
    "collapsed": false
   },
   "outputs": [],
   "source": []
  },
  {
   "cell_type": "code",
   "execution_count": null,
   "metadata": {
    "collapsed": true
   },
   "outputs": [],
   "source": []
  }
 ],
 "metadata": {
  "kernelspec": {
   "display_name": "Python 3",
   "language": "python",
   "name": "python3"
  },
  "language_info": {
   "codemirror_mode": {
    "name": "ipython",
    "version": 3
   },
   "file_extension": ".py",
   "mimetype": "text/x-python",
   "name": "python",
   "nbconvert_exporter": "python",
   "pygments_lexer": "ipython3",
   "version": "3.4.5"
  }
 },
 "nbformat": 4,
 "nbformat_minor": 2
}
