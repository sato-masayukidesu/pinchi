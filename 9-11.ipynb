{
 "cells": [
  {
   "cell_type": "code",
   "execution_count": 1,
   "metadata": {
    "collapsed": true
   },
   "outputs": [],
   "source": [
    "from simnet import *"
   ]
  },
  {
   "cell_type": "code",
   "execution_count": 2,
   "metadata": {
    "collapsed": true
   },
   "outputs": [],
   "source": [
    "def temp2(mode=0):\n",
    "    G = nx.Graph()\n",
    "    pylab.figure(figsize=(10, 10))\n",
    "    scoredic = dict()\n",
    "    f = MCS_Finder(\"Streptomyces\")\n",
    "    Clist = f.get_Cnlist_from_label2(\"C(C)-C(C)-C(C-C-C-C-C-C)-C-C-C-C-C-C-C-C-C\")\n",
    "    for Cnumber in Clist:\n",
    "        filepath = \"SIMCOMP/\" + Cnumber + \".txt\"\n",
    "        if not os.path.exists(filepath):\n",
    "            continue\n",
    "        with open(filepath, \"r\") as fi:\n",
    "            scorelist = []\n",
    "            score = fi.readline().split(\"\\t\")\n",
    "            score[1] = float(score[1][:-1])\n",
    "            if mode == 1:\n",
    "                while(score[1] > 0.9):\n",
    "                    scorelist.append(score)\n",
    "                    if score[0] in Clist and score[1] < 1:\n",
    "                        G = nxappend(G, Cnumber, score[0], score[1])\n",
    "                    score = fi.readline().split(\"\\t\")\n",
    "                    score[1] = float(score[1][:-1])\n",
    "            elif mode == 2:\n",
    "                try:\n",
    "                    while(True):\n",
    "                        scorelist.append(score)\n",
    "                        if score[0] in Clist and score[1] < 1:\n",
    "                            G = nxappend(G, Cnumber, score[0], score[1])\n",
    "                        score = fi.readline().split(\"\\t\")\n",
    "                        score[1] = float(score[1][:-1])\n",
    "                except IndexError:\n",
    "                    pass\n",
    "            else:\n",
    "                for i in range(3):\n",
    "                    scorelist.append(score)\n",
    "                    if score[0] in Clist and score[1] < 1:\n",
    "                        G = nxappend(G, Cnumber, score[0], score[1])\n",
    "                    score = fi.readline().split(\"\\t\")\n",
    "                    score[1] = float(score[1][:-1])\n",
    "            scoredic[Cnumber] = scorelist\n",
    "    print(str(len(G.nodes())) + \"/\" + str(len(Clist)))\n",
    "    print(\"edge:\" + str(len(G.edges())))\n",
    "    return G\n",
    "    for g in nx.connected_component_subgraphs(G):\n",
    "        nx.draw_networkx(g)\n",
    "        plt.xticks([])\n",
    "        plt.yticks([])\n",
    "        plt.show()"
   ]
  },
  {
   "cell_type": "code",
   "execution_count": 3,
   "metadata": {
    "collapsed": false
   },
   "outputs": [
    {
     "name": "stdout",
     "output_type": "stream",
     "text": [
      "20/20\n",
      "edge:23\n"
     ]
    }
   ],
   "source": [
    "G = temp2()"
   ]
  },
  {
   "cell_type": "code",
   "execution_count": 4,
   "metadata": {
    "collapsed": true
   },
   "outputs": [],
   "source": [
    "Glist = list(nx.connected_component_subgraphs(G))"
   ]
  },
  {
   "cell_type": "code",
   "execution_count": 5,
   "metadata": {
    "collapsed": true
   },
   "outputs": [],
   "source": [
    "dic = dict()\n",
    "for g in Glist:\n",
    "    dic[g] = len(g.nodes())"
   ]
  },
  {
   "cell_type": "code",
   "execution_count": 6,
   "metadata": {
    "collapsed": false
   },
   "outputs": [
    {
     "name": "stdout",
     "output_type": "stream",
     "text": [
      "[(<networkx.classes.graph.Graph object at 0x1138092e8>, 13), (<networkx.classes.graph.Graph object at 0x1138099b0>, 5), (<networkx.classes.graph.Graph object at 0x113809f98>, 2)]\n"
     ]
    }
   ],
   "source": [
    "sortGlist = sorted(dic.items(), key=lambda x: x[1], reverse=True)\n",
    "print(sortGlist)"
   ]
  },
  {
   "cell_type": "code",
   "execution_count": 7,
   "metadata": {
    "collapsed": false
   },
   "outputs": [
    {
     "data": {
      "text/plain": [
       "['C00017726', 'C00026595', 'C00026596', 'C00015228', 'C00015229']"
      ]
     },
     "execution_count": 7,
     "metadata": {},
     "output_type": "execute_result"
    }
   ],
   "source": [
    "sortGlist[1][0].nodes()"
   ]
  },
  {
   "cell_type": "code",
   "execution_count": 2,
   "metadata": {
    "collapsed": false
   },
   "outputs": [],
   "source": [
    "f = MCS_Finder(\"Streptomyces\")\n",
    "Clist = f.get_Cnlist_from_label2(\"C(C)-C(C)-C(C-C-C-C-C-C)-C-C-C-C-C-C-C-C-C\")"
   ]
  },
  {
   "cell_type": "code",
   "execution_count": 3,
   "metadata": {
    "collapsed": false
   },
   "outputs": [
    {
     "name": "stdout",
     "output_type": "stream",
     "text": [
      "['C00015228', 'C00015229', 'C00016476', 'C00016751', 'C00016938', 'C00017103', 'C00017237', 'C00017544', 'C00017573', 'C00017671', 'C00017726', 'C00017791', 'C00017792', 'C00018127', 'C00024753', 'C00026595', 'C00026596', 'C00028349', 'C00028350', 'C00028707']\n"
     ]
    }
   ],
   "source": [
    "print(Clist)"
   ]
  },
  {
   "cell_type": "code",
   "execution_count": 11,
   "metadata": {
    "collapsed": false
   },
   "outputs": [
    {
     "name": "stdout",
     "output_type": "stream",
     "text": [
      "http://rest.genome.jp/simcomp/C00015228/knapsack 1\n",
      "http://rest.genome.jp/simcomp/C00015229/knapsack 2\n",
      "http://rest.genome.jp/simcomp/C00016476/knapsack 3\n",
      "http://rest.genome.jp/simcomp/C00016751/knapsack 4\n",
      "http://rest.genome.jp/simcomp/C00016938/knapsack 5\n",
      "http://rest.genome.jp/simcomp/C00017103/knapsack 6\n",
      "http://rest.genome.jp/simcomp/C00017237/knapsack 7\n",
      "http://rest.genome.jp/simcomp/C00017544/knapsack 8\n",
      "http://rest.genome.jp/simcomp/C00017573/knapsack 9\n",
      "http://rest.genome.jp/simcomp/C00017671/knapsack 10\n",
      "http://rest.genome.jp/simcomp/C00017726/knapsack 11\n",
      "http://rest.genome.jp/simcomp/C00017791/knapsack 12\n",
      "http://rest.genome.jp/simcomp/C00017792/knapsack 13\n",
      "http://rest.genome.jp/simcomp/C00018127/knapsack 14\n",
      "http://rest.genome.jp/simcomp/C00024753/knapsack 15\n",
      "http://rest.genome.jp/simcomp/C00026595/knapsack 16\n",
      "http://rest.genome.jp/simcomp/C00026596/knapsack 17\n",
      "http://rest.genome.jp/simcomp/C00028349/knapsack 18\n",
      "http://rest.genome.jp/simcomp/C00028350/knapsack 19\n",
      "http://rest.genome.jp/simcomp/C00028707/knapsack 20\n",
      "CPU times: user 6.41 ms, sys: 4.36 ms, total: 10.8 ms\n",
      "Wall time: 7.3 ms\n"
     ]
    }
   ],
   "source": [
    "%%time\n",
    "i = 0\n",
    "for Cnumber in Clist:\n",
    "    filepath = \"SIMCOMP2/\" + Cnumber + \".txt\"\n",
    "    if not os.path.exists(filepath):\n",
    "        url = \"http://rest.genome.jp/simcomp/\"+ Cnumber + \"/knapsack\"\n",
    "        i += 1\n",
    "        print(url, i)"
   ]
  },
  {
   "cell_type": "code",
   "execution_count": 16,
   "metadata": {
    "collapsed": true
   },
   "outputs": [],
   "source": [
    "import time\n",
    "import urllib"
   ]
  },
  {
   "cell_type": "code",
   "execution_count": 28,
   "metadata": {
    "collapsed": false
   },
   "outputs": [
    {
     "name": "stdout",
     "output_type": "stream",
     "text": [
      "CPU times: user 527 µs, sys: 659 µs, total: 1.19 ms\n",
      "Wall time: 644 µs\n"
     ]
    }
   ],
   "source": [
    "%%time\n",
    "i = 0\n",
    "t = time.time()\n",
    "dic = dict()\n",
    "for Cnumber in Clist:\n",
    "    filepath = \"SIMCOMP2/\" + Cnumber + \".txt\"\n",
    "    if not os.path.exists(filepath):\n",
    "        amalist = Clist.copy()\n",
    "        amalist.remove(Cnumber)\n",
    "        url = \"http://rest.genome.jp/simcomp2/\"+ Cnumber + \"/\"\n",
    "        for amali in amalist:\n",
    "            url += amali + \"+\"\n",
    "        url = url[:-1]\n",
    "        url += \"/cutoff=0.1\"\n",
    "        urllib.request.urlretrieve(url, filepath)\n",
    "        i += 1\n",
    "        print(url, i)\n",
    "        print(time.time() - t)\n",
    "        print(time.strftime(\"%X\"))\n",
    "        time.sleep(60)\n",
    "        if i == 4:\n",
    "            break"
   ]
  },
  {
   "cell_type": "code",
   "execution_count": 26,
   "metadata": {
    "collapsed": false
   },
   "outputs": [
    {
     "name": "stdout",
     "output_type": "stream",
     "text": [
      "CPU times: user 2.07 ms, sys: 2.18 ms, total: 4.25 ms\n",
      "Wall time: 1min\n"
     ]
    }
   ],
   "source": [
    "%%time\n",
    "time.sleep(60)"
   ]
  },
  {
   "cell_type": "markdown",
   "metadata": {},
   "source": [
    "SIMCOMP2を使って類似度を新しく出した。  \n",
    "これなら約2秒なので30倍くらいの短縮になる。"
   ]
  },
  {
   "cell_type": "code",
   "execution_count": 33,
   "metadata": {
    "collapsed": true
   },
   "outputs": [],
   "source": [
    "def temp3(mode=0):\n",
    "    G = nx.Graph()\n",
    "    pylab.figure(figsize=(10, 10))\n",
    "    scoredic = dict()\n",
    "    f = MCS_Finder(\"Streptomyces\")\n",
    "    Clist = f.get_Cnlist_from_label2(\"C(C)-C(C)-C(C-C-C-C-C-C)-C-C-C-C-C-C-C-C-C\")\n",
    "    for Cnumber in Clist:\n",
    "        filepath = \"SIMCOMP2/\" + Cnumber + \".txt\"\n",
    "        if not os.path.exists(filepath):\n",
    "            continue\n",
    "        with open(filepath, \"r\") as fi:\n",
    "            scorelist = []\n",
    "            score = fi.readline().split(\"\\t\")\n",
    "            score[2] = float(score[2][:-1])\n",
    "            if mode == 1:\n",
    "                while(score[1] > 0.9):\n",
    "                    scorelist.append(score)\n",
    "                    if score[0] in Clist and score[2] < 1:\n",
    "                        G = nxappend(G, Cnumber, score[0], score[1])\n",
    "                    score = fi.readline().split(\"\\t\")\n",
    "                    score[1] = float(score[1][:-1])\n",
    "            elif mode == 2:\n",
    "                try:\n",
    "                    while(True):\n",
    "                        scorelist.append(score)\n",
    "                        if score[2] < 1:\n",
    "                            G = nxappend(G, Cnumber, score[1], score[2])\n",
    "                        score = fi.readline().split(\"\\t\")\n",
    "                        score[2] = float(score[2][:-1])\n",
    "                except IndexError:\n",
    "                    pass\n",
    "            else:\n",
    "                for i in range(3):\n",
    "                    scorelist.append(score)\n",
    "                    if score[0] in Clist and score[1] < 1:\n",
    "                        G = nxappend(G, Cnumber, score[0], score[1])\n",
    "                    score = fi.readline().split(\"\\t\")\n",
    "                    score[1] = float(score[1][:-1])\n",
    "            scoredic[Cnumber] = scorelist\n",
    "    print(str(len(G.nodes())) + \"/\" + str(len(Clist)))\n",
    "    print(\"edge:\" + str(len(G.edges())))\n",
    "    return G\n",
    "    for g in nx.connected_component_subgraphs(G):\n",
    "        nx.draw_networkx(g)\n",
    "        plt.xticks([])\n",
    "        plt.yticks([])\n",
    "        plt.show()"
   ]
  },
  {
   "cell_type": "code",
   "execution_count": 35,
   "metadata": {
    "collapsed": false
   },
   "outputs": [
    {
     "name": "stdout",
     "output_type": "stream",
     "text": [
      "20/20\n",
      "edge:190\n",
      "20/20\n",
      "edge:190\n"
     ]
    }
   ],
   "source": [
    "G1 = temp2(2)\n",
    "G2 = temp3(2)"
   ]
  },
  {
   "cell_type": "code",
   "execution_count": 37,
   "metadata": {
    "collapsed": false
   },
   "outputs": [
    {
     "name": "stdout",
     "output_type": "stream",
     "text": [
      "[('C00017671', {}), ('C00026595', {}), ('C00017726', {}), ('C00017792', {}), ('C00016476', {}), ('C00017103', {}), ('C00016938', {}), ('C00015229', {}), ('C00017544', {}), ('C00028350', {}), ('C00016751', {}), ('C00028707', {}), ('C00017237', {}), ('C00018127', {}), ('C00024753', {}), ('C00015228', {}), ('C00028349', {}), ('C00026596', {}), ('C00017791', {}), ('C00017573', {})]\n",
      "[('C00017671', 'C00017791', {'weight': 0.662818}), ('C00017671', 'C00028350', {'weight': 0.869369}), ('C00017671', 'C00026596', {'weight': 0.76}), ('C00017671', 'C00017726', {'weight': 0.785714}), ('C00017671', 'C00017792', {'weight': 0.676768}), ('C00017671', 'C00016476', {'weight': 0.944444}), ('C00017671', 'C00017103', {'weight': 0.637555}), ('C00017671', 'C00016938', {'weight': 0.770833}), ('C00017671', 'C00015229', {'weight': 0.772908}), ('C00017671', 'C00026595', {'weight': 0.779141}), ('C00017671', 'C00016751', {'weight': 0.900452}), ('C00017671', 'C00028707', {'weight': 0.945701}), ('C00017671', 'C00017237', {'weight': 0.981567}), ('C00017671', 'C00018127', {'weight': 0.972158}), ('C00017671', 'C00024753', {'weight': 0.99536}), ('C00017671', 'C00015228', {'weight': 0.763527}), ('C00017671', 'C00028349', {'weight': 0.885057}), ('C00017671', 'C00017544', {'weight': 0.910112}), ('C00017671', 'C00017573', {'weight': 0.904762}), ('C00026595', 'C00017791', {'weight': 0.640449}), ('C00026595', 'C00028350', {'weight': 0.761006}), ('C00026595', 'C00015228', {'weight': 0.973684}), ('C00026595', 'C00017792', {'weight': 0.721311}), ('C00026595', 'C00016476', {'weight': 0.785714}), ('C00026595', 'C00017103', {'weight': 0.606765}), ('C00026595', 'C00016938', {'weight': 0.791667}), ('C00026595', 'C00015229', {'weight': 0.948052}), ('C00026595', 'C00016751', {'weight': 0.855895}), ('C00026595', 'C00028707', {'weight': 0.750503}), ('C00026595', 'C00017237', {'weight': 0.827731}), ('C00026595', 'C00018127', {'weight': 0.765914}), ('C00026595', 'C00024753', {'weight': 0.779141}), ('C00026595', 'C00017726', {'weight': 0.936937}), ('C00026595', 'C00028349', {'weight': 0.773504}), ('C00026595', 'C00026596', {'weight': 0.973392}), ('C00026595', 'C00017544', {'weight': 0.765914}), ('C00026595', 'C00017573', {'weight': 0.855895}), ('C00017726', 'C00017791', {'weight': 0.682464}), ('C00017726', 'C00015228', {'weight': 0.921053}), ('C00017726', 'C00017792', {'weight': 0.826281}), ('C00017726', 'C00016476', {'weight': 0.828194}), ('C00017726', 'C00017103', {'weight': 0.622807}), ('C00017726', 'C00016938', {'weight': 0.834061}), ('C00017726', 'C00015229', {'weight': 0.888412}), ('C00017726', 'C00028350', {'weight': 0.802198}), ('C00017726', 'C00016751', {'weight': 0.860987}), ('C00017726', 'C00028707', {'weight': 0.789474}), ('C00017726', 'C00017237', {'weight': 0.781971}), ('C00017726', 'C00018127', {'weight': 0.806452}), ('C00017726', 'C00028349', {'weight': 0.816143}), ('C00017726', 'C00024753', {'weight': 0.785714}), ('C00017726', 'C00026596', {'weight': 0.912088}), ('C00017726', 'C00017544', {'weight': 0.806452}), ('C00017726', 'C00017573', {'weight': 0.860987}), ('C00017792', 'C00028350', {'weight': 0.805869}), ('C00017792', 'C00026596', {'weight': 0.703407}), ('C00017792', 'C00016476', {'weight': 0.74946}), ('C00017792', 'C00017103', {'weight': 0.655172}), ('C00017792', 'C00016938', {'weight': 0.938534}), ('C00017792', 'C00015229', {'weight': 0.744422}), ('C00017792', 'C00017544', {'weight': 0.755889}), ('C00017792', 'C00028707', {'weight': 0.828194}), ('C00017792', 'C00017237', {'weight': 0.820175}), ('C00017792', 'C00018127', {'weight': 0.846847}), ('C00017792', 'C00028349', {'weight': 0.917476}), ('C00017792', 'C00015228', {'weight': 0.706827}), ('C00017792', 'C00024753', {'weight': 0.676768}), ('C00017792', 'C00016751', {'weight': 0.824324}), ('C00017792', 'C00017791', {'weight': 0.720698}), ('C00017792', 'C00017573', {'weight': 0.824324}), ('C00016476', 'C00028350', {'weight': 0.919431}), ('C00016476', 'C00017791', {'weight': 0.699029}), ('C00016476', 'C00028349', {'weight': 0.937046}), ('C00016476', 'C00015229', {'weight': 0.743487}), ('C00016476', 'C00016751', {'weight': 0.898148}), ('C00016476', 'C00017103', {'weight': 0.636771}), ('C00016476', 'C00028707', {'weight': 0.944444}), ('C00016476', 'C00017237', {'weight': 0.939954}), ('C00016476', 'C00018127', {'weight': 0.971496}), ('C00016476', 'C00024753', {'weight': 0.944444}), ('C00016476', 'C00015228', {'weight': 0.769547}), ('C00016476', 'C00026596', {'weight': 0.765914}), ('C00016476', 'C00017544', {'weight': 0.908046}), ('C00016476', 'C00017573', {'weight': 0.902552}), ('C00016476', 'C00016938', {'weight': 0.877828}), ('C00017103', 'C00028350', {'weight': 0.655172}), ('C00017103', 'C00015229', {'weight': 0.61157}), ('C00017103', 'C00028349', {'weight': 0.670588}), ('C00017103', 'C00024753', {'weight': 0.637555}), ('C00017103', 'C00017544', {'weight': 0.622807}), ('C00017103', 'C00016751', {'weight': 0.636771}), ('C00017103', 'C00028707', {'weight': 0.609442}), ('C00017103', 'C00017237', {'weight': 0.651982}), ('C00017103', 'C00018127', {'weight': 0.622807}), ('C00017103', 'C00016938', {'weight': 0.622807}), ('C00017103', 'C00015228', {'weight': 0.594203}), ('C00017103', 'C00026596', {'weight': 0.624473}), ('C00017103', 'C00017791', {'weight': 0.882716}), ('C00017103', 'C00017573', {'weight': 0.636771}), ('C00016938', 'C00028350', {'weight': 0.851016}), ('C00016938', 'C00017791', {'weight': 0.682464}), ('C00016938', 'C00028349', {'weight': 0.753247}), ('C00016938', 'C00015229', {'weight': 0.788618}), ('C00016938', 'C00016751', {'weight': 0.962175}), ('C00016938', 'C00028707', {'weight': 0.884701}), ('C00016938', 'C00017237', {'weight': 0.87638}), ('C00016938', 'C00018127', {'weight': 0.904762}), ('C00016938', 'C00024753', {'weight': 0.770833}), ('C00016938', 'C00015228', {'weight': 0.77551}), ('C00016938', 'C00026596', {'weight': 0.771894}), ('C00016938', 'C00017544', {'weight': 0.896163}), ('C00016938', 'C00017573', {'weight': 0.966825}), ('C00015229', 'C00017791', {'weight': 0.609442}), ('C00015229', 'C00028350', {'weight': 0.72}), ('C00015229', 'C00016751', {'weight': 0.8125}), ('C00015229', 'C00028707', {'weight': 0.745098}), ('C00015229', 'C00017237', {'weight': 0.787149}), ('C00015229', 'C00018127', {'weight': 0.76}), ('C00015229', 'C00024753', {'weight': 0.772908}), ('C00015229', 'C00015228', {'weight': 0.974359}), ('C00015229', 'C00028349', {'weight': 0.731161}), ('C00015229', 'C00026596', {'weight': 0.97397}), ('C00015229', 'C00017544', {'weight': 0.756487}), ('C00015229', 'C00017573', {'weight': 0.8125}), ('C00017544', 'C00028350', {'weight': 0.880734}), ('C00017544', 'C00026596', {'weight': 0.746988}), ('C00017544', 'C00016751', {'weight': 0.916859}), ('C00017544', 'C00028707', {'weight': 0.914414}), ('C00017544', 'C00017237', {'weight': 0.90583}), ('C00017544', 'C00018127', {'weight': 0.935484}), ('C00017544', 'C00024753', {'weight': 0.910112}), ('C00017544', 'C00015228', {'weight': 0.750503}), ('C00017544', 'C00028349', {'weight': 0.896956}), ('C00017544', 'C00017791', {'weight': 0.682464}), ('C00017544', 'C00017573', {'weight': 0.921296}), ('C00028350', 'C00026596', {'weight': 0.741803}), ('C00028350', 'C00028707', {'weight': 0.873589}), ('C00028350', 'C00017237', {'weight': 0.865169}), ('C00028350', 'C00018127', {'weight': 0.893764}), ('C00028350', 'C00024753', {'weight': 0.869369}), ('C00028350', 'C00015228', {'weight': 0.738241}), ('C00028350', 'C00028349', {'weight': 0.970075}), ('C00028350', 'C00016751', {'weight': 0.87067}), ('C00028350', 'C00017791', {'weight': 0.720698}), ('C00028350', 'C00017573', {'weight': 0.875}), ('C00016751', 'C00026596', {'weight': 0.833689}), ('C00016751', 'C00017791', {'weight': 0.699029}), ('C00016751', 'C00028707', {'weight': 0.904762}), ('C00016751', 'C00017237', {'weight': 0.900452}), ('C00016751', 'C00018127', {'weight': 0.925754}), ('C00016751', 'C00024753', {'weight': 0.900452}), ('C00016751', 'C00015228', {'weight': 0.833689}), ('C00016751', 'C00028349', {'weight': 0.886792}), ('C00016751', 'C00017573', {'weight': 0.995134}), ('C00028707', 'C00026596', {'weight': 0.732283}), ('C00028707', 'C00017237', {'weight': 0.941309}), ('C00028707', 'C00018127', {'weight': 0.972158}), ('C00028707', 'C00024753', {'weight': 0.945701}), ('C00028707', 'C00015228', {'weight': 0.763527}), ('C00028707', 'C00028349', {'weight': 0.889401}), ('C00028707', 'C00017791', {'weight': 0.666667}), ('C00028707', 'C00017573', {'weight': 0.909091}), ('C00017237', 'C00017791', {'weight': 0.658986}), ('C00017237', 'C00026596', {'weight': 0.806982}), ('C00017237', 'C00015228', {'weight': 0.806982}), ('C00017237', 'C00018127', {'weight': 0.967593}), ('C00017237', 'C00024753', {'weight': 0.981567}), ('C00017237', 'C00028349', {'weight': 0.880734}), ('C00017237', 'C00017573', {'weight': 0.900452}), ('C00018127', 'C00026596', {'weight': 0.746988}), ('C00018127', 'C00024753', {'weight': 0.972158}), ('C00018127', 'C00015228', {'weight': 0.750503}), ('C00018127', 'C00028349', {'weight': 0.910377}), ('C00018127', 'C00017791', {'weight': 0.682464}), ('C00018127', 'C00017573', {'weight': 0.930233}), ('C00024753', 'C00026596', {'weight': 0.76}), ('C00024753', 'C00028349', {'weight': 0.885057}), ('C00024753', 'C00015228', {'weight': 0.763527}), ('C00024753', 'C00017791', {'weight': 0.662818}), ('C00024753', 'C00017573', {'weight': 0.904762}), ('C00015228', 'C00026596', {'weight': 0.948052}), ('C00015228', 'C00017791', {'weight': 0.631579}), ('C00015228', 'C00028349', {'weight': 0.690141}), ('C00015228', 'C00017573', {'weight': 0.833689}), ('C00028349', 'C00026596', {'weight': 0.753653}), ('C00028349', 'C00017791', {'weight': 0.73913}), ('C00028349', 'C00017573', {'weight': 0.891253}), ('C00026596', 'C00017791', {'weight': 0.622807}), ('C00026596', 'C00017573', {'weight': 0.833689}), ('C00017791', 'C00017573', {'weight': 0.699029})]\n"
     ]
    }
   ],
   "source": [
    "print(G1.nodes(data=True))\n",
    "print(G1.edges(data=True))"
   ]
  },
  {
   "cell_type": "code",
   "execution_count": 40,
   "metadata": {
    "collapsed": false
   },
   "outputs": [
    {
     "name": "stdout",
     "output_type": "stream",
     "text": [
      "OK\n",
      "OK\n",
      "OK\n",
      "OK\n",
      "OK\n",
      "dame\n",
      "('C00017103', {}) ('C00017791', {})\n",
      "OK\n",
      "OK\n",
      "dame\n",
      "('C00017544', {}) ('C00028350', {})\n",
      "dame\n",
      "('C00028350', {}) ('C00016751', {})\n",
      "dame\n",
      "('C00016751', {}) ('C00017103', {})\n",
      "OK\n",
      "OK\n",
      "OK\n",
      "OK\n",
      "OK\n",
      "OK\n",
      "OK\n",
      "dame\n",
      "('C00017791', {}) ('C00017544', {})\n",
      "OK\n"
     ]
    }
   ],
   "source": [
    "for n1, n2 in zip(G1.nodes(data=True), G2.nodes(data=True)):\n",
    "    if n1 == n2:\n",
    "        print(\"OK\")\n",
    "    else:\n",
    "        print(\"dame\")\n",
    "        print(n1, n2)"
   ]
  },
  {
   "cell_type": "code",
   "execution_count": 42,
   "metadata": {
    "collapsed": false
   },
   "outputs": [
    {
     "name": "stdout",
     "output_type": "stream",
     "text": [
      "OK\n",
      "OK\n",
      "OK\n",
      "dame\n",
      "('C00017671', 'C00017726', {'weight': 0.785714}) ('C00017671', 'C00015228', {'weight': 0.792261})\n",
      "OK\n",
      "OK\n",
      "OK\n",
      "OK\n",
      "OK\n",
      "OK\n",
      "OK\n",
      "OK\n",
      "OK\n",
      "OK\n",
      "OK\n",
      "dame\n",
      "('C00017671', 'C00015228', {'weight': 0.763527}) ('C00017671', 'C00017726', {'weight': 0.785714})\n",
      "OK\n",
      "OK\n",
      "OK\n",
      "OK\n",
      "OK\n",
      "dame\n",
      "('C00026595', 'C00015228', {'weight': 0.973684}) ('C00026595', 'C00015228', {'weight': 0.973392})\n",
      "OK\n",
      "OK\n",
      "OK\n",
      "OK\n",
      "OK\n",
      "OK\n",
      "OK\n",
      "OK\n",
      "OK\n",
      "OK\n",
      "OK\n",
      "OK\n",
      "OK\n",
      "OK\n",
      "OK\n",
      "OK\n",
      "dame\n",
      "('C00017726', 'C00015228', {'weight': 0.921053}) ('C00017726', 'C00015228', {'weight': 0.912088})\n",
      "OK\n",
      "OK\n",
      "OK\n",
      "OK\n",
      "OK\n",
      "OK\n",
      "OK\n",
      "OK\n",
      "OK\n",
      "OK\n",
      "OK\n",
      "OK\n",
      "OK\n",
      "OK\n",
      "OK\n",
      "dame\n",
      "('C00017792', 'C00028350', {'weight': 0.805869}) ('C00017792', 'C00017791', {'weight': 0.720698})\n",
      "dame\n",
      "('C00017792', 'C00026596', {'weight': 0.703407}) ('C00017792', 'C00028350', {'weight': 0.805869})\n",
      "dame\n",
      "('C00017792', 'C00016476', {'weight': 0.74946}) ('C00017792', 'C00015228', {'weight': 0.763485})\n",
      "dame\n",
      "('C00017792', 'C00017103', {'weight': 0.655172}) ('C00017792', 'C00016476', {'weight': 0.74946})\n",
      "dame\n",
      "('C00017792', 'C00016938', {'weight': 0.938534}) ('C00017792', 'C00017103', {'weight': 0.655172})\n",
      "dame\n",
      "('C00017792', 'C00015229', {'weight': 0.744422}) ('C00017792', 'C00016938', {'weight': 0.938534})\n",
      "dame\n",
      "('C00017792', 'C00017544', {'weight': 0.755889}) ('C00017792', 'C00015229', {'weight': 0.744422})\n",
      "dame\n",
      "('C00017792', 'C00028707', {'weight': 0.828194}) ('C00017792', 'C00016751', {'weight': 0.824324})\n",
      "dame\n",
      "('C00017792', 'C00017237', {'weight': 0.820175}) ('C00017792', 'C00028707', {'weight': 0.828194})\n",
      "dame\n",
      "('C00017792', 'C00018127', {'weight': 0.846847}) ('C00017792', 'C00017237', {'weight': 0.820175})\n",
      "dame\n",
      "('C00017792', 'C00028349', {'weight': 0.917476}) ('C00017792', 'C00018127', {'weight': 0.846847})\n",
      "dame\n",
      "('C00017792', 'C00015228', {'weight': 0.706827}) ('C00017792', 'C00028349', {'weight': 0.917476})\n",
      "OK\n",
      "dame\n",
      "('C00017792', 'C00016751', {'weight': 0.824324}) ('C00017792', 'C00026596', {'weight': 0.703407})\n",
      "dame\n",
      "('C00017792', 'C00017791', {'weight': 0.720698}) ('C00017792', 'C00017544', {'weight': 0.755889})\n",
      "OK\n",
      "OK\n",
      "dame\n",
      "('C00016476', 'C00017791', {'weight': 0.699029}) ('C00016476', 'C00015228', {'weight': 0.762295})\n",
      "dame\n",
      "('C00016476', 'C00028349', {'weight': 0.937046}) ('C00016476', 'C00017791', {'weight': 0.699029})\n",
      "dame\n",
      "('C00016476', 'C00015229', {'weight': 0.743487}) ('C00016476', 'C00028349', {'weight': 0.937046})\n",
      "dame\n",
      "('C00016476', 'C00016751', {'weight': 0.898148}) ('C00016476', 'C00015229', {'weight': 0.743487})\n",
      "dame\n",
      "('C00016476', 'C00017103', {'weight': 0.636771}) ('C00016476', 'C00016751', {'weight': 0.898148})\n",
      "dame\n",
      "('C00016476', 'C00028707', {'weight': 0.944444}) ('C00016476', 'C00017103', {'weight': 0.636771})\n",
      "dame\n",
      "('C00016476', 'C00017237', {'weight': 0.939954}) ('C00016476', 'C00028707', {'weight': 0.944444})\n",
      "dame\n",
      "('C00016476', 'C00018127', {'weight': 0.971496}) ('C00016476', 'C00017237', {'weight': 0.939954})\n",
      "dame\n",
      "('C00016476', 'C00024753', {'weight': 0.944444}) ('C00016476', 'C00018127', {'weight': 0.971496})\n",
      "dame\n",
      "('C00016476', 'C00015228', {'weight': 0.769547}) ('C00016476', 'C00024753', {'weight': 0.944444})\n",
      "OK\n",
      "OK\n",
      "OK\n",
      "OK\n",
      "dame\n",
      "('C00017103', 'C00028350', {'weight': 0.655172}) ('C00017791', 'C00028350', {'weight': 0.720698})\n",
      "dame\n",
      "('C00017103', 'C00015229', {'weight': 0.61157}) ('C00017791', 'C00026596', {'weight': 0.622807})\n",
      "dame\n",
      "('C00017103', 'C00028349', {'weight': 0.670588}) ('C00017791', 'C00015228', {'weight': 0.626374})\n",
      "dame\n",
      "('C00017103', 'C00024753', {'weight': 0.637555}) ('C00017791', 'C00017103', {'weight': 0.882716})\n",
      "dame\n",
      "('C00017103', 'C00017544', {'weight': 0.622807}) ('C00017791', 'C00016938', {'weight': 0.682464})\n",
      "dame\n",
      "('C00017103', 'C00016751', {'weight': 0.636771}) ('C00017791', 'C00015229', {'weight': 0.609442})\n",
      "dame\n",
      "('C00017103', 'C00028707', {'weight': 0.609442}) ('C00017791', 'C00016751', {'weight': 0.699029})\n",
      "dame\n",
      "('C00017103', 'C00017237', {'weight': 0.651982}) ('C00017791', 'C00028707', {'weight': 0.666667})\n",
      "dame\n",
      "('C00017103', 'C00018127', {'weight': 0.622807}) ('C00017791', 'C00017237', {'weight': 0.658986})\n",
      "dame\n",
      "('C00017103', 'C00016938', {'weight': 0.622807}) ('C00017791', 'C00018127', {'weight': 0.682464})\n",
      "dame\n",
      "('C00017103', 'C00015228', {'weight': 0.594203}) ('C00017791', 'C00028349', {'weight': 0.73913})\n",
      "dame\n",
      "('C00017103', 'C00026596', {'weight': 0.624473}) ('C00017791', 'C00024753', {'weight': 0.662818})\n",
      "dame\n",
      "('C00017103', 'C00017791', {'weight': 0.882716}) ('C00017791', 'C00017544', {'weight': 0.682464})\n",
      "dame\n",
      "('C00017103', 'C00017573', {'weight': 0.636771}) ('C00017791', 'C00017573', {'weight': 0.699029})\n",
      "OK\n",
      "dame\n",
      "('C00016938', 'C00017791', {'weight': 0.682464}) ('C00016938', 'C00015228', {'weight': 0.808732})\n",
      "OK\n",
      "OK\n",
      "OK\n",
      "dame\n",
      "('C00016938', 'C00028707', {'weight': 0.884701}) ('C00016938', 'C00017103', {'weight': 0.622807})\n",
      "dame\n",
      "('C00016938', 'C00017237', {'weight': 0.87638}) ('C00016938', 'C00028707', {'weight': 0.884701})\n",
      "dame\n",
      "('C00016938', 'C00018127', {'weight': 0.904762}) ('C00016938', 'C00017237', {'weight': 0.87638})\n",
      "dame\n",
      "('C00016938', 'C00024753', {'weight': 0.770833}) ('C00016938', 'C00018127', {'weight': 0.904762})\n",
      "dame\n",
      "('C00016938', 'C00015228', {'weight': 0.77551}) ('C00016938', 'C00024753', {'weight': 0.770833})\n",
      "OK\n",
      "OK\n",
      "OK\n",
      "dame\n",
      "('C00015229', 'C00017791', {'weight': 0.609442}) ('C00015229', 'C00017103', {'weight': 0.61157})\n",
      "OK\n",
      "OK\n",
      "OK\n",
      "OK\n",
      "OK\n",
      "OK\n",
      "dame\n",
      "('C00015229', 'C00015228', {'weight': 0.974359}) ('C00015229', 'C00015228', {'weight': 0.97397})\n",
      "OK\n",
      "OK\n",
      "OK\n",
      "OK\n",
      "dame\n",
      "('C00017544', 'C00028350', {'weight': 0.880734}) ('C00028350', 'C00015228', {'weight': 0.738241})\n",
      "dame\n",
      "('C00017544', 'C00026596', {'weight': 0.746988}) ('C00028350', 'C00017103', {'weight': 0.655172})\n",
      "dame\n",
      "('C00017544', 'C00016751', {'weight': 0.916859}) ('C00028350', 'C00016751', {'weight': 0.87067})\n",
      "dame\n",
      "('C00017544', 'C00028707', {'weight': 0.914414}) ('C00028350', 'C00028707', {'weight': 0.873589})\n",
      "dame\n",
      "('C00017544', 'C00017237', {'weight': 0.90583}) ('C00028350', 'C00017237', {'weight': 0.865169})\n",
      "dame\n",
      "('C00017544', 'C00018127', {'weight': 0.935484}) ('C00028350', 'C00018127', {'weight': 0.893764})\n",
      "dame\n",
      "('C00017544', 'C00024753', {'weight': 0.910112}) ('C00028350', 'C00024753', {'weight': 0.869369})\n",
      "dame\n",
      "('C00017544', 'C00015228', {'weight': 0.750503}) ('C00028350', 'C00028349', {'weight': 0.970075})\n",
      "dame\n",
      "('C00017544', 'C00028349', {'weight': 0.896956}) ('C00028350', 'C00026596', {'weight': 0.741803})\n",
      "dame\n",
      "('C00017544', 'C00017791', {'weight': 0.682464}) ('C00028350', 'C00017544', {'weight': 0.880734})\n",
      "dame\n",
      "('C00017544', 'C00017573', {'weight': 0.921296}) ('C00028350', 'C00017573', {'weight': 0.875})\n",
      "dame\n",
      "('C00028350', 'C00026596', {'weight': 0.741803}) ('C00016751', 'C00026596', {'weight': 0.833689})\n",
      "dame\n",
      "('C00028350', 'C00028707', {'weight': 0.873589}) ('C00016751', 'C00015228', {'weight': 0.833689})\n",
      "dame\n",
      "('C00028350', 'C00017237', {'weight': 0.865169}) ('C00016751', 'C00017103', {'weight': 0.636771})\n",
      "dame\n",
      "('C00028350', 'C00018127', {'weight': 0.893764}) ('C00016751', 'C00028707', {'weight': 0.904762})\n",
      "dame\n",
      "('C00028350', 'C00024753', {'weight': 0.869369}) ('C00016751', 'C00017237', {'weight': 0.900452})\n",
      "dame\n",
      "('C00028350', 'C00015228', {'weight': 0.738241}) ('C00016751', 'C00018127', {'weight': 0.925754})\n",
      "dame\n",
      "('C00028350', 'C00028349', {'weight': 0.970075}) ('C00016751', 'C00024753', {'weight': 0.900452})\n",
      "dame\n",
      "('C00028350', 'C00016751', {'weight': 0.87067}) ('C00016751', 'C00028349', {'weight': 0.886792})\n",
      "dame\n",
      "('C00028350', 'C00017791', {'weight': 0.720698}) ('C00016751', 'C00017544', {'weight': 0.916859})\n",
      "dame\n",
      "('C00028350', 'C00017573', {'weight': 0.875}) ('C00016751', 'C00017573', {'weight': 0.995134})\n",
      "dame\n",
      "('C00016751', 'C00026596', {'weight': 0.833689}) ('C00017103', 'C00026596', {'weight': 0.624473})\n",
      "dame\n",
      "('C00016751', 'C00017791', {'weight': 0.699029}) ('C00017103', 'C00015228', {'weight': 0.594203})\n",
      "dame\n",
      "('C00016751', 'C00028707', {'weight': 0.904762}) ('C00017103', 'C00028349', {'weight': 0.670588})\n",
      "dame\n",
      "('C00016751', 'C00017237', {'weight': 0.900452}) ('C00017103', 'C00017544', {'weight': 0.622807})\n",
      "dame\n",
      "('C00016751', 'C00018127', {'weight': 0.925754}) ('C00017103', 'C00028707', {'weight': 0.609442})\n",
      "dame\n",
      "('C00016751', 'C00024753', {'weight': 0.900452}) ('C00017103', 'C00017237', {'weight': 0.651982})\n",
      "dame\n",
      "('C00016751', 'C00015228', {'weight': 0.833689}) ('C00017103', 'C00018127', {'weight': 0.622807})\n",
      "dame\n",
      "('C00016751', 'C00028349', {'weight': 0.886792}) ('C00017103', 'C00024753', {'weight': 0.637555})\n",
      "dame\n",
      "('C00016751', 'C00017573', {'weight': 0.995134}) ('C00017103', 'C00017573', {'weight': 0.636771})\n",
      "dame\n",
      "('C00028707', 'C00026596', {'weight': 0.732283}) ('C00028707', 'C00015228', {'weight': 0.763527})\n",
      "OK\n",
      "OK\n",
      "OK\n",
      "dame\n",
      "('C00028707', 'C00015228', {'weight': 0.763527}) ('C00028707', 'C00028349', {'weight': 0.889401})\n",
      "dame\n",
      "('C00028707', 'C00028349', {'weight': 0.889401}) ('C00028707', 'C00026596', {'weight': 0.732283})\n",
      "dame\n",
      "('C00028707', 'C00017791', {'weight': 0.666667}) ('C00028707', 'C00017544', {'weight': 0.914414})\n",
      "OK\n",
      "dame\n",
      "('C00017237', 'C00017791', {'weight': 0.658986}) ('C00017237', 'C00026596', {'weight': 0.806982})\n",
      "dame\n",
      "('C00017237', 'C00026596', {'weight': 0.806982}) ('C00017237', 'C00015228', {'weight': 0.806982})\n",
      "dame\n",
      "('C00017237', 'C00015228', {'weight': 0.806982}) ('C00017237', 'C00018127', {'weight': 0.967593})\n",
      "dame\n",
      "('C00017237', 'C00018127', {'weight': 0.967593}) ('C00017237', 'C00024753', {'weight': 0.981567})\n",
      "dame\n",
      "('C00017237', 'C00024753', {'weight': 0.981567}) ('C00017237', 'C00028349', {'weight': 0.880734})\n",
      "dame\n",
      "('C00017237', 'C00028349', {'weight': 0.880734}) ('C00017237', 'C00017544', {'weight': 0.90583})\n",
      "OK\n",
      "OK\n",
      "dame\n",
      "('C00018127', 'C00024753', {'weight': 0.972158}) ('C00018127', 'C00015228', {'weight': 0.779141})\n",
      "dame\n",
      "('C00018127', 'C00015228', {'weight': 0.750503}) ('C00018127', 'C00024753', {'weight': 0.972158})\n",
      "OK\n",
      "dame\n",
      "('C00018127', 'C00017791', {'weight': 0.682464}) ('C00018127', 'C00017544', {'weight': 0.935484})\n",
      "OK\n",
      "dame\n",
      "('C00024753', 'C00026596', {'weight': 0.76}) ('C00024753', 'C00015228', {'weight': 0.792261})\n",
      "OK\n",
      "dame\n",
      "('C00024753', 'C00015228', {'weight': 0.763527}) ('C00024753', 'C00026596', {'weight': 0.76})\n",
      "dame\n",
      "('C00024753', 'C00017791', {'weight': 0.662818}) ('C00024753', 'C00017544', {'weight': 0.910112})\n",
      "OK\n",
      "dame\n",
      "('C00015228', 'C00026596', {'weight': 0.948052}) ('C00015228', 'C00028349', {'weight': 0.75})\n",
      "dame\n",
      "('C00015228', 'C00017791', {'weight': 0.631579}) ('C00015228', 'C00026596', {'weight': 0.948052})\n",
      "dame\n",
      "('C00015228', 'C00028349', {'weight': 0.690141}) ('C00015228', 'C00017544', {'weight': 0.77551})\n",
      "OK\n",
      "OK\n",
      "dame\n",
      "('C00028349', 'C00017791', {'weight': 0.73913}) ('C00028349', 'C00017544', {'weight': 0.896956})\n",
      "OK\n",
      "dame\n",
      "('C00026596', 'C00017791', {'weight': 0.622807}) ('C00026596', 'C00017544', {'weight': 0.746988})\n",
      "OK\n",
      "dame\n",
      "('C00017791', 'C00017573', {'weight': 0.699029}) ('C00017544', 'C00017573', {'weight': 0.921296})\n"
     ]
    }
   ],
   "source": [
    "l1 = list()\n",
    "l2 = list()\n",
    "for e1, e2 in zip(G1.edges(data=True), G2.edges(data=True)):\n",
    "    if e1 == e2:\n",
    "        print(\"OK\")\n",
    "    else:\n",
    "        print(\"dame\")\n",
    "        print(e1, e2)\n",
    "        l1.append(e1)\n",
    "        l2.append(e2)"
   ]
  },
  {
   "cell_type": "code",
   "execution_count": 43,
   "metadata": {
    "collapsed": false
   },
   "outputs": [
    {
     "name": "stdout",
     "output_type": "stream",
     "text": [
      "[('C00017671', 'C00017726', {'weight': 0.785714}), ('C00017671', 'C00015228', {'weight': 0.763527}), ('C00026595', 'C00015228', {'weight': 0.973684}), ('C00017726', 'C00015228', {'weight': 0.921053}), ('C00017792', 'C00028350', {'weight': 0.805869}), ('C00017792', 'C00026596', {'weight': 0.703407}), ('C00017792', 'C00016476', {'weight': 0.74946}), ('C00017792', 'C00017103', {'weight': 0.655172}), ('C00017792', 'C00016938', {'weight': 0.938534}), ('C00017792', 'C00015229', {'weight': 0.744422}), ('C00017792', 'C00017544', {'weight': 0.755889}), ('C00017792', 'C00028707', {'weight': 0.828194}), ('C00017792', 'C00017237', {'weight': 0.820175}), ('C00017792', 'C00018127', {'weight': 0.846847}), ('C00017792', 'C00028349', {'weight': 0.917476}), ('C00017792', 'C00015228', {'weight': 0.706827}), ('C00017792', 'C00016751', {'weight': 0.824324}), ('C00017792', 'C00017791', {'weight': 0.720698}), ('C00016476', 'C00017791', {'weight': 0.699029}), ('C00016476', 'C00028349', {'weight': 0.937046}), ('C00016476', 'C00015229', {'weight': 0.743487}), ('C00016476', 'C00016751', {'weight': 0.898148}), ('C00016476', 'C00017103', {'weight': 0.636771}), ('C00016476', 'C00028707', {'weight': 0.944444}), ('C00016476', 'C00017237', {'weight': 0.939954}), ('C00016476', 'C00018127', {'weight': 0.971496}), ('C00016476', 'C00024753', {'weight': 0.944444}), ('C00016476', 'C00015228', {'weight': 0.769547}), ('C00017103', 'C00028350', {'weight': 0.655172}), ('C00017103', 'C00015229', {'weight': 0.61157}), ('C00017103', 'C00028349', {'weight': 0.670588}), ('C00017103', 'C00024753', {'weight': 0.637555}), ('C00017103', 'C00017544', {'weight': 0.622807}), ('C00017103', 'C00016751', {'weight': 0.636771}), ('C00017103', 'C00028707', {'weight': 0.609442}), ('C00017103', 'C00017237', {'weight': 0.651982}), ('C00017103', 'C00018127', {'weight': 0.622807}), ('C00017103', 'C00016938', {'weight': 0.622807}), ('C00017103', 'C00015228', {'weight': 0.594203}), ('C00017103', 'C00026596', {'weight': 0.624473}), ('C00017103', 'C00017791', {'weight': 0.882716}), ('C00017103', 'C00017573', {'weight': 0.636771}), ('C00016938', 'C00017791', {'weight': 0.682464}), ('C00016938', 'C00028707', {'weight': 0.884701}), ('C00016938', 'C00017237', {'weight': 0.87638}), ('C00016938', 'C00018127', {'weight': 0.904762}), ('C00016938', 'C00024753', {'weight': 0.770833}), ('C00016938', 'C00015228', {'weight': 0.77551}), ('C00015229', 'C00017791', {'weight': 0.609442}), ('C00015229', 'C00015228', {'weight': 0.974359}), ('C00017544', 'C00028350', {'weight': 0.880734}), ('C00017544', 'C00026596', {'weight': 0.746988}), ('C00017544', 'C00016751', {'weight': 0.916859}), ('C00017544', 'C00028707', {'weight': 0.914414}), ('C00017544', 'C00017237', {'weight': 0.90583}), ('C00017544', 'C00018127', {'weight': 0.935484}), ('C00017544', 'C00024753', {'weight': 0.910112}), ('C00017544', 'C00015228', {'weight': 0.750503}), ('C00017544', 'C00028349', {'weight': 0.896956}), ('C00017544', 'C00017791', {'weight': 0.682464}), ('C00017544', 'C00017573', {'weight': 0.921296}), ('C00028350', 'C00026596', {'weight': 0.741803}), ('C00028350', 'C00028707', {'weight': 0.873589}), ('C00028350', 'C00017237', {'weight': 0.865169}), ('C00028350', 'C00018127', {'weight': 0.893764}), ('C00028350', 'C00024753', {'weight': 0.869369}), ('C00028350', 'C00015228', {'weight': 0.738241}), ('C00028350', 'C00028349', {'weight': 0.970075}), ('C00028350', 'C00016751', {'weight': 0.87067}), ('C00028350', 'C00017791', {'weight': 0.720698}), ('C00028350', 'C00017573', {'weight': 0.875}), ('C00016751', 'C00026596', {'weight': 0.833689}), ('C00016751', 'C00017791', {'weight': 0.699029}), ('C00016751', 'C00028707', {'weight': 0.904762}), ('C00016751', 'C00017237', {'weight': 0.900452}), ('C00016751', 'C00018127', {'weight': 0.925754}), ('C00016751', 'C00024753', {'weight': 0.900452}), ('C00016751', 'C00015228', {'weight': 0.833689}), ('C00016751', 'C00028349', {'weight': 0.886792}), ('C00016751', 'C00017573', {'weight': 0.995134}), ('C00028707', 'C00026596', {'weight': 0.732283}), ('C00028707', 'C00015228', {'weight': 0.763527}), ('C00028707', 'C00028349', {'weight': 0.889401}), ('C00028707', 'C00017791', {'weight': 0.666667}), ('C00017237', 'C00017791', {'weight': 0.658986}), ('C00017237', 'C00026596', {'weight': 0.806982}), ('C00017237', 'C00015228', {'weight': 0.806982}), ('C00017237', 'C00018127', {'weight': 0.967593}), ('C00017237', 'C00024753', {'weight': 0.981567}), ('C00017237', 'C00028349', {'weight': 0.880734}), ('C00018127', 'C00024753', {'weight': 0.972158}), ('C00018127', 'C00015228', {'weight': 0.750503}), ('C00018127', 'C00017791', {'weight': 0.682464}), ('C00024753', 'C00026596', {'weight': 0.76}), ('C00024753', 'C00015228', {'weight': 0.763527}), ('C00024753', 'C00017791', {'weight': 0.662818}), ('C00015228', 'C00026596', {'weight': 0.948052}), ('C00015228', 'C00017791', {'weight': 0.631579}), ('C00015228', 'C00028349', {'weight': 0.690141}), ('C00028349', 'C00017791', {'weight': 0.73913}), ('C00026596', 'C00017791', {'weight': 0.622807}), ('C00017791', 'C00017573', {'weight': 0.699029})]\n"
     ]
    }
   ],
   "source": [
    "print(l1)"
   ]
  },
  {
   "cell_type": "code",
   "execution_count": 80,
   "metadata": {
    "collapsed": false
   },
   "outputs": [
    {
     "name": "stdout",
     "output_type": "stream",
     "text": [
      "('C00017671', 'C00015228')\n",
      "{'weight': 0.763527} {'weight': 0.792261}\n",
      "weight違い\n",
      "('C00026595', 'C00015228')\n",
      "{'weight': 0.973684} {'weight': 0.973392}\n",
      "weight違い\n",
      "('C00017726', 'C00015228')\n",
      "{'weight': 0.921053} {'weight': 0.912088}\n",
      "weight違い\n",
      "('C00017792', 'C00015228')\n",
      "{'weight': 0.706827} {'weight': 0.763485}\n",
      "weight違い\n",
      "('C00016476', 'C00015228')\n",
      "{'weight': 0.769547} {'weight': 0.762295}\n",
      "weight違い\n",
      "('C00016938', 'C00015228')\n",
      "{'weight': 0.77551} {'weight': 0.808732}\n",
      "weight違い\n",
      "('C00015229', 'C00015228')\n",
      "{'weight': 0.974359} {'weight': 0.97397}\n",
      "weight違い\n",
      "('C00017544', 'C00015228')\n",
      "{'weight': 0.750503} {'weight': 0.77551}\n",
      "weight違い\n",
      "('C00018127', 'C00015228')\n",
      "{'weight': 0.750503} {'weight': 0.779141}\n",
      "weight違い\n",
      "('C00024753', 'C00015228')\n",
      "{'weight': 0.763527} {'weight': 0.792261}\n",
      "weight違い\n",
      "('C00015228', 'C00017791')\n",
      "{'weight': 0.631579} {'weight': 0.626374}\n",
      "weight違い\n",
      "('C00015228', 'C00028349')\n",
      "{'weight': 0.690141} {'weight': 0.75}\n",
      "weight違い\n",
      "0\n",
      "0\n"
     ]
    }
   ],
   "source": [
    "flag = [1] * len(l2)\n",
    "k = 0\n",
    "for e1 in l1:\n",
    "    for i, e2 in enumerate(l2):\n",
    "        if e1 == e2 and flag[i]:\n",
    "            # print(e1, \"OK\")\n",
    "            flag[i] = 0\n",
    "            break\n",
    "        elif e1[0] == e2[1] and e1[1] == e2[0] and e1[2] == e2[2] and flag[i]:\n",
    "            flag[i] = 0\n",
    "            break\n",
    "        elif e1[0] == e2[1] and e1[1] == e2[0] and flag[i]:\n",
    "            flag[i] = 0\n",
    "            print(e1[:2])\n",
    "            print(e1[2], e2[2])\n",
    "            print(\"weight違い\")\n",
    "            break\n",
    "        elif e1[0] == e2[0] and e1[1] == e2[1] and flag[i]:\n",
    "            flag[i] = 0\n",
    "            print(e1[:2])\n",
    "            print(e1[2], e2[2])\n",
    "            print(\"weight違い\")\n",
    "            break\n",
    "    else:\n",
    "        print(e1)\n",
    "        k += 1\n",
    "print(k)\n",
    "k = 0\n",
    "for i , e2 in enumerate(l2):\n",
    "    if flag[i]:\n",
    "        print(e2)\n",
    "        k += 1\n",
    "print(k)"
   ]
  },
  {
   "cell_type": "code",
   "execution_count": 48,
   "metadata": {
    "collapsed": false
   },
   "outputs": [
    {
     "name": "stdout",
     "output_type": "stream",
     "text": [
      "102\n"
     ]
    }
   ],
   "source": [
    "print(len(l1))"
   ]
  },
  {
   "cell_type": "code",
   "execution_count": 49,
   "metadata": {
    "collapsed": false
   },
   "outputs": [
    {
     "name": "stdout",
     "output_type": "stream",
     "text": [
      "190\n"
     ]
    }
   ],
   "source": [
    "print(len(G1.edges(data=True)))"
   ]
  },
  {
   "cell_type": "code",
   "execution_count": 63,
   "metadata": {
    "collapsed": false
   },
   "outputs": [
    {
     "name": "stdout",
     "output_type": "stream",
     "text": [
      "190\n"
     ]
    }
   ],
   "source": [
    "print(len(G2.edges(data=True)))"
   ]
  },
  {
   "cell_type": "code",
   "execution_count": 54,
   "metadata": {
    "collapsed": false
   },
   "outputs": [
    {
     "name": "stdout",
     "output_type": "stream",
     "text": [
      "102\n"
     ]
    }
   ],
   "source": [
    "print(len(l2))"
   ]
  },
  {
   "cell_type": "markdown",
   "metadata": {},
   "source": [
    "数週間前に取った時と値が全然違うやつがある  \n",
    "SIMCOMP2に入ってるやつが正しそう"
   ]
  },
  {
   "cell_type": "code",
   "execution_count": 81,
   "metadata": {
    "collapsed": true
   },
   "outputs": [],
   "source": [
    "f = MCS_Finder(\"Streptomyces\")"
   ]
  },
  {
   "cell_type": "code",
   "execution_count": 82,
   "metadata": {
    "collapsed": false
   },
   "outputs": [
    {
     "name": "stdout",
     "output_type": "stream",
     "text": [
      "finish getting Cnumber\n"
     ]
    }
   ],
   "source": [
    "all_Clist = f.get_Cnumber(f.get_html(f.gene))"
   ]
  },
  {
   "cell_type": "code",
   "execution_count": 83,
   "metadata": {
    "collapsed": false
   },
   "outputs": [
    {
     "name": "stdout",
     "output_type": "stream",
     "text": [
      "1891\n"
     ]
    }
   ],
   "source": [
    "print(len(all_Clist))"
   ]
  },
  {
   "cell_type": "code",
   "execution_count": 84,
   "metadata": {
    "collapsed": false
   },
   "outputs": [
    {
     "name": "stdout",
     "output_type": "stream",
     "text": [
      "100\n"
     ]
    }
   ],
   "source": [
    "temp = all_Clist[:100]\n",
    "print(len(temp))"
   ]
  },
  {
   "cell_type": "code",
   "execution_count": 98,
   "metadata": {
    "collapsed": false
   },
   "outputs": [
    {
     "name": "stdout",
     "output_type": "stream",
     "text": [
      "http://rest.genome.jp/simcomp2/C00015228/C00000108+C00000109+C00000112+C00000114+C00000146+C00000334+C00000336+C00000339+C00000340+C00000368+C00000369+C00000370+C00000371+C00000372+C00000373+C00000374+C00000375+C00000376+C00000377+C00000379+C00000380+C00000381+C00000382+C00000383+C00000384+C00000385+C00000486+C00000730+C00000733+C00000734+C00000740+C00000744+C00000747+C00000748+C00000750+C00000752+C00000753+C00000778+C00000779+C00000780+C00000782+C00000783+C00000785+C00000787+C00000788+C00000789+C00000790+C00000791+C00000793+C00000794+C00000795+C00000796+C00000797+C00000798+C00000799+C00000800+C00000801+C00000846+C00000905+C00000906+C00000907+C00000908+C00000910+C00000911+C00000912+C00000913+C00000914+C00000916+C00000919+C00000926+C00001131+C00001152+C00001203+C00001354+C00001507+C00001775+C00002035+C00002037+C00002059+C00002350+C00002457+C00002461+C00002487+C00002564+C00002662+C00002669+C00002682+C00002845+C00008408+C00008409+C00009380+C00009384+C00009391+C00009475+C00009852+C00011026+C00012745+C00013224+C00014878+C00014887/cutoff=0.01 1\n",
      "2.6205179691314697\n",
      "16:47:34\n",
      "CPU times: user 2.97 ms, sys: 2.56 ms, total: 5.53 ms\n",
      "Wall time: 2.62 s\n"
     ]
    }
   ],
   "source": [
    "%%time\n",
    "i = 0\n",
    "t = time.time()\n",
    "dic = dict()\n",
    "Cnumber = \"C00015228\"\n",
    "filepath = \"SIMCOMP2/\" + Cnumber + \"test.txt\"\n",
    "url = \"http://rest.genome.jp/simcomp2/\"+ Cnumber + \"/\"\n",
    "for tem in temp:\n",
    "    url += tem + \"+\"\n",
    "url = url[:-1]\n",
    "url += \"/cutoff=0.01\"\n",
    "urllib.request.urlretrieve(url, filepath)\n",
    "i += 1\n",
    "print(url, i)\n",
    "print(time.time() - t)\n",
    "print(time.strftime(\"%X\"))"
   ]
  },
  {
   "cell_type": "markdown",
   "metadata": {},
   "source": [
    "この速度なら1900こまとめてやっても平気そう？"
   ]
  },
  {
   "cell_type": "code",
   "execution_count": 99,
   "metadata": {
    "collapsed": false
   },
   "outputs": [
    {
     "name": "stdout",
     "output_type": "stream",
     "text": [
      "http://rest.genome.jp/simcomp2/C00015228/C00000108+C00000109+C00000112+C00000114+C00000146+C00000334+C00000336+C00000339+C00000340+C00000368+C00000369+C00000370+C00000371+C00000372+C00000373+C00000374+C00000375+C00000376+C00000377+C00000379+C00000380+C00000381+C00000382+C00000383+C00000384+C00000385+C00000486+C00000730+C00000733+C00000734+C00000740+C00000744+C00000747+C00000748+C00000750+C00000752+C00000753+C00000778+C00000779+C00000780+C00000782+C00000783+C00000785+C00000787+C00000788+C00000789+C00000790+C00000791+C00000793+C00000794+C00000795+C00000796+C00000797+C00000798+C00000799+C00000800+C00000801+C00000846+C00000905+C00000906+C00000907+C00000908+C00000910+C00000911+C00000912+C00000913+C00000914+C00000916+C00000919+C00000926+C00001131+C00001152+C00001203+C00001354+C00001507+C00001775+C00002035+C00002037+C00002059+C00002350+C00002457+C00002461+C00002487+C00002564+C00002662+C00002669+C00002682+C00002845+C00008408+C00008409+C00009380+C00009384+C00009391+C00009475+C00009852+C00011026+C00012745+C00013224+C00014878+C00014887+C00014895+C00014909+C00014915+C00014916+C00014917+C00014920+C00014921+C00014922+C00014934+C00014940+C00014954+C00014955+C00014958+C00014973+C00014974+C00014975+C00014976+C00014981+C00014982+C00014983+C00014984+C00014985+C00014986+C00014987+C00015008+C00015009+C00015010+C00015011+C00015012+C00015013+C00015014+C00015015+C00015016+C00015018+C00015028+C00015029+C00015030+C00015031+C00015032+C00015033+C00015034+C00015035+C00015036+C00015037+C00015038+C00015039+C00015040+C00015041+C00015059+C00015060+C00015061+C00015062+C00015063+C00015064+C00015065+C00015066+C00015067+C00015068+C00015069+C00015082+C00015083+C00015085+C00015086+C00015087+C00015088+C00015093+C00015094+C00015095+C00015096+C00015097+C00015098+C00015099+C00015100+C00015101+C00015103+C00015123+C00015131+C00015132+C00015143+C00015144+C00015146+C00015153+C00015155+C00015156+C00015157+C00015158+C00015159+C00015173+C00015180+C00015185+C00015219+C00015220+C00015224+C00015225+C00015226+C00015227+C00015228+C00015229+C00015232+C00015235+C00015336+C00015337+C00015338+C00015339+C00015340+C00015341+C00015342+C00015343+C00015350+C00015351+C00015352+C00015353+C00015354+C00015355+C00015356+C00015357+C00015359+C00015362+C00015363+C00015364+C00015367+C00015368+C00015374+C00015375+C00015380+C00015381+C00015382+C00015391+C00015413+C00015417+C00015418+C00015419+C00015453+C00015454+C00015465+C00015466+C00015467+C00015468+C00015481+C00015482+C00015484+C00015485+C00015494+C00015498+C00015511+C00015512+C00015513+C00015514+C00015518+C00015519+C00015570+C00015571+C00015575+C00015577+C00015579+C00015580+C00015581+C00015582+C00015583+C00015592+C00015593+C00015594+C00015595+C00015596+C00015597+C00015598+C00015599+C00015600+C00015602+C00015611+C00015612+C00015613+C00015620+C00015621+C00015625+C00015626+C00015627+C00015628+C00015629+C00015637+C00015638+C00015647+C00015657+C00015658+C00015659+C00015664+C00015665+C00015666+C00015667+C00015669+C00015670+C00015694+C00015701+C00015713+C00015718+C00015719+C00015720+C00015722+C00015723+C00015724+C00015725+C00015726+C00015727+C00015728+C00015729+C00015908+C00015918+C00015919+C00015921+C00015929+C00015930+C00015931+C00015932+C00015940+C00015941+C00015942+C00015943+C00015944+C00015945+C00015949+C00015950+C00015951+C00015952+C00015955+C00015956+C00015957+C00015958+C00015960+C00015961+C00015962+C00015963+C00015972+C00015979+C00015981+C00015982+C00015983+C00015984+C00015985+C00015986+C00015992+C00015999+C00016001+C00016002+C00016003+C00016008+C00016022+C00016025+C00016029+C00016030+C00016032+C00016053+C00016056+C00016060+C00016061+C00016062+C00016063+C00016069+C00016070+C00016071+C00016074+C00016075+C00016090+C00016091+C00016093+C00016094+C00016095+C00016096+C00016098+C00016099+C00016100+C00016103+C00016104+C00016111+C00016112+C00016113+C00016114+C00016125+C00016126+C00016127+C00016128+C00016131+C00016132+C00016133+C00016134+C00016135+C00016144+C00016161+C00016163+C00016164+C00016165+C00016166+C00016167+C00016170+C00016171+C00016172+C00016173+C00016182+C00016183+C00016208+C00016211+C00016212+C00016214+C00016215+C00016219+C00016220+C00016221+C00016222+C00016223+C00016239+C00016240+C00016241+C00016242+C00016243+C00016244+C00016245+C00016248+C00016249+C00016250+C00016254+C00016263+C00016265+C00016267+C00016268+C00016269+C00016270+C00016276+C00016277+C00016278+C00016279+C00016280+C00016283+C00016287+C00016297+C00016298+C00016309+C00016310+C00016314+C00016315+C00016316+C00016323+C00016331+C00016332+C00016333+C00016334+C00016335+C00016343+C00016344+C00016346+C00016347+C00016355+C00016356+C00016357+C00016358+C00016359+C00016360+C00016367+C00016399+C00016412+C00016413+C00016416+C00016419+C00016422+C00016423+C00016424+C00016425+C00016426+C00016427+C00016428+C00016429+C00016430+C00016431+C00016432+C00016433+C00016450+C00016451+C00016452+C00016462+C00016473+C00016474+C00016475+C00016476+C00016477+C00016478+C00016479+C00016480+C00016481+C00016482+C00016488+C00016491+C00016492+C00016493+C00016494+C00016495+C00016497+C00016498+C00016499+C00016500+C00016515+C00016518+C00016519+C00016520+C00016521+C00016522+C00016531+C00016533+C00016540+C00016542+C00016543+C00016546+C00016547+C00016552+C00016553+C00016554+C00016557+C00016568+C00016569+C00016584+C00016585+C00016588+C00016589+C00016590+C00016594+C00016595+C00016596+C00016600+C00016601+C00016602+C00016603+C00016604+C00016610+C00016611+C00016616+C00016617+C00016618+C00016619+C00016620+C00016621+C00016624+C00016625+C00016626+C00016631+C00016632+C00016633+C00016634+C00016635+C00016636+C00016637+C00016650+C00016651+C00016652+C00016653+C00016656+C00016657+C00016660+C00016661+C00016662+C00016669+C00016670+C00016671+C00016672+C00016673+C00016674+C00016675+C00016676+C00016683+C00016684+C00016689+C00016690+C00016692+C00016693+C00016703+C00016705+C00016713+C00016714+C00016716+C00016717+C00016718+C00016719+C00016720+C00016721+C00016722+C00016728+C00016729+C00016736+C00016739+C00016741+C00016742+C00016743+C00016744+C00016745+C00016747+C00016748+C00016749+C00016750+C00016751+C00016752+C00016753+C00016754+C00016763+C00016764+C00016765+C00016768+C00016770+C00016773+C00016774+C00016775+C00016776+C00016779+C00016780+C00016781+C00016782+C00016784+C00016785+C00016787+C00016788+C00016789+C00016791+C00016815+C00016816+C00016818+C00016821+C00016822+C00016823+C00016824+C00016825+C00016832+C00016833+C00016834+C00016835+C00016838+C00016839+C00016840+C00016841+C00016843+C00016844+C00016845+C00016852+C00016853+C00016856+C00016863+C00016864+C00016865+C00016866+C00016867+C00016868+C00016869+C00016870+C00016872+C00016873+C00016874+C00016881+C00016882+C00016883+C00016884+C00016885+C00016886+C00016887+C00016888+C00016889+C00016890+C00016891+C00016892+C00016899+C00016904+C00016905+C00016906+C00016907+C00016908+C00016911+C00016915+C00016922+C00016925+C00016928+C00016934+C00016937+C00016938+C00016940+C00016941+C00016942+C00016945+C00016952+C00016953+C00016954+C00016955+C00017019+C00017020+C00017022+C00017023+C00017024+C00017025+C00017029+C00017030+C00017034+C00017035+C00017036+C00017037+C00017038+C00017039+C00017040+C00017041+C00017060+C00017063+C00017064+C00017067+C00017071+C00017072+C00017073+C00017074+C00017075+C00017078+C00017079+C00017081+C00017083+C00017084+C00017085+C00017086+C00017087+C00017088+C00017089+C00017090+C00017091+C00017094+C00017096+C00017098+C00017100+C00017101+C00017103+C00017114+C00017115+C00017116+C00017117+C00017118+C00017119+C00017120+C00017121+C00017122+C00017123+C00017126+C00017127+C00017128+C00017129+C00017130+C00017131+C00017132+C00017133+C00017153+C00017154+C00017155+C00017156+C00017157+C00017158+C00017159+C00017160+C00017161+C00017162+C00017166+C00017167+C00017168+C00017169+C00017170+C00017171+C00017172+C00017173+C00017174+C00017175+C00017176+C00017177+C00017178+C00017179+C00017180+C00017181+C00017182+C00017183+C00017184+C00017186+C00017187+C00017188+C00017189+C00017196+C00017197+C00017198+C00017199+C00017203+C00017204+C00017205+C00017217+C00017220+C00017221+C00017237+C00017238+C00017239+C00017240+C00017241+C00017242+C00017243+C00017247+C00017249+C00017253+C00017256+C00017275+C00017280+C00017281+C00017283+C00017284+C00017285+C00017287+C00017289+C00017531+C00017533+C00017534+C00017535+C00017536+C00017537+C00017538+C00017539+C00017540+C00017541+C00017542+C00017544+C00017549+C00017550+C00017555+C00017561+C00017562+C00017563+C00017564+C00017565+C00017566+C00017567+C00017569+C00017570+C00017571+C00017572+C00017573+C00017577+C00017578+C00017583+C00017584+C00017585+C00017586+C00017587+C00017593+C00017594+C00017601+C00017611+C00017612+C00017613+C00017614+C00017615+C00017616+C00017617+C00017620+C00017621+C00017625+C00017626+C00017629+C00017630+C00017631+C00017632+C00017633+C00017643+C00017644+C00017645+C00017646+C00017647+C00017649+C00017650+C00017651+C00017652+C00017655+C00017656+C00017657+C00017658+C00017659+C00017660+C00017662+C00017663+C00017664+C00017665+C00017667+C00017668+C00017669+C00017671+C00017672+C00017673+C00017674+C00017675+C00017676+C00017677+C00017678+C00017679+C00017680+C00017681+C00017682+C00017683+C00017684+C00017685+C00017686+C00017687+C00017688+C00017693+C00017694+C00017695+C00017696+C00017697+C00017698+C00017699+C00017701+C00017705+C00017707+C00017713+C00017714+C00017715+C00017716+C00017717+C00017718+C00017719+C00017720+C00017721+C00017722+C00017723+C00017724+C00017725+C00017726+C00017727+C00017728+C00017729+C00017733+C00017735+C00017736+C00017738+C00017739+C00017740+C00017741+C00017742+C00017743+C00017744+C00017745+C00017746+C00017747+C00017748+C00017749+C00017751+C00017752+C00017753+C00017754+C00017755+C00017756+C00017758+C00017760+C00017761+C00017762+C00017763+C00017764+C00017765+C00017766+C00017767+C00017772+C00017774+C00017775+C00017776+C00017777+C00017778+C00017779+C00017780+C00017782+C00017791+C00017792+C00017793+C00017794+C00017795+C00017796+C00017797+C00017798+C00017799+C00017800+C00017801+C00017802+C00017813+C00017814+C00017817+C00017818+C00017820+C00017821+C00017822+C00017823+C00017824+C00017825+C00017826+C00017827+C00017828+C00017829+C00017830+C00017832+C00017833+C00017836+C00017837+C00017838+C00017839+C00017840+C00017841+C00017843+C00017848+C00017849+C00017850+C00017851+C00017854+C00017855+C00017861+C00017863+C00017864+C00017866+C00017869+C00017870+C00017871+C00017872+C00017876+C00017878+C00017880+C00017881+C00017882+C00017884+C00017885+C00017886+C00017887+C00017888+C00017903+C00017904+C00017905+C00017907+C00017908+C00017912+C00017913+C00017921+C00017928+C00017929+C00017930+C00017931+C00017936+C00017937+C00017939+C00017940+C00017941+C00017943+C00017944+C00017945+C00017946+C00017947+C00017948+C00017949+C00017950+C00017951+C00017952+C00017953+C00017954+C00017955+C00017956+C00017958+C00017961+C00017962+C00017963+C00017964+C00017965+C00017966+C00017967+C00017968+C00017969+C00017970+C00017971+C00017972+C00017980+C00017981+C00017982+C00017983+C00017984+C00017986+C00017987+C00017990+C00017991+C00017992+C00017994+C00017995+C00017996+C00017997+C00017998+C00018000+C00018004+C00018006+C00018007+C00018008+C00018009+C00018010+C00018011+C00018012+C00018017+C00018018+C00018019+C00018020+C00018021+C00018022+C00018025+C00018027+C00018028+C00018030+C00018031+C00018033+C00018035+C00018036+C00018037+C00018038+C00018039+C00018040+C00018041+C00018042+C00018043+C00018044+C00018045+C00018047+C00018049+C00018050+C00018052+C00018053+C00018055+C00018057+C00018058+C00018059+C00018060+C00018061+C00018062+C00018063+C00018065+C00018066+C00018067+C00018068+C00018072+C00018073+C00018074+C00018075+C00018076+C00018077+C00018078+C00018079+C00018080+C00018081+C00018085+C00018087+C00018090+C00018091+C00018092+C00018094+C00018095+C00018096+C00018097+C00018098+C00018099+C00018101+C00018102+C00018103+C00018104+C00018105+C00018107+C00018108+C00018118+C00018119+C00018120+C00018121+C00018122+C00018123+C00018127+C00018134+C00018135+C00018139+C00018140+C00018141+C00018142+C00018143+C00018144+C00018145+C00018146+C00018147+C00018156+C00018157+C00018158+C00018159+C00018160+C00018161+C00018162+C00018163+C00018164+C00018165+C00018166+C00018167+C00018168+C00018169+C00018176+C00018177+C00018178+C00018179+C00018180+C00018181+C00018182+C00018183+C00018185+C00018186+C00018187+C00018188+C00018189+C00018190+C00018192+C00018193+C00018194+C00018195+C00018196+C00018197+C00018198+C00018199+C00018200+C00018201+C00018202+C00018203+C00018204+C00018205+C00018206+C00018210+C00018211+C00018212+C00018213+C00018215+C00018217+C00018218+C00018220+C00018221+C00018224+C00018225+C00018226+C00018228+C00018230+C00018231+C00018232+C00018233+C00018234+C00018236+C00018237+C00018238+C00018239+C00018243+C00018244+C00018245+C00018246+C00018247+C00018248+C00018249+C00018250+C00018256+C00018262+C00018263+C00018264+C00018265+C00018266+C00018267+C00018268+C00018275+C00018276+C00018277+C00018278+C00018287+C00018288+C00018290+C00018291+C00018294+C00018299+C00018300+C00018301+C00018302+C00018303+C00018304+C00018305+C00018306+C00018307+C00018310+C00018311+C00018312+C00018313+C00018314+C00018316+C00018320+C00018322+C00018323+C00018325+C00018326+C00018333+C00018334+C00018335+C00018339+C00018343+C00018344+C00018349+C00018350+C00018355+C00018356+C00018357+C00018362+C00018365+C00018366+C00018367+C00018368+C00018375+C00018376+C00018377+C00018378+C00018379+C00018380+C00018381+C00018382+C00018383+C00018384+C00018385+C00018387+C00018388+C00018389+C00018390+C00018392+C00018393+C00018394+C00018399+C00018400+C00018401+C00018403+C00018404+C00018405+C00018406+C00018407+C00018408+C00018409+C00018410+C00018412+C00018413+C00018414+C00018415+C00018416+C00018419+C00018420+C00018422+C00018423+C00018424+C00018426+C00018427+C00018430+C00018431+C00018432+C00018435+C00018436+C00018437+C00018438+C00018439+C00018443+C00018444+C00018445+C00018446+C00018447+C00018448+C00018449+C00018450+C00018451+C00018452+C00018453+C00018454+C00018455+C00018456+C00018457+C00018458+C00018459+C00018460+C00018461+C00018462+C00018463+C00018464+C00018465+C00018466+C00018468+C00018469+C00018470+C00018472+C00018473+C00018474+C00018475+C00018476+C00018477+C00018478+C00018479+C00018480+C00018481+C00018482+C00018483+C00018484+C00018485+C00018486+C00018489+C00018490+C00018492+C00018493+C00018499+C00018500+C00018502+C00018503+C00018505+C00018506+C00018511+C00018512+C00018513+C00018514+C00018515+C00018516+C00018517+C00018518+C00018519+C00018521+C00018522+C00018523+C00018525+C00018526+C00018527+C00018528+C00018529+C00018530+C00018535+C00018539+C00018545+C00018546+C00018549+C00018550+C00018551+C00018553+C00018554+C00018558+C00018559+C00018561+C00018562+C00018563+C00018564+C00018565+C00018566+C00018567+C00018568+C00018569+C00018571+C00018572+C00018573+C00018574+C00018575+C00018585+C00018587+C00018588+C00018589+C00018590+C00018595+C00018597+C00018598+C00018599+C00018600+C00018603+C00018604+C00018605+C00018608+C00018609+C00018611+C00018615+C00018617+C00018619+C00018620+C00018621+C00018622+C00018623+C00018624+C00018625+C00018629+C00018637+C00018638+C00018640+C00018641+C00018642+C00018644+C00018645+C00018646+C00018647+C00018648+C00018649+C00018650+C00018651+C00018652+C00018653+C00018655+C00018656+C00018657+C00018658+C00018659+C00018660+C00018661+C00018662+C00018663+C00018664+C00018665+C00018666+C00018667+C00018668+C00018669+C00018670+C00018671+C00018672+C00018673+C00018674+C00018675+C00018676+C00018677+C00018678+C00018680+C00018682+C00018683+C00018684+C00018685+C00018686+C00018687+C00018690+C00018692+C00018693+C00018694+C00018695+C00018696+C00018697+C00018700+C00018701+C00018702+C00018703+C00018704+C00018705+C00018708+C00018710+C00018712+C00018713+C00018716+C00018717+C00018718+C00018719+C00018720+C00018721+C00018722+C00018723+C00018724+C00018727+C00018728+C00018729+C00018730+C00018731+C00018732+C00018733+C00018734+C00018735+C00018736+C00018738+C00018739+C00018740+C00018741+C00018742+C00018743+C00018744+C00018745+C00018746+C00018747+C00018748+C00018750+C00018751+C00018752+C00018755+C00018759+C00018760+C00018761+C00018762+C00018764+C00018766+C00018767+C00018768+C00018769+C00018770+C00018771+C00018773+C00018774+C00018775+C00018776+C00018777+C00018778+C00018779+C00018780+C00018781+C00018782+C00018784+C00018785+C00018786+C00018787+C00018788+C00018789+C00018790+C00018791+C00018792+C00018794+C00018795+C00018797+C00018798+C00018799+C00018800+C00018801+C00018802+C00018805+C00018806+C00018808+C00018809+C00018810+C00018811+C00018812+C00018813+C00018814+C00018815+C00018816+C00018818+C00018820+C00018821+C00018822+C00018824+C00018825+C00018826+C00018827+C00018828+C00018829+C00018830+C00018831+C00018832+C00018834+C00018838+C00018842+C00018843+C00018844+C00018845+C00018846+C00018847+C00018849+C00018850+C00018853+C00018854+C00018855+C00018856+C00018857+C00018861+C00019008+C00019371+C00019372+C00019373+C00019374+C00019375+C00020154+C00021799+C00021800+C00021801+C00021802+C00021803+C00021804+C00021805+C00021806+C00022138+C00022139+C00022140+C00022141+C00022142+C00022143+C00022144+C00022145+C00022850+C00022888+C00024753+C00026595+C00026596+C00026624+C00026719+C00026807+C00026862+C00026863+C00026864+C00026865+C00026918+C00026919+C00026957+C00026958+C00026959+C00027017+C00027018+C00027019+C00027020+C00027021+C00027022+C00027055+C00027639+C00027677+C00027789+C00027795+C00027796+C00027872+C00027874+C00027875+C00027908+C00027922+C00027923+C00027949+C00028079+C00028112+C00028263+C00028345+C00028349+C00028350+C00028455+C00028597+C00028689+C00028707+C00028954+C00028955+C00029056+C00029057+C00029080+C00029089+C00029090+C00029091+C00029092+C00029093+C00029420+C00031956+C00031957+C00034293+C00034564+C00035317+C00035467+C00035706+C00035707+C00037471+C00038117+C00038173+C00038179+C00038180+C00038213+C00038275+C00038295+C00038752+C00038753+C00038754+C00038755+C00038765+C00038766+C00038767+C00038768+C00038769+C00038770+C00038771+C00039228+C00039498+C00039499+C00039500+C00039501+C00039737+C00039738+C00039797+C00039798+C00039821+C00039881+C00039909+C00039910+C00039911+C00039912+C00039913+C00040392+C00040393+C00040394+C00040395+C00040396+C00040397+C00040398+C00040399+C00040733+C00041264+C00041282+C00041310+C00041311+C00041312+C00041313+C00041314+C00041315+C00041316+C00041388+C00041389+C00041466+C00041480+C00041481+C00041482+C00042156+C00042385+C00042386+C00042431+C00042599+C00042600+C00042844+C00042845+C00042846+C00042847+C00042848+C00042897+C00042898+C00042899+C00042900+C00043174+C00043175+C00043176+C00043257+C00043271+C00043304+C00043315+C00043317+C00043440+C00043491+C00043612+C00043859+C00044477+C00044491+C00044568+C00044658+C00044987+C00044988+C00045466+C00046159+C00046160+C00046161+C00046162+C00046163+C00046164+C00046255+C00046595+C00046596+C00046597+C00046598+C00046599+C00046934+C00046935+C00046936+C00046937+C00046938+C00047209+C00047211+C00047291+C00047292+C00047293+C00047294+C00047295+C00047296+C00047297+C00047314+C00047315+C00047316+C00047333+C00047335+C00047926+C00047986+C00047987+C00047988+C00047989+C00048017+C00048187+C00048206+C00048207+C00048208+C00048209+C00048369+C00048370+C00048371+C00048770+C00048771+C00048823+C00049209+C00049210+C00049230+C00049683+C00049733+C00049918+C00049920+C00050015+C00050103+C00050210+C00050211/cutoff=0.01 1\n",
      "0.001058816909790039\n",
      "16:52:06\n",
      "CPU times: user 1.96 ms, sys: 858 µs, total: 2.82 ms\n",
      "Wall time: 2.04 ms\n"
     ]
    }
   ],
   "source": [
    "%%time\n",
    "i = 0\n",
    "t = time.time()\n",
    "dic = dict()\n",
    "Cnumber = \"C00015228\"\n",
    "filepath = \"SIMCOMP2/\" + Cnumber + \"test.txt\"\n",
    "url = \"http://rest.genome.jp/simcomp2/\"+ Cnumber + \"/\"\n",
    "for tem in all_Clist:\n",
    "    url += tem + \"+\"\n",
    "url = url[:-1]\n",
    "url += \"/cutoff=0.01\"\n",
    "# urllib.request.urlretrieve(url, filepath)\n",
    "i += 1\n",
    "print(url, i)\n",
    "print(time.time() - t)\n",
    "print(time.strftime(\"%X\"))"
   ]
  },
  {
   "cell_type": "markdown",
   "metadata": {},
   "source": [
    "長すぎた。  \n",
    "適当な長さで切って後でまとめた方が良さそう。"
   ]
  },
  {
   "cell_type": "markdown",
   "metadata": {},
   "source": [
    "simnet.pyにSIMCOMP2を使うバージョンは入れておくべき。"
   ]
  },
  {
   "cell_type": "code",
   "execution_count": 5,
   "metadata": {
    "collapsed": false
   },
   "outputs": [
    {
     "name": "stdout",
     "output_type": "stream",
     "text": [
      "http://rest.genome.jp/simcomp2/C00015228+C00015229+C00016476+C00016751+C00016938+C00017103+C00017237+C00017544+C00017573+C00017671+C00017726+C00017791+C00017792+C00018127+C00024753+C00026595+C00026596+C00028349+C00028350+C00028707/C00015228+C00015229+C00016476+C00016751+C00016938+C00017103+C00017237+C00017544+C00017573+C00017671+C00017726+C00017791+C00017792+C00018127+C00024753+C00026595+C00026596+C00028349+C00028350+C00028707/cutoff=0.1\n"
     ]
    }
   ],
   "source": [
    "url = \"http://rest.genome.jp/simcomp2/\"\n",
    "urlC = \"\"\n",
    "for Cnumber in Clist:\n",
    "    urlC += Cnumber + \"+\"\n",
    "else:\n",
    "    urlC = urlC[:-1]\n",
    "url += urlC + \"/\" + urlC + \"/cutoff=0.1\"\n",
    "print(url)"
   ]
  },
  {
   "cell_type": "code",
   "execution_count": 6,
   "metadata": {
    "collapsed": true
   },
   "outputs": [],
   "source": [
    "import urllib"
   ]
  },
  {
   "cell_type": "code",
   "execution_count": 8,
   "metadata": {
    "collapsed": false
   },
   "outputs": [
    {
     "name": "stdout",
     "output_type": "stream",
     "text": [
      "CPU times: user 6.64 ms, sys: 7.1 ms, total: 13.7 ms\n",
      "Wall time: 33.5 s\n"
     ]
    },
    {
     "data": {
      "text/plain": [
       "('SIMCOMP2/testtesttest.txt', <http.client.HTTPMessage at 0x112f92cf8>)"
      ]
     },
     "execution_count": 8,
     "metadata": {},
     "output_type": "execute_result"
    }
   ],
   "source": [
    "%%time\n",
    "urllib.request.urlretrieve(url, \"SIMCOMP2/testtesttest.txt\")"
   ]
  },
  {
   "cell_type": "code",
   "execution_count": null,
   "metadata": {
    "collapsed": true
   },
   "outputs": [],
   "source": []
  }
 ],
 "metadata": {
  "kernelspec": {
   "display_name": "Python 3",
   "language": "python",
   "name": "python3"
  },
  "language_info": {
   "codemirror_mode": {
    "name": "ipython",
    "version": 3
   },
   "file_extension": ".py",
   "mimetype": "text/x-python",
   "name": "python",
   "nbconvert_exporter": "python",
   "pygments_lexer": "ipython3",
   "version": "3.4.5"
  }
 },
 "nbformat": 4,
 "nbformat_minor": 2
}
