{
 "cells": [
  {
   "cell_type": "code",
   "execution_count": 1,
   "metadata": {
    "collapsed": true
   },
   "outputs": [],
   "source": [
    "import networkx as nx"
   ]
  },
  {
   "cell_type": "code",
   "execution_count": 4,
   "metadata": {
    "collapsed": false
   },
   "outputs": [],
   "source": [
    "G = nx.Graph()"
   ]
  },
  {
   "cell_type": "code",
   "execution_count": 5,
   "metadata": {
    "collapsed": true
   },
   "outputs": [],
   "source": [
    "G.add_path([0,1,2])"
   ]
  },
  {
   "cell_type": "code",
   "execution_count": 6,
   "metadata": {
    "collapsed": true
   },
   "outputs": [],
   "source": [
    "G.add_edge(2,3,weight=1.1)"
   ]
  },
  {
   "cell_type": "code",
   "execution_count": 7,
   "metadata": {
    "collapsed": false
   },
   "outputs": [
    {
     "data": {
      "text/plain": [
       "[(0, 1), (1, 2), (2, 3)]"
      ]
     },
     "execution_count": 7,
     "metadata": {},
     "output_type": "execute_result"
    }
   ],
   "source": [
    "G.edges()"
   ]
  },
  {
   "cell_type": "code",
   "execution_count": 8,
   "metadata": {
    "collapsed": true
   },
   "outputs": [],
   "source": [
    "G.add_edge(0,2,weight=2)"
   ]
  },
  {
   "cell_type": "code",
   "execution_count": 10,
   "metadata": {
    "collapsed": false
   },
   "outputs": [
    {
     "data": {
      "text/plain": [
       "[(2, 0, {'weight': 2}), (2, 1, {}), (2, 3, {'weight': 1.1})]"
      ]
     },
     "execution_count": 10,
     "metadata": {},
     "output_type": "execute_result"
    }
   ],
   "source": [
    "G.edges(2, data=True)"
   ]
  },
  {
   "cell_type": "code",
   "execution_count": 12,
   "metadata": {
    "collapsed": false
   },
   "outputs": [
    {
     "data": {
      "text/plain": [
       "[(0, 1, {}), (0, 2, {'weight': 2}), (2, 1, {}), (2, 3, {'weight': 1.1})]"
      ]
     },
     "execution_count": 12,
     "metadata": {},
     "output_type": "execute_result"
    }
   ],
   "source": [
    "G.edges([0,2],data=True)"
   ]
  },
  {
   "cell_type": "code",
   "execution_count": 3,
   "metadata": {
    "collapsed": true
   },
   "outputs": [],
   "source": [
    "G=nx.path_graph(4)\n",
    "shells=[[0],[1,2,3]]\n",
    "pos=nx.shell_layout(G,shells)"
   ]
  },
  {
   "cell_type": "code",
   "execution_count": 6,
   "metadata": {
    "collapsed": false
   },
   "outputs": [
    {
     "data": {
      "image/png": "[encoded data removed]",
      "text/plain": [
       "<matplotlib.figure.Figure at 0x110beaf60>"
      ]
     },
     "metadata": {},
     "output_type": "display_data"
    }
   ],
   "source": [
    "%matplotlib inline\n",
    "nx.draw_networkx(G, pos)"
   ]
  },
  {
   "cell_type": "code",
   "execution_count": 9,
   "metadata": {
    "collapsed": false
   },
   "outputs": [
    {
     "data": {
      "text/plain": [
       "[1]"
      ]
     },
     "execution_count": 9,
     "metadata": {},
     "output_type": "execute_result"
    }
   ],
   "source": [
    "G.neighbors(0)"
   ]
  },
  {
   "cell_type": "code",
   "execution_count": 10,
   "metadata": {
    "collapsed": true
   },
   "outputs": [],
   "source": [
    "G.add_edge(0, 3)"
   ]
  },
  {
   "cell_type": "code",
   "execution_count": 11,
   "metadata": {
    "collapsed": false
   },
   "outputs": [
    {
     "data": {
      "text/plain": [
       "[1, 3]"
      ]
     },
     "execution_count": 11,
     "metadata": {},
     "output_type": "execute_result"
    }
   ],
   "source": [
    "G.neighbors(0)"
   ]
  },
  {
   "cell_type": "markdown",
   "metadata": {},
   "source": [
    "simnet.pyを今後も使うならパラメーターを外からいじれるようにしたほうがよさそう"
   ]
  },
  {
   "cell_type": "markdown",
   "metadata": {
    "collapsed": true
   },
   "source": [
    "Streptomyces属の代謝経路がイマイチ見つからなかった。  \n",
    "のでちょっと他のに浮気"
   ]
  },
  {
   "cell_type": "code",
   "execution_count": 1,
   "metadata": {
    "collapsed": false
   },
   "outputs": [],
   "source": [
    "from classes import MCS_Finder"
   ]
  },
  {
   "cell_type": "code",
   "execution_count": 2,
   "metadata": {
    "collapsed": true
   },
   "outputs": [],
   "source": [
    "f = MCS_Finder(\"Camellia\")"
   ]
  },
  {
   "cell_type": "code",
   "execution_count": 3,
   "metadata": {
    "collapsed": false
   },
   "outputs": [
    {
     "name": "stdout",
     "output_type": "stream",
     "text": [
      "get html\n",
      "finish getting Cnumber\n",
      "your Cnumber C00050696 is too large\n",
      "your Cnumber C00051007 is too large\n",
      "your Cnumber C00051482 is too large\n",
      "your Cnumber C00051575 is too large\n"
     ]
    },
    {
     "data": {
      "text/plain": [
       "True"
      ]
     },
     "execution_count": 3,
     "metadata": {},
     "output_type": "execute_result"
    }
   ],
   "source": [
    "f.make_kcfs()"
   ]
  },
  {
   "cell_type": "code",
   "execution_count": 3,
   "metadata": {
    "collapsed": true
   },
   "outputs": [],
   "source": [
    "Cnlist = f.get_Cnlist_from_label2(\"C-N-C-C-N-C-N-C-N\")"
   ]
  },
  {
   "cell_type": "code",
   "execution_count": 4,
   "metadata": {
    "collapsed": false
   },
   "outputs": [
    {
     "name": "stdout",
     "output_type": "stream",
     "text": [
      "['C00001492', 'C00001509', 'C00001510', 'C00019660']\n"
     ]
    }
   ],
   "source": [
    "print(Cnlist)"
   ]
  },
  {
   "cell_type": "code",
   "execution_count": 5,
   "metadata": {
    "collapsed": false
   },
   "outputs": [
    {
     "data": {
      "text/plain": [
       "True"
      ]
     },
     "execution_count": 5,
     "metadata": {},
     "output_type": "execute_result"
    }
   ],
   "source": [
    "f.make_image(\"C-N-C-C-N-C-N-C-N\")"
   ]
  },
  {
   "cell_type": "markdown",
   "metadata": {},
   "source": [
    "4つは少なすぎて厳しい"
   ]
  },
  {
   "cell_type": "code",
   "execution_count": 6,
   "metadata": {
    "collapsed": true
   },
   "outputs": [],
   "source": [
    "Cnlist = f.get_Cnlist_from_label2(\"C-N-C-C-N\")"
   ]
  },
  {
   "cell_type": "code",
   "execution_count": 7,
   "metadata": {
    "collapsed": false
   },
   "outputs": [
    {
     "name": "stdout",
     "output_type": "stream",
     "text": [
      "['C00001492', 'C00001509', 'C00001510', 'C00019660']\n"
     ]
    }
   ],
   "source": [
    "print(Cnlist)"
   ]
  },
  {
   "cell_type": "markdown",
   "metadata": {},
   "source": [
    "これも少ない"
   ]
  },
  {
   "cell_type": "code",
   "execution_count": 8,
   "metadata": {
    "collapsed": true
   },
   "outputs": [],
   "source": [
    "Cnlist = f.get_Cnlist_from_label2(\"C-C-C-N-C-N\")"
   ]
  },
  {
   "cell_type": "code",
   "execution_count": 9,
   "metadata": {
    "collapsed": false
   },
   "outputs": [
    {
     "name": "stdout",
     "output_type": "stream",
     "text": [
      "['C00001492', 'C00001509', 'C00001510', 'C00019660', 'C00034312']\n"
     ]
    }
   ],
   "source": [
    "print(Cnlist)"
   ]
  },
  {
   "cell_type": "markdown",
   "metadata": {},
   "source": [
    "一個増えた"
   ]
  },
  {
   "cell_type": "code",
   "execution_count": 10,
   "metadata": {
    "collapsed": false
   },
   "outputs": [
    {
     "data": {
      "text/plain": [
       "True"
      ]
     },
     "execution_count": 10,
     "metadata": {},
     "output_type": "execute_result"
    }
   ],
   "source": [
    "f.make_image(\"C-C-C-N-C-N\")"
   ]
  },
  {
   "cell_type": "code",
   "execution_count": 11,
   "metadata": {
    "collapsed": false
   },
   "outputs": [
    {
     "data": {
      "text/plain": [
       "True"
      ]
     },
     "execution_count": 11,
     "metadata": {},
     "output_type": "execute_result"
    }
   ],
   "source": [
    "f.find_MCS_grid_image(Cnlist, \"kk.png\")"
   ]
  },
  {
   "cell_type": "code",
   "execution_count": 12,
   "metadata": {
    "collapsed": false
   },
   "outputs": [
    {
     "name": "stdout",
     "output_type": "stream",
     "text": [
      "['C00001492', 'C00001509', 'C00001510', 'C00019660', 'C00034312']\n"
     ]
    }
   ],
   "source": [
    "print(Cnlist)"
   ]
  },
  {
   "cell_type": "code",
   "execution_count": 14,
   "metadata": {
    "collapsed": false
   },
   "outputs": [
    {
     "name": "stdout",
     "output_type": "stream",
     "text": [
      "[<rdkit.Chem.rdchem.Mol object at 0x10c7bbb40>, <rdkit.Chem.rdchem.Mol object at 0x10c7bb6c8>, <rdkit.Chem.rdchem.Mol object at 0x10c7bbd48>, <rdkit.Chem.rdchem.Mol object at 0x10c7bbc78>, <rdkit.Chem.rdchem.Mol object at 0x10d82ace0>]\n"
     ]
    }
   ],
   "source": [
    "print(f.mol_list)"
   ]
  },
  {
   "cell_type": "code",
   "execution_count": 15,
   "metadata": {
    "collapsed": false
   },
   "outputs": [
    {
     "name": "stdout",
     "output_type": "stream",
     "text": [
      "['Camellia irawadiensis', 'Camellia kissi', 'Camellia sinensis', 'Camellia sinensis var. sinensis', 'Camellia taliensis']\n",
      "['Camellia irawadiensis', 'Camellia irrawadiensis', 'Camellia ptilophylla', 'Camellia sinensis', 'Camellia taliensis']\n",
      "['Camellia sinensis']\n",
      "['Camellia sinensis']\n",
      "['Camellia assamica var.kucha']\n"
     ]
    }
   ],
   "source": [
    "import time\n",
    "for Cnumber in Cnlist:\n",
    "    print(f.get_genuses(Cnumber, other = False))\n",
    "    time.sleep(2)"
   ]
  },
  {
   "cell_type": "code",
   "execution_count": 11,
   "metadata": {
    "collapsed": false
   },
   "outputs": [
    {
     "name": "stdout",
     "output_type": "stream",
     "text": [
      "['Herrania sp.', 'Theobroma grandiflorum', 'Camellia assamica var.kucha']\n"
     ]
    }
   ],
   "source": [
    "print(genus_list)"
   ]
  },
  {
   "cell_type": "markdown",
   "metadata": {},
   "source": [
    "構造が小さいのが原因かな？"
   ]
  },
  {
   "cell_type": "markdown",
   "metadata": {},
   "source": [
    "もっと大きいので試したい"
   ]
  },
  {
   "cell_type": "code",
   "execution_count": 8,
   "metadata": {
    "collapsed": true
   },
   "outputs": [],
   "source": [
    "f = MCS_Finder(\"Tephrosia\")"
   ]
  },
  {
   "cell_type": "code",
   "execution_count": 9,
   "metadata": {
    "collapsed": false
   },
   "outputs": [
    {
     "name": "stdout",
     "output_type": "stream",
     "text": [
      "get html\n",
      "finish getting Cnumber\n"
     ]
    },
    {
     "data": {
      "text/plain": [
       "True"
      ]
     },
     "execution_count": 9,
     "metadata": {},
     "output_type": "execute_result"
    }
   ],
   "source": [
    "f.make_kcfs()"
   ]
  },
  {
   "cell_type": "code",
   "execution_count": 10,
   "metadata": {
    "collapsed": true
   },
   "outputs": [],
   "source": [
    "Cnlist = f.get_Cnlist_from_label2(\"C-C-C-C-C-C-C-C-C-O\")"
   ]
  },
  {
   "cell_type": "code",
   "execution_count": 12,
   "metadata": {
    "collapsed": false
   },
   "outputs": [
    {
     "name": "stdout",
     "output_type": "stream",
     "text": [
      "['C00000651', 'C00002506', 'C00002522', 'C00002533', 'C00002537', 'C00002546', 'C00002547', 'C00002568', 'C00002575', 'C00002578', 'C00002580', 'C00004044', 'C00004045', 'C00004047', 'C00006449', 'C00006450', 'C00007002', 'C00007012', 'C00007055', 'C00007080', 'C00007084', 'C00007090', 'C00007121', 'C00008132', 'C00008173', 'C00008191', 'C00008262', 'C00008431', 'C00008515', 'C00008621', 'C00008792', 'C00008986', 'C00008987', 'C00009010', 'C00009025', 'C00009444', 'C00009512', 'C00009514', 'C00009517', 'C00009566', 'C00009569', 'C00009578', 'C00009580', 'C00009591', 'C00009592', 'C00009594', 'C00009601', 'C00009602', 'C00009605', 'C00009606', 'C00009609', 'C00009623', 'C00009680', 'C00009835', 'C00009893', 'C00009894', 'C00009895', 'C00009924', 'C00009975', 'C00009976', 'C00009977', 'C00009991', 'C00010023', 'C00010186', 'C00013428', 'C00013471', 'C00013472', 'C00014225', 'C00019153', 'C00019177', 'C00019219', 'C00019224', 'C00019426', 'C00019667', 'C00019668', 'C00020223', 'C00029676', 'C00048552'] 78\n"
     ]
    }
   ],
   "source": [
    "print(Cnlist, len(Cnlist))"
   ]
  },
  {
   "cell_type": "markdown",
   "metadata": {},
   "source": [
    "これぐらいのやつをsimnetにかけたい。"
   ]
  }
 ],
 "metadata": {
  "kernelspec": {
   "display_name": "Python 3",
   "language": "python",
   "name": "python3"
  },
  "language_info": {
   "codemirror_mode": {
    "name": "ipython",
    "version": 3
   },
   "file_extension": ".py",
   "mimetype": "text/x-python",
   "name": "python",
   "nbconvert_exporter": "python",
   "pygments_lexer": "ipython3",
   "version": "3.4.5"
  }
 },
 "nbformat": 4,
 "nbformat_minor": 2
}
