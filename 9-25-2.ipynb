{
 "cells": [
  {
   "cell_type": "markdown",
   "metadata": {},
   "source": [
    "KNApSAckから化合物を持っている種族名を取り出したい。"
   ]
  },
  {
   "cell_type": "code",
   "execution_count": 2,
   "metadata": {
    "collapsed": true
   },
   "outputs": [],
   "source": [
    "import lxml.html\n",
    "import requests"
   ]
  },
  {
   "cell_type": "code",
   "execution_count": 1,
   "metadata": {
    "collapsed": true
   },
   "outputs": [],
   "source": [
    "Cnumber = \"C00017791\"\n",
    "genus = \"Streptomyces\""
   ]
  },
  {
   "cell_type": "code",
   "execution_count": 16,
   "metadata": {
    "collapsed": true
   },
   "outputs": [],
   "source": [
    "html = requests.get(\"http://kanaya.naist.jp/knapsack_jsp/information.jsp?word=\" + Cnumber)"
   ]
  },
  {
   "cell_type": "code",
   "execution_count": 17,
   "metadata": {
    "collapsed": true
   },
   "outputs": [],
   "source": [
    "dom = lxml.html.fromstring(html.text)"
   ]
  },
  {
   "cell_type": "code",
   "execution_count": 22,
   "metadata": {
    "collapsed": false
   },
   "outputs": [
    {
     "name": "stdout",
     "output_type": "stream",
     "text": [
      "[<Element td at 0x1056c7a98>, <Element td at 0x1056c7f98>, <Element td at 0x1056c7d68>, <Element td at 0x1056c7e08>, <Element td at 0x1056c7cc8>, <Element td at 0x1056c7b38>]\n"
     ]
    }
   ],
   "source": [
    "print(dom.xpath('//*[@class=\"org2\"]'))"
   ]
  },
  {
   "cell_type": "code",
   "execution_count": 33,
   "metadata": {
    "collapsed": false
   },
   "outputs": [
    {
     "name": "stdout",
     "output_type": "stream",
     "text": [
      "Lycogala epidendrum \n",
      "Eudistoma sp. \n",
      "Eudistoma toealensis \n",
      "OK Streptomyces longisporoflavus R-19 (DSM10189) \n",
      "OK Streptomyces sp. RK-286 \n",
      "Nocardiopsis sp. K-290 \n"
     ]
    }
   ],
   "source": [
    "for element in dom.xpath('//*[@class=\"org2\"]'):\n",
    "    genus2 = element.text.split()[0]\n",
    "    if genus2 == genus:\n",
    "        print(\"OK\", element.text)\n",
    "    else:\n",
    "        print(element.text)"
   ]
  },
  {
   "cell_type": "markdown",
   "metadata": {},
   "source": [
    "とりあえず引き抜けたし、ストレプトマイセスの判定もオッケー"
   ]
  },
  {
   "cell_type": "code",
   "execution_count": 2,
   "metadata": {
    "collapsed": true
   },
   "outputs": [],
   "source": [
    "from classes import MCS_Finder"
   ]
  },
  {
   "cell_type": "code",
   "execution_count": 3,
   "metadata": {
    "collapsed": true
   },
   "outputs": [],
   "source": [
    "f = MCS_Finder(\"Streptomyces\")"
   ]
  },
  {
   "cell_type": "code",
   "execution_count": 4,
   "metadata": {
    "collapsed": false
   },
   "outputs": [
    {
     "name": "stdout",
     "output_type": "stream",
     "text": [
      "['Lycogala epidendrum', 'Eudistoma sp.', 'Eudistoma toealensis', 'Streptomyces longisporoflavus R-19 (DSM10189)', 'Streptomyces sp. RK-286', 'Nocardiopsis sp. K-290']\n"
     ]
    }
   ],
   "source": [
    "print(f.get_genuses(Cnumber))"
   ]
  },
  {
   "cell_type": "code",
   "execution_count": 7,
   "metadata": {
    "collapsed": true
   },
   "outputs": [],
   "source": [
    "genuslist = f.get_genuses(Cnumber)"
   ]
  },
  {
   "cell_type": "code",
   "execution_count": 15,
   "metadata": {
    "collapsed": false
   },
   "outputs": [
    {
     "name": "stdout",
     "output_type": "stream",
     "text": [
      "['Lycogala epidendrum', 'Eudistoma sp.', 'Eudistoma toealensis', 'Streptomyces longisporoflavus R-19 (DSM10189)', 'Streptomyces sp. RK-286', 'Nocardiopsis sp. K-290']\n"
     ]
    }
   ],
   "source": [
    "li = []\n",
    "for genus in genuslist:\n",
    "    li.append(genus.replace(\"\\xa0\", \" \")[:-1])\n",
    "print(li)"
   ]
  },
  {
   "cell_type": "code",
   "execution_count": 12,
   "metadata": {
    "collapsed": false
   },
   "outputs": [
    {
     "name": "stdout",
     "output_type": "stream",
     "text": [
      "['Lycogala\\xa0epidendrum ', 'Eudistoma\\xa0sp. ', 'Eudistoma\\xa0toealensis ', 'Streptomyces\\xa0longisporoflavus\\xa0R-19\\xa0(DSM10189) ', 'Streptomyces\\xa0sp.\\xa0RK-286 ', 'Nocardiopsis\\xa0sp.\\xa0K-290 ', 'test test']\n"
     ]
    }
   ],
   "source": [
    "st = \"test test\"\n",
    "li.append(st)\n",
    "print(li)"
   ]
  },
  {
   "cell_type": "code",
   "execution_count": 16,
   "metadata": {
    "collapsed": true
   },
   "outputs": [],
   "source": [
    "import imp"
   ]
  },
  {
   "cell_type": "code",
   "execution_count": 19,
   "metadata": {
    "collapsed": false
   },
   "outputs": [
    {
     "ename": "NameError",
     "evalue": "name 'classes' is not defined",
     "output_type": "error",
     "traceback": [
      "\u001b[0;31m---------------------------------------------------------------------------\u001b[0m",
      "\u001b[0;31mNameError\u001b[0m                                 Traceback (most recent call last)",
      "\u001b[0;32m<ipython-input-19-4d7885949222>\u001b[0m in \u001b[0;36m<module>\u001b[0;34m()\u001b[0m\n\u001b[0;32m----> 1\u001b[0;31m \u001b[0mimp\u001b[0m\u001b[0;34m.\u001b[0m\u001b[0mreload\u001b[0m\u001b[0;34m(\u001b[0m\u001b[0mclasses\u001b[0m\u001b[0;34m.\u001b[0m\u001b[0mMCS_Finder\u001b[0m\u001b[0;34m)\u001b[0m\u001b[0;34m\u001b[0m\u001b[0m\n\u001b[0m",
      "\u001b[0;31mNameError\u001b[0m: name 'classes' is not defined"
     ]
    }
   ],
   "source": [
    "imp.reload(classes.MCS_Finder)"
   ]
  },
  {
   "cell_type": "markdown",
   "metadata": {},
   "source": [
    "classesにも実装した。"
   ]
  },
  {
   "cell_type": "markdown",
   "metadata": {},
   "source": [
    "今の所simcomp2で100こで2秒かかっている。  \n",
    "1973こやるには1973*1972/2で1945378こやることになる。  \n",
    "だいたい38907秒 = 648分 = 10時間以上かかる。"
   ]
  },
  {
   "cell_type": "code",
   "execution_count": null,
   "metadata": {
    "collapsed": true
   },
   "outputs": [],
   "source": []
  }
 ],
 "metadata": {
  "kernelspec": {
   "display_name": "Python 3",
   "language": "python",
   "name": "python3"
  },
  "language_info": {
   "codemirror_mode": {
    "name": "ipython",
    "version": 3
   },
   "file_extension": ".py",
   "mimetype": "text/x-python",
   "name": "python",
   "nbconvert_exporter": "python",
   "pygments_lexer": "ipython3",
   "version": "3.4.5"
  }
 },
 "nbformat": 4,
 "nbformat_minor": 2
}
