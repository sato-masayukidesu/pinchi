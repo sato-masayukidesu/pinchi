{
 "cells": [
  {
   "cell_type": "code",
   "execution_count": 1,
   "metadata": {
    "collapsed": true
   },
   "outputs": [],
   "source": [
    "import sys\n",
    "sys.path.append(\"../../module\")\n",
    "from nxrd.Compound import Compound\n",
    "from classes import MCS_Finder\n",
    "import kcf.converter as kcfco\n",
    "from rdkit import Chem"
   ]
  },
  {
   "cell_type": "code",
   "execution_count": 2,
   "metadata": {
    "collapsed": true
   },
   "outputs": [],
   "source": [
    "f = MCS_Finder(\"Streptomyces\")\n",
    "Cnlist = f.get_Cnlist_from_label2(\"C(C)-C(C)-C(C-C-C-C-C-C)-C-C-C-C-C-C-C-C-C\")"
   ]
  },
  {
   "cell_type": "code",
   "execution_count": 3,
   "metadata": {
    "collapsed": false
   },
   "outputs": [
    {
     "name": "stdout",
     "output_type": "stream",
     "text": [
      "[<nxrd.Compound.Compound object at 0x10f3e7908>, <nxrd.Compound.Compound object at 0x10f3e7978>, <nxrd.Compound.Compound object at 0x10f3e79e8>, <nxrd.Compound.Compound object at 0x10f3e7a58>, <nxrd.Compound.Compound object at 0x10f3e7ac8>, <nxrd.Compound.Compound object at 0x10f3e7b38>, <nxrd.Compound.Compound object at 0x10f3e7ba8>, <nxrd.Compound.Compound object at 0x10f3e7c18>, <nxrd.Compound.Compound object at 0x10f3e7c88>, <nxrd.Compound.Compound object at 0x10f3e7cf8>, <nxrd.Compound.Compound object at 0x10f3e7d68>, <nxrd.Compound.Compound object at 0x10f3e7dd8>, <nxrd.Compound.Compound object at 0x10f3e7e48>, <nxrd.Compound.Compound object at 0x10f3e7eb8>, <nxrd.Compound.Compound object at 0x10f3e7f28>, <nxrd.Compound.Compound object at 0x10f3e7f98>, <nxrd.Compound.Compound object at 0x10ed784a8>, <nxrd.Compound.Compound object at 0x10ed78518>, <nxrd.Compound.Compound object at 0x10ed784e0>, <nxrd.Compound.Compound object at 0x10f3f9080>]\n"
     ]
    }
   ],
   "source": [
    "complist = []\n",
    "for i in Cnlist:\n",
    "    complist.append(Compound())\n",
    "print(complist)"
   ]
  },
  {
   "cell_type": "code",
   "execution_count": 4,
   "metadata": {
    "collapsed": false
   },
   "outputs": [
    {
     "name": "stdout",
     "output_type": "stream",
     "text": [
      "['C00000001', 'C00001119', 'C00002144', 'C00003163', 'C00004172', 'C00005175', 'C00006180', 'C00007188', 'C00008214', 'C00009218', 'C00010225', 'C00011238', 'C00012247', 'C00013252', 'C00014261', 'C00015266', 'C00016267', 'C00017271', 'C00018274', 'C00019276', 'C00020285', 'C00021288', 'C00022289', 'C00023292', 'C00024299', 'C00025305', 'C00026310', 'C00027314', 'C00028321', 'C00029327', 'C00030330', 'C00031343', 'C00032344', 'C00033345', 'C00034347', 'C00035347', 'C00036350', 'C00037352', 'C00038354', 'C00039356', 'C00040358', 'C00041361', 'C00042362', 'C00043363', 'C00044366', 'C00045369', 'C00046369', 'C00047370', 'C00048371', 'C00049371', 'C00050371']\n"
     ]
    }
   ],
   "source": [
    "pagerange = []\n",
    "for i in range(1, 52):\n",
    "    page = str(i)\n",
    "    with open(\"../../../database/knapsack-kcf/KNApSAck\" + page + \".kcf\")as f:\n",
    "        clist = f.read().split()\n",
    "        pagerange.append(clist[1])\n",
    "print(pagerange)"
   ]
  },
  {
   "cell_type": "code",
   "execution_count": 5,
   "metadata": {
    "collapsed": false
   },
   "outputs": [
    {
     "name": "stdout",
     "output_type": "stream",
     "text": [
      "0\n"
     ]
    }
   ],
   "source": [
    "counter = 0\n",
    "for z, i in enumerate(Cnlist):\n",
    "    num = int(i[1:])\n",
    "    for p, k in enumerate(pagerange[1:]):\n",
    "        k2 = int(k[1:])\n",
    "        if k2 > num:\n",
    "            k3 = str(p+1)\n",
    "            with open(\"../../../database/knapsack-kcf/KNApSAck\" + k3 + \".kcf\")as f:\n",
    "                Clist = f.read().split(\"///\\n\")\n",
    "                try:\n",
    "                    for C in Clist:\n",
    "                        if i == C.split()[1]:\n",
    "                            molblock = kcfco.kcf_to_molblock(C)\n",
    "                            # print(\"OK\", i)\n",
    "                            # print(molblock[1])\n",
    "                            mol = Chem.MolFromMolBlock(molblock[1])\n",
    "                            if mol is None:\n",
    "                                print(\"None\", i, z, k3)\n",
    "                                if \"#+\" in C or \"#-\" in C:\n",
    "                                    print(\"Charge in\\n\")\n",
    "                                counter += 1\n",
    "                                break\n",
    "                            complist[z].input_rdkmol(mol)\n",
    "                            if \"#+\" in C or \"#-\" in C:\n",
    "                                print(i, z, k3, \"Charge in\\n\")\n",
    "                            break\n",
    "                except IndexError:\n",
    "                    counter += 1\n",
    "                    print(\"DAME\", i, z)\n",
    "            break\n",
    "print(counter)"
   ]
  },
  {
   "cell_type": "code",
   "execution_count": 6,
   "metadata": {
    "collapsed": false
   },
   "outputs": [
    {
     "name": "stdout",
     "output_type": "stream",
     "text": [
      "5.574361085891724\n",
      "11.47358512878418\n",
      "15.753422975540161\n",
      "20.385885000228882\n",
      "25.96662402153015\n",
      "28.121263027191162\n",
      "33.3217351436615\n",
      "38.30070209503174\n",
      "43.05122494697571\n",
      "47.955446004867554\n",
      "52.75716304779053\n",
      "54.27782607078552\n",
      "57.638684034347534\n",
      "62.19811201095581\n",
      "67.1122989654541\n",
      "72.56640601158142\n",
      "78.3229079246521\n",
      "81.16751909255981\n",
      "84.25438594818115\n",
      "88.99604892730713\n",
      "finish\n"
     ]
    }
   ],
   "source": [
    "import time\n",
    "start = time.time()\n",
    "veclist = [0] * len(Cnlist)\n",
    "for i in range(len(Cnlist)):\n",
    "    veclist[i] = kcfco.kcf_vec(complist[i])\n",
    "    print(time.time() - start)\n",
    "print(\"finish\")"
   ]
  },
  {
   "cell_type": "code",
   "execution_count": 7,
   "metadata": {
    "collapsed": true
   },
   "outputs": [],
   "source": [
    "temp1 = list(veclist[0].pandas()[\"str\"])\n",
    "strlist = [] * len(Cnlist)\n",
    "for vec in veclist:\n",
    "    strlist.append(vec.pandas()[\"str\"])"
   ]
  },
  {
   "cell_type": "code",
   "execution_count": 8,
   "metadata": {
    "collapsed": false
   },
   "outputs": [],
   "source": [
    "kyoutuu = []\n",
    "for vecstr in strlist[0]:\n",
    "    for vec in strlist:\n",
    "        if vecstr not in vec.values:\n",
    "            break\n",
    "    else:\n",
    "        kyoutuu.append(vecstr)"
   ]
  },
  {
   "cell_type": "code",
   "execution_count": 9,
   "metadata": {
    "collapsed": false
   },
   "outputs": [
    {
     "name": "stdout",
     "output_type": "stream",
     "text": [
      "159\n"
     ]
    }
   ],
   "source": [
    "print(len(kyoutuu))"
   ]
  },
  {
   "cell_type": "code",
   "execution_count": 10,
   "metadata": {
    "collapsed": true
   },
   "outputs": [],
   "source": [
    "import re\n",
    "temp2 = []\n",
    "for i in kyoutuu:\n",
    "    temp3 = i.split(\"-\")\n",
    "    length = len(temp3)\n",
    "    for i in re.findall(\"-[0-9]\", \"-\".join(temp3)):\n",
    "        length -= 1\n",
    "    temp2.append((length, temp3))"
   ]
  },
  {
   "cell_type": "code",
   "execution_count": 11,
   "metadata": {
    "collapsed": false,
    "scrolled": true
   },
   "outputs": [
    {
     "name": "stdout",
     "output_type": "stream",
     "text": [
      "C-C-C-C-C-C-C-C-C-C,7-C-C-10 12\n",
      "C-C-C-C-C-C-C-C-C-C-C-N 12\n",
      "C-C-C-C-C-C-C-C-C,6-C-C-9 11\n",
      "C-C-C-C-C-C,5-C 7\n",
      "C-C-C-C-C-C-C-C,7-C 9\n",
      "C-C-C-C-C-C-C,6-C 8\n",
      "C-C-C-C-C-C-C-C-N,1-6,1-9 9\n",
      "C-C-C-C-C-C-C-C-C-C-C,8-C-C-11 13\n",
      "C-C-C-C-C,4-C,3-C-C 8\n",
      "C-C-C-C-C-C-C-C-C-C-C-C,9-C-C-12 14\n",
      "C8-C8-C8-C8-C8-C8-C8-C8-N4,1-6,1-9 9\n",
      "C-C-C-C-C-C-C-C,5-C-C-8 10\n",
      "C-N-C-C-C-C-C-C-C-C-C-C,9-C-C-12 14\n",
      "N-C-C-C-C-C-C-C-C-C-C,8-C-C-11 13\n",
      "C-C-C-C-C-C-C-C-C,7-C-C 11\n",
      "C-C-C-C-C-C-C-C 8\n",
      "C-C-C-C-C-C-C-C,6-C-C 10\n",
      "C-C-C-C-C,3-C-C,6-C,4-N 9\n",
      "C-N-C-C-C-C-C,6-C,5-C-C,9-C 11\n",
      "O-C-C-C-C,4-C,3-C-C,7-C 9\n",
      "C-N-C-C-C-C-C-C-C,8-C 10\n",
      "C-N-C-C-C-C,5-C 7\n",
      "N-C-C-C-C-C-C-C,7-C 9\n",
      "C-C-C-C-C-C-C-N,2-7 8\n",
      "C-C-C-C-C,4-C,3-C-N,7-O 9\n",
      "C-C-N-C-C-C-C-C,7-C,6-C-C,10-C 12\n",
      "C-C-C-C-C,4-C,3-C-C,7-N 9\n",
      "N-C-C-C-C-C,5-C,4-C-C 9\n",
      "C-C-C-C-C-C,4-C-C,7-C,5-N,1-6 10\n",
      "C-N-C-C-C-C,4-C-C 8\n",
      "C-C-C-C-C,4-C,3-C-C,7-C 9\n",
      "C8-C8-C8-C8-C8-C8-C8-C8-C8-C8-C8-N4 12\n",
      "C8-C8-C8-C8-C8-C8-C8-N4,2-7 8\n",
      "C8-C8-C8-C8-C8-C8-C8-C8-C8-C8,7-C8-C8-10 12\n",
      "C8y-C8y-C8y-C8y-C5x-N1x,5-O5x 7\n",
      "C-C-C-C-C-C-C-C-N,1-9,2-7 9\n",
      "C-C-N-C-C-C-C-C-C-C,7-C-C-10 12\n",
      "N-C-C-C-C-C-C-C-C-C-C-C,8-C-12,2-7 13\n",
      "C-C-N-C-C-C-C-C,7-C 9\n",
      "C-C-C-C-C-C,5-C,4-C-C,8-N,1-9 10\n",
      "C-C-N-C-C-C-C-C-C-C-C-C,9-C-C-12 14\n",
      "C-C-N-C-C-C-C-C-C-C-C,9-C-C 13\n",
      "N-C-C-C-C-C-C-C-C-C,7-C-C-10 12\n",
      "C-N-C-C-C-C-C-C-C-C-C,8-C-C-11 13\n",
      "N-C-C-C-C-C,5-C,4-C-C,8-C 10\n",
      "N-C-C-C-C-C-C-C 8\n",
      "C-N-C-C-C-C-C-C-C-C,8-C-C 12\n",
      "C-C-N-C-C-C-C-C-C-C,9-C 11\n",
      "C-N-C-C-C-C-C-C,7-C 9\n",
      "C-N-C-C-C-C-C-C-C-C-C,9-C-C 13\n",
      "C-C-C-C-C-C,5-C,4-C-C,8-C,1-6 10\n",
      "N-C-C-C-C-C-C-C-C-C,8-C-C 12\n",
      "C-C-N-C-C-C-C-C-C-C-C-C,10-C-C 14\n",
      "N-C-C-C-C-C-C-C-C,8-C,7-C-C,11-C,4-9 13\n",
      "C-N-C-C-C-C-C-C-C-C,9-C 11\n",
      "C-C-C-C-C,3-C-C,6-C 8\n",
      "C8-C8-C8-C8-C8-C8,5-C8 7\n",
      "C8-C8-C8-C8-C8-C8-C8-C8-C8,7-C8-C8 11\n",
      "C8-C8-C8-C8-C8-C8-C8-C8,7-C8 9\n"
     ]
    }
   ],
   "source": [
    "for group in temp2:\n",
    "    if group[0] > 6:\n",
    "        print(\"-\".join(group[1]), group[0])"
   ]
  },
  {
   "cell_type": "code",
   "execution_count": 12,
   "metadata": {
    "collapsed": true
   },
   "outputs": [],
   "source": [
    "kyoutuu2 = []\n",
    "for vecstr in strlist[0]:\n",
    "    no_counter = 0\n",
    "    for vec in strlist:\n",
    "        if vecstr not in vec.values:\n",
    "            no_counter += 1\n",
    "    else:\n",
    "        if no_counter < len(strlist)/2:\n",
    "            kyoutuu2.append(vecstr)"
   ]
  },
  {
   "cell_type": "code",
   "execution_count": 13,
   "metadata": {
    "collapsed": false
   },
   "outputs": [
    {
     "name": "stdout",
     "output_type": "stream",
     "text": [
      "467\n"
     ]
    }
   ],
   "source": [
    "print(len(kyoutuu2))"
   ]
  },
  {
   "cell_type": "code",
   "execution_count": 14,
   "metadata": {
    "collapsed": false
   },
   "outputs": [
    {
     "name": "stdout",
     "output_type": "stream",
     "text": [
      "C-C-C-C-C-C-C-C-C-C,7-C-C-10 12\n",
      "C-C-C-C-C-C-C-C-C-C-C-N 12\n",
      "C-C-C-C-C-C-C-C-C,6-C-C-9 11\n",
      "C-C-C-C-C-C,5-C 7\n",
      "C-C-C-C-C-C-C-C,7-C 9\n",
      "C-C-C-C-C-C-C,6-C 8\n",
      "C-C-C-C-C-C-C-C-N,1-6,1-9 9\n",
      "C-C-C-C-C,4-C,3-N-C,7-C 9\n",
      "C-C-C-C-C-C-C-C-C-C-C,8-C-C-11 13\n",
      "C-C-C-C-C,4-C,3-C-C 8\n",
      "C-C-C-C-C-C-C-C-C-C-C-C,9-C-C-12 14\n",
      "C-N-C-C-C,4-C,3-C-C 8\n",
      "C8-C8-C8-C8-C8-C8-C8-C8-N4,1-6,1-9 9\n",
      "C8-C8-C8-C8-C8,4-C8,3-N4-C1,7-C8 9\n",
      "C-C-C-C-C-C-C-C,5-C-C-8 10\n",
      "C-C-C-C-C-C,5-C,4-C-C 9\n",
      "C-N-C-C-C-C-C-C-C-C-C-C,9-C-C-12 14\n",
      "C-C-C-C-C-C,4-C-C 8\n",
      "N-C-C-C-C-C-C-C-C-C-C,8-C-C-11 13\n",
      "C-C-C-C-C-C-C-C-C,7-C-C 11\n",
      "C-C-C-C-C-C-C-C 8\n",
      "C-C-C-C-C-C-C,4-C-C-7 9\n",
      "C-C-C-C-C-C-C-C,6-C-C 10\n",
      "C-N-C-C-C-C-C-C 8\n",
      "C-N-C-C-C-C-C-C-C-C,6-C-10 11\n",
      "C-C-C-C-C-N-C-O-C-N,1-10,2-6 10\n",
      "C-C-C-C-C,3-C-C,6-C,4-N 9\n",
      "C-N-C-C-C-C-C,6-C,5-C-C,9-C 11\n",
      "O-C-C-C-C,4-C,3-C-C,7-C 9\n",
      "C-N-C-C-C,3-C-C,6-C 8\n",
      "C-C-N-C-C-C-C-C-C-C-C-C,7-12 12\n",
      "C-N-C-C-C-C-C-C-C,8-C 10\n",
      "C-N-C-C-C-C-C-C,6-C-C,5-C-C-C,12-C,3-13 14\n",
      "C-C-C-N-C-C,5-C,4-C-C,8-C 10\n",
      "C-N-C-C-C-C,5-C 7\n",
      "N-C-C-C-C-C-C-C,7-C 9\n",
      "C-C-C-C-C-C-C-C-C-C,8-C-C 12\n",
      "C-C-C-C-C-C-C-C,3-8 8\n",
      "C-C-C-C-C-C-C-N,2-7 8\n",
      "C-C-C-C-C-C-C-C,7-C,6-C-C,5-C,10-N,12-N-C,9-C,13-C-C,12-O,17-O,3-11,4-15,9-13 20\n",
      "C-C-C-C-C,3-C-C 7\n",
      "C-C-C-C-C,4-C,3-C-N,7-O 9\n",
      "C-C-N-C-C-C-C-C,7-C,6-C-C,10-C 12\n",
      "C-N-C-C-C-C,4-C-C,7-C 9\n",
      "C-C-C-C-C,4-C,3-C-C,7-N 9\n",
      "C-C-N-C-C,4-C,3-C-C,7-C 9\n",
      "C-N-C-C-C-C-C,4-C-C-C,9-C 11\n",
      "C-C-C-C-C-C-C-C-C-C-C-C,10-C-C 14\n",
      "C-C-C-C-N-C-C-C-C-C-C-C,11-C,8-C-12 14\n",
      "C-C-C-C-C-C-C-C-C-C-C,9-C-C 13\n",
      "C-C-C-C-C-C-C 7\n",
      "N-C-C-C-C-C,5-C,4-C-C 9\n",
      "C-C-C-C-C-C,4-C-C,7-C,5-N,1-6 10\n",
      "C-N-C-C-C-C,4-C-C 8\n",
      "N-C-C-C-C-C-C-C,5-C-C-8 10\n",
      "C-C-C-C-C,4-C,3-C-C,7-C 9\n",
      "O-C-C-C-C-C,5-C,4-C-C 9\n",
      "O-C-C-C-C-N,5-O 7\n",
      "C1-N4-C8-C8-C8-C8-C8-N4-C1-O2,1-10,2-6 10\n",
      "C8-C8-C8-C8-C8-C8-C8-C8-C8-C8-C8-N4 12\n",
      "C1-C1-C1-N4-C8-C8,5-C8,4-C8-C8,8-C8 10\n",
      "C8-C8-C8-C8-C8-C8-C8-N4,2-7 8\n",
      "C1-C1-N4-C8-C8,4-C8,3-C8-C8,7-C8 9\n",
      "C8-C8-C8-C8-C8-C8-C8-C8-C8-C8,7-C8-C8-10 12\n",
      "C8-N4-C1-C1-C1,3-O2-C1 7\n",
      "C8y-C8y-C8y-C8y-C8y-C8y-C8y-C8y-N4y,1-6,1-9 9\n",
      "C8y-C8y-C8y-C8y-C5x-N1x,5-O5x 7\n",
      "N4y-C8y-C8y-C8y-C5x-N1x,5-O5x 7\n",
      "C-C-C-C-C-C-C-C-N,1-9,2-7 9\n",
      "C-C-N-C-O-C-N,1-7 7\n",
      "C-N-C-C-C-C-C-C-C,8-C,5-C-9 11\n",
      "C-C-C-C-C-C,4-C-C,7-C,1-6 9\n",
      "C-C-N-C-C-C-C-C-C-C,7-C-C-10 12\n",
      "C-C-C-C-C-C-N-C-C,8-C,7-C-C,11-O,1-6,1-9 13\n",
      "O-C-C-C-C-C-C-C-C-C-C,8-C-C-11 13\n",
      "C-N-C-C-C-C-C,6-C,5-C-C,4-C-C-10,12-C,9-N,3-O,1-11 15\n",
      "N-C-C-C-C-C-C-C-C-C-C-C,8-C-12,2-7 13\n",
      "C-C-N-C-C-C-C,5-C-C,8-C,4-C-C-7,10-C,10-C,9-C-C-13,16-C,15-N-C,18-C,3-9 20\n",
      "C-C-N-C-C-C-C-C,7-C 9\n",
      "C-C-C-C-C-C,5-C,4-C-C,8-N,1-9 10\n",
      "C-C-C-C-C-C-C-C-C-C-C-C,8-C-12,2-7 13\n",
      "C-C-N-C-C-C-C-C-C-C,9-C,6-C-10 12\n",
      "C-N-C-C-C-C-C,6-C,4-C-C-C 11\n",
      "C-O-C-C-C-C-O-C 8\n",
      "C-C-N-C-C-C-C-C-C-C-C-C,9-C-C-12 14\n",
      "C-O-C-N-C-C-C-C-C-C-C-C,11-C,10-C-C,14-C,7-12 16\n",
      "C-C-C-N-C-C-C,6-C,5-C-C,4-C-8,8-C,11-C-C,13-N 15\n",
      "C-C-N-C-C-C-C-C-C-C-C,9-C-C 13\n",
      "C-C-C-N-C-C-C-C-C-C-C-C,11-C,10-C-C,14-C,7-12 16\n",
      "N-C-C-C-C-C-C-C-C-C,7-C-C-10 12\n",
      "O-C-C-C-C-C-C,5-C-C,4-C-C-C 12\n",
      "C-C-C-N-C-C-C,5-C-C,8-C,4-C-10,10-C,11-C-C,6-N 15\n",
      "C-C-N-C-C-C-C-C-C-C-C-C,9-C-C-C,13-C-C,6-11 17\n",
      "C-C-C-C-C-C-C,5-C-C,8-C,6-N,4-C-11,11-C,12-C,1-14 14\n",
      "C-N-C-C-C-C,5-C,4-C-C,3-O,1-8 10\n",
      "N-C-C-C-C-C-C-C-C-C,6-C-10 11\n",
      "C-C-C-C-C-C-C,4-C-C-7,9-C,6-N,8-C-N,12-O,5-N-C,15-C,17-C,17-O,16-C-C,1-21,3-16 21\n",
      "C-C-C-C-C-C-C-C-C-C,7-C-C-10,12-C,9-N,11-C-N,15-O,8-N-C,1-6,1-18 19\n",
      "C-N-C-C-C-C-C-C-C-C-C,8-C-C-11 13\n",
      "C-N-C-C-C-C-C-C,7-C,6-C-C 11\n",
      "C-N-C-C-C-C-C-C-C-C-C,8-C-C-C,12-C-C,5-10 16\n",
      "O-C-C-C-C-C-C-C,5-C-C-8 10\n",
      "C-C-C-C-C-C,5-N,1-6 7\n",
      "C-N-C-C-C-C-C-C-C-C,9-C,8-C-C,12-C,5-10 14\n",
      "N-C-C-C-C-C,5-C,4-C-C,8-C 10\n",
      "N-C-C-C-C-C-C-C 8\n",
      "C-N-C-C-C-C-C-C-C-C,8-C-C 12\n",
      "C-C-C-C-C-C-C,5-C-C,4-C-C-C,8-N,10-C-N,14-O,9-C,13-C-C-C,18-O-C,3-13 22\n",
      "C-C-C-C-C-C-C,5-C-C,8-C,6-N,7-C,11-C-C-C,7-N,13-O-C,4-C-C,1-20,3-11 20\n",
      "C-C-N-C-C-C-C-C-C-C-C,10-C,9-C-C,13-C,6-11 15\n",
      "C-O-C-N-C-C-C-C-C-C-C,10-C,7-C-11 13\n",
      "C-C-N-C-C-C-C-C-C-C,9-C 11\n",
      "C-C-C-C-C-C-C,5-C-C,4-C-C-C,2-12 12\n",
      "C-C-C-C-C-C-N-C,7-C,1-6 9\n",
      "C-C-C-C-C-C-C,6-C,4-N-7,7-C,9-C-C,11-O,5-C,1-14 14\n",
      "C-C-C-C-C-C-C-C-C-C-N-C,11-C,13-C-C-C-C,4-12,5-10 17\n",
      "C-C-C-C-C-C-C-C-C-C-N-C,11-C,4-12 13\n",
      "C-C-C-C-C-C-C-C-C-C,10-N-C-C-C,5-10 14\n",
      "C-C-C-N-C,4-C,3-O-C 8\n",
      "C-C-C-C-C-C-N-C-C-C,8-C-C,7-C-C-C,11-N,13-O-C,1-6,1-9 18\n",
      "C-C-C-C-C-C,5-C,1-6 7\n",
      "C-N-C-C-C-C-C-C,7-C 9\n",
      "C-N-C-C-C-C-C-C-C-C-C,9-C-C 13\n",
      "N-C-C-C-C-C,5-C 7\n",
      "N-C-C-C-C-C-C-C-C,8-C,7-C-C,6-C,4-12 13\n",
      "C-C-C-C-C-C,5-C,4-C-C,8-C,1-6 10\n",
      "C-C-C-C-N-C-C-C,7-C,6-C-C,5-C-9,9-C,12-C-C,14-N 16\n",
      "C-N-C-C-C-C-C,4-C-C-C,8-C-C,11-C 13\n",
      "C-C-C-C-C-C,5-C,4-C-C,8-C,1-9 10\n",
      "N-C-C-C-C-C-C,6-C,4-C-C-7 10\n",
      "N-C-C-C-C-C-C-C,6-C-C,5-C-C-C,3-13 13\n",
      "C-C-C-C-C-C-C,6-C,4-N-8,9-C-C,10-C,10-O,5-C,1-14 14\n",
      "N-C-C-C-C-C-C-C-C-C,8-C-C 12\n",
      "C-C-C-N-C-C-C-C-C-C-C,10-C,7-C-11 13\n",
      "C-C-C-C-C-C-C,5-C-C,8-N,4-C-C-N,10-C,10-11 14\n",
      "C-C-C-C-C-C-C,5-C-C,4-C-C-N,6-N,13-C,10-13 14\n",
      "C-C-C-C-C-C-C,6-C,5-C-C,4-C,9-N,11-N-C,8-C,12-C-C,11-O,16-O,2-10,3-14,8-12 19\n",
      "C-C-N-C-C-C,4-C-C,7-C 9\n",
      "C-C-N-C-C-C-C,6-C,4-C-C-7,10-C 11\n",
      "C-C-N-C-C-C-C-C-C-C-C-C,10-C-C 14\n",
      "C-N-C-C-C-C-C-C,6-C-C,5-C-C-C 13\n",
      "C-C-C-C-C-C,5-C,4-C-C,1-9 9\n",
      "C-C-C-C-C-C,5-C,4-N-C,8-C,1-7 10\n",
      "N-C-C-C-C-C-C-C-C,8-C,7-C-C,11-C,4-9 13\n",
      "N-C-C-C-C-C,4-C-C 8\n",
      "N-C-C-C-C-C-C,5-C-C,4-C-C-C,11-C,2-12 13\n",
      "N-C-C-C-C-C-C,5-C-C,4-C-C-C 12\n",
      "C-N-C-C-C-C-C-C-C-C,9-C 11\n",
      "C-C-N-C-C-C-C-C,5-C-C-C,9-C-C,12-C 14\n",
      "C-C-C-C-C-C,5-C,4-N-C,8-C,1-6 10\n",
      "C-C-C-C-C-C-C-C-C,7-C-C,10-C,8-N,1-6,1-13 13\n",
      "N-C-C-C-C-C-C,6-C,5-C-C 10\n",
      "C-C-C-C-C-C-C-C-C-C-N 11\n",
      "C-C-N-C-C-C,5-C,4-C-C 9\n",
      "C-C-C-C-C,3-C-C,6-C 8\n",
      "C1-N4-C8-C8-N4-C1-O2,1-7 7\n",
      "C8-C8-C8-C8-C8-C8,4-C8-C8,7-C8,1-6 9\n",
      "C1-N4-C8-C8-C8,3-C8-C8,6-C8 8\n",
      "C8-C8-C8-C8-C8-C8,5-C8,4-C8-C8,1-9 9\n",
      "O5-C5-C8-C8-C8-C8-C8-C8-C8-C8-C8,8-C8-C8-11 13\n",
      "C8-C8-C8-C8-C8-C8,5-C8 7\n",
      "C5-C8-C8-C8-C8-C8-C8-C8-C8-C8,7-C8-C8-10 12\n",
      "C8-C8-C8-C8-C8-C8-N4-C1-C1,8-O2,7-C8-C8,11-C8,1-6,1-12 13\n",
      "C8-C8-C8-C8-C8,3-C8-C8 7\n",
      "C8-C8-C8-C8-C8-C8-C8-C8-C8-C8-C8,6-11 11\n",
      "C1-C1-C1-N4-C8-C8-C8,6-C8,5-C8-C8,4-C8-8,8-C8,11-C8-C8,13-N4 15\n",
      "C8-C8-C8-C8-C8-C8-C8-C8-C8,7-C8-C8 11\n",
      "C1-C1-N4-C8-C8-C8-C5 7\n",
      "O5-C5-C8-C8-C8-C8-C8,5-C8-C8,4-C8-C8-C8 12\n",
      "N4-C8-C8-C8-C5,3-C8-C8,6-C8,4-C8 9\n",
      "C8-C8-C8-C8-C8-C8-C8-C8 8\n",
      "O5-C5-C8-C8-C8-C8-C8-C8,5-C8-C8-8 10\n",
      "C8-C8-C8-C8-C8-C8,5-N4,1-6 7\n",
      "C8-C8-C8-C8-C8,4-C8,3-C8-C8 8\n",
      "C8-C8-C8-C8-C8,4-C8,3-C8-C8,7-N4 9\n",
      "C8-C8-C8-C8-C8-C8-C5,5-C8-C8,6-C8,8-N4,11-C1-C1-C1,12-O2-C1,9-C8,9-N4,4-C8-C8,1-20,3-11 20\n",
      "C5-C8-C8-C8-C8-C8,4-C8-C8 8\n",
      "C8-C8-C8-C8-C8-C8-C8-C8,7-C8 9\n",
      "C8-C8-C8-C8-C8-C8-N4-C1,7-C8,1-6 9\n",
      "C8-C8-C8-C8-C8-C8-N4-C1-C1-C1,8-O2-C1,7-C8-C8-C8,13-C8-C8,16-N4,1-6,1-14 18\n",
      "C8-C8-C8-C8-C8-C8,5-C8,1-6 7\n",
      "C8-C8-C8-C8-C8,3-C8-C8,6-C8,4-N4 9\n",
      "N4-C8-C8-C8-C8,3-C8-C8,6-C8 8\n",
      "C8-C8-C8-C8-C5,3-C8-C8,6-C8,4-C8 9\n",
      "C8-C8-C8-C8-C8-C8-C8,4-C8-C8-7 9\n",
      "C8-C8-C8-C8-C8-C5,5-C8,4-C8-C8,8-C8,1-7 10\n",
      "C8-C8-C8-C8-C8-C8-C8,6-C8,4-N4-C1-C1,10-C1,10-O2,8-C8,5-C8,1-15,8-9 15\n",
      "C8-C8-C8-C8-C8-C5,4-C8-C8,7-C8,5-C8,1-10 10\n",
      "C1-C1-C1-N4-C8-C8-C8,5-C8-C8,8-C8,4-C8-10,10-C8,11-C8-C8,6-N4 15\n",
      "C5-C8-C8-C8-C8-C8-C8,4-C8-C8-7 9\n",
      "N4-C8-C8-C8-C8,4-C8,3-C8-C8 8\n",
      "C8-C8-C8-C8-C8-C8-C5-N1,7-O5,5-C8-C8-C8,10-C8-C8 14\n",
      "C1-C1-N4-C8-C8-C8,4-C8-C8,7-C8 9\n",
      "C1-C1-C1-N4-C8-C8-C8-C5 8\n",
      "C8-C8-C8-C8-C8-C8,5-C8,4-N4-C1,8-C8,1-7 10\n",
      "C8-C8-C8-C8-C8-C8,4-C8-C8,7-C8,5-N4,1-6 10\n",
      "C8-C8-C8-C8-C8-C8-C8,6-C8,4-N4-C1-C1,10-O2,7-C8,5-C8,1-14,7-9 14\n",
      "N1-C5-C8-C8-C8-C8-C8,5-C8-C8,4-C8-C8-C8 12\n",
      "C1-N4-C8-C8-C8,4-C8,3-C8-C8 8\n",
      "N1-C5-C8-C8-C8-C8-C8-C8,5-C8-C8-8 10\n",
      "C8-C8-C8-C8-C8-C8,5-C8,4-N4-C1,8-C8,1-6 10\n",
      "C8-C8-C8-C8-C8-C8-C5,5-C8-C8,6-C8,8-N4,4-C8-11,12-C8,1-13 13\n",
      "N1-C5-C8-C8-C8-C8-C8-C8-C8-C8-C8,8-C8-C8-11 13\n",
      "C8-C8-C8-C8-C5,4-C8,3-C8-C8,7-C8 9\n",
      "C1-C1-N4-C8-C8-C8,5-C8,4-C8-C8 9\n",
      "C8-C8-C8-C8-C8,3-C8-C8,6-C8 8\n",
      "C1y-N4y-C8y-C8y-N4y-C1z-O2x,1-7 7\n",
      "C1y-N4y-C8y-C8y-C8y-C8y-C8y-N4y-C1z-O2x,1-10,4-8 10\n",
      "C8x-C8x-C8x-C8x-C8y-C8y-C8y-N4y-C8y,1-9,5-9 9\n",
      "C1y-N4y-C8y-C8y-C8y-C8y-C8y-N4y-C1z-O2x,1-10,2-6 10\n",
      "C8x-C8x-C8y-C8y-C8x-C8x,4-C8y-C8y,7-C8y,1-6 9\n",
      "C8y-C8y-C8y-C8y-C8y,4-C8y,3-N4y-C1y,7-C8y 9\n",
      "N1x-C5x-C8y-C8y-C8y-C8x-C8x,5-C8y-C8x 9\n",
      "C8y-C8x-C8x-C8x-C8x-C8y-N4y-C1y-C1x,8-O2x,7-C8y-C8y,11-C8y,1-6,1-12 13\n",
      "C8y-C8y-C8y-C8x-C8x-C8x-C8x-C8y-N4y 9\n",
      "C8x-C8x-C8x-C8x-C8y-C8y,5-N4y,1-6 7\n",
      "C8x-C8x-C8y-C8y-C8x,4-C8y,3-N4y-C1z,7-C8y 9\n",
      "C8y-C8y-C8y-C8x-C8x,3-C8y-C8x 7\n",
      "C1x-C1y-N4y-C8y-C8x,4-C8y,3-C8y-C8y,7-C8y 9\n",
      "C8y-C8y-C8x-C8x-C8x-C8x-C8y-N4y,2-7 8\n",
      "O5x-C5x-C8y-C8y-C8y-C8x-C8x-C8x-C8x-C8y-N4y 11\n",
      "N4y-C8y-C8y-C8y-C5x,3-C8y-C8x,6-C8y,4-C8y 9\n",
      "C8y-C8y-C8y-C8y-C8x-C8x-C8x-C8x 8\n",
      "O5x-C5x-C8y-C8y-C8y-C8x-C8x-C8x,5-C8y-C8x-8 10\n",
      "N1x-C5x-C8y-C8y-C8y-C8x-C8x-C8x,5-C8y-C8x-8 10\n",
      "C5x-C8y-C8y-C8y-C8x-C8x-C8x-C8x-C8y-N4y 10\n",
      "C1z-N4y-C8y-C8x-C8x,3-C8y-C8x 7\n",
      "C5x-C8y-C8y-C8y-C8x-C8x,4-C8y-C8x 8\n",
      "C8y-C8x-C8x-C8x-C8x-C8y-N4y-C1y,7-C8y,1-6 9\n",
      "C8y-C8y-C8y-C8y-C8x-C8x-C8x-C8x-C8y-N4y-C1y-C1x,11-O2x,10-C8y-C8y,3-14 15\n",
      "C1x-C1y-N4y-C8y-C8x-C8x-C8x-C8x-C8y-C8y 10\n",
      "C1x-C1y-N4y-C8y-C8x-C8x-C8x,4-C8y-C8x-7 9\n",
      "C8y-C8y-C8y-C8x-C8x-C8x-C8x 7\n",
      "C8x-C8x-C8x-C8x-C8y-C8y,5-C8y,1-6 7\n",
      "C8x-C8x-C8y-C8y-C8x,3-C8y-C8y,6-C8y,4-N4y 9\n",
      "C8y-C8y-C8y-C8y-C8x-C8x-C8x-C8x-C8y-N4y-C1y,10-C8y,3-12 12\n",
      "N1x-C5x-C8y-C8y-C8y-C8x-C8x-C8x-C8x-C8y-N4y-C1y,11-C8y 13\n",
      "C8y-C8y-C8y-C8y-C5x,3-C8y-C8x,6-C8y,4-C8y 9\n",
      "C8y-C8y-C8y-C8y-C8x-C8x-C8x,4-C8y-C8x-7 9\n",
      "C1y-N4y-C8y-C8x-C8x-C8x-C8x 7\n",
      "C1y-N4y-C8y-C8x-C8x-C8x-C8x-C8y,3-8 8\n",
      "C1y-N4y-C8y-C8x-C8x-C8x-C8x-C8y-C8y 9\n",
      "C8y-C8y-C8y-C8y-C8y,4-C8y,3-N4y-C1z,7-C8y 9\n",
      "C8y-C8y-C8y-C8y-C8y-C5x,4-C8y-C8x,7-C8y,5-C8y,1-10 10\n",
      "C1x-C1y-N4y-C8y-C8x-C8x-C8x-C8x 8\n",
      "C5x-C8y-C8y-C8y-C8x-C8x-C8x,4-C8y-C8x-7 9\n",
      "C5x-C8y-C8y-C8y-C8x-C8x-C8x-C8x-C8y-N4y-C1y-C1x,11-O2x,10-C8y-C8y 15\n",
      "C8y-C8y-C8y-C8y-C8x-C8x-C8x-C8x-C8y-N4y 10\n",
      "O5x-C5x-C8y-C8y-C8y-C8x-C8x-C8x-C8x-C8y-N4y-C1y,11-C8y 13\n",
      "C5x-C8y-C8y-C8y-C8x-C8x-C8x-C8x 8\n",
      "C8x-C8x-C8x-C8x-C8y-C8y-C8y,6-C8y,5-C8y-N4y,1-9 10\n",
      "C8x-C8x-C8y-C8y-C8x,4-C8y,3-N4y-C1y,7-C8y 9\n",
      "C8y-C8y-C8y-C8y-C8y-C8x-C8x-C8x-C8x-C8y 10\n",
      "C1z-O2x-C1y-N4y-C8y-C8x-C8x-C8x-C8x-C8y-C8y 11\n",
      "C8x-C8x-C8x-C8x-C8y-C8y-C8y-C8y,7-C8y,5-N4y-C1y-C1x,11-O2x,8-C8y,1-6,8-10 14\n",
      "C1y-N4y-C8y-C8x-C8x,3-C8y-C8x,6-C8y 8\n",
      "C8y-C8y-C8y-C8x-C8x-C8x-C8x-C8y,3-8 8\n",
      "O5x-C5x-C8y-C8y-C8y-C8x-C8x,5-C8y-C8x 9\n",
      "C8x-C8x-C8x-C8x-C8y-C8y-C8y,5-N4y-C1y,8-C8y,1-6 10\n",
      "C1y-N4y-C8y-C8x-C8x-C8x-C8x-C8y-C8y-C8y,9-C8y,2-10 11\n",
      "C8x-C8x-C8x-C8x-C8y-C8y-C8y-C5x,6-C8y-C8y,7-C8y,9-N4y,5-C8y-12,1-13 13\n",
      "N1x-C5x-C8y-C8y-C8y-C8x-C8x-C8x-C8x-C8y-N4y 11\n",
      "C1x-C1y-N4y-C8y-C8x-C8x,4-C8y-C8x,7-C8y 9\n",
      "C5x-C8y-C8y-C8y-C8x-C8x-C8x-C8x-C8y-N4y-C1y,10-C8y 12\n",
      "C8x-C8y-C8y-C8x-C8x,3-C8y-C8y,6-C8y 8\n"
     ]
    }
   ],
   "source": [
    "import re\n",
    "temp2 = []\n",
    "for i in kyoutuu2:\n",
    "    temp3 = i.split(\"-\")\n",
    "    length = len(temp3)\n",
    "    for i in re.findall(\"-[0-9]\", \"-\".join(temp3)):\n",
    "        length -= 1\n",
    "    temp2.append((length, temp3))\n",
    "    \n",
    "for group in temp2:\n",
    "    if group[0] > 6:\n",
    "        print(\"-\".join(group[1]), group[0])"
   ]
  },
  {
   "cell_type": "code",
   "execution_count": 16,
   "metadata": {
    "collapsed": false
   },
   "outputs": [
    {
     "data": {
      "text/plain": [
       "{'atom', 'bond', 'linear', 'ring', 'triplet', 'unit', 'vicinity'}"
      ]
     },
     "execution_count": 16,
     "metadata": {},
     "output_type": "execute_result"
    }
   ],
   "source": [
    "set(veclist[0].pandas()[\"type\"])"
   ]
  },
  {
   "cell_type": "markdown",
   "metadata": {},
   "source": [
    "数に幅をもたせてkcf-sを抜き出してみた。  \n",
    "どこかで使うかも。"
   ]
  },
  {
   "cell_type": "code",
   "execution_count": null,
   "metadata": {
    "collapsed": true
   },
   "outputs": [],
   "source": []
  }
 ],
 "metadata": {
  "kernelspec": {
   "display_name": "Python 3",
   "language": "python",
   "name": "python3"
  },
  "language_info": {
   "codemirror_mode": {
    "name": "ipython",
    "version": 3
   },
   "file_extension": ".py",
   "mimetype": "text/x-python",
   "name": "python",
   "nbconvert_exporter": "python",
   "pygments_lexer": "ipython3",
   "version": "3.4.5"
  }
 },
 "nbformat": 4,
 "nbformat_minor": 2
}
