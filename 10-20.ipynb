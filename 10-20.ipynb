{
 "cells": [
  {
   "cell_type": "markdown",
   "metadata": {
    "collapsed": true
   },
   "source": [
    "とりあえず放線菌属について属をたくさん抜き出してみる。"
   ]
  },
  {
   "cell_type": "code",
   "execution_count": 5,
   "metadata": {
    "collapsed": true
   },
   "outputs": [],
   "source": [
    "import lxml.html\n",
    "import requests"
   ]
  },
  {
   "cell_type": "code",
   "execution_count": 3,
   "metadata": {
    "collapsed": true
   },
   "outputs": [],
   "source": [
    "html = requests.get(\"https://ja.wikipedia.org/wiki/放線菌\")"
   ]
  },
  {
   "cell_type": "code",
   "execution_count": 4,
   "metadata": {
    "collapsed": false
   },
   "outputs": [
    {
     "name": "stdout",
     "output_type": "stream",
     "text": [
      "<Response [200]>\n"
     ]
    }
   ],
   "source": [
    "print(html)"
   ]
  },
  {
   "cell_type": "code",
   "execution_count": 6,
   "metadata": {
    "collapsed": true
   },
   "outputs": [],
   "source": [
    "dom = lxml.html.fromstring(html.text)"
   ]
  },
  {
   "cell_type": "code",
   "execution_count": 9,
   "metadata": {
    "collapsed": false
   },
   "outputs": [
    {
     "name": "stdout",
     "output_type": "stream",
     "text": [
      "[<Element i at 0x1078d2a98>]\n"
     ]
    }
   ],
   "source": [
    "print(dom.xpath('//*[@id=\"mw-content-text\"]/div/ul[9]/li/ul/li[1]/i[2]'))"
   ]
  },
  {
   "cell_type": "markdown",
   "metadata": {},
   "source": [
    "一番下のiタグが科名+属名  \n",
    "二番下のliタグが目内での順番  \n",
    "三番下のulタグは目名とそれ以外の判別用  \n",
    "四番下のliタグは綱内での目数  \n",
    "五番下のulはwikiの上から順番"
   ]
  },
  {
   "cell_type": "code",
   "execution_count": 10,
   "metadata": {
    "collapsed": false
   },
   "outputs": [
    {
     "name": "stdout",
     "output_type": "stream",
     "text": [
      "<Element html at 0x107856818>\n"
     ]
    }
   ],
   "source": [
    "print(dom)"
   ]
  },
  {
   "cell_type": "code",
   "execution_count": 22,
   "metadata": {
    "collapsed": false
   },
   "outputs": [
    {
     "name": "stdout",
     "output_type": "stream",
     "text": [
      "Aciditerrimonas\n"
     ]
    }
   ],
   "source": [
    "print(dom.xpath('//*[@id=\"mw-content-text\"]/div/ul[9]')[0].xpath('li/ul/li[1]/i[2]')[0].text)"
   ]
  },
  {
   "cell_type": "code",
   "execution_count": 23,
   "metadata": {
    "collapsed": false
   },
   "outputs": [
    {
     "ename": "SyntaxError",
     "evalue": "invalid syntax (<ipython-input-23-a78a4df92f21>, line 1)",
     "output_type": "error",
     "traceback": [
      "\u001b[0;36m  File \u001b[0;32m\"<ipython-input-23-a78a4df92f21>\"\u001b[0;36m, line \u001b[0;32m1\u001b[0m\n\u001b[0;31m    (/*[@id=\"mw-content-text\"]/div/ul[14])\u001b[0m\n\u001b[0m     ^\u001b[0m\n\u001b[0;31mSyntaxError\u001b[0m\u001b[0;31m:\u001b[0m invalid syntax\n"
     ]
    }
   ],
   "source": [
    "//*[@id=\"mw-content-text\"]/div/ul[14]"
   ]
  },
  {
   "cell_type": "markdown",
   "metadata": {},
   "source": [
    "9から14まで綱があり、それらの子要素をどんどん抜き出していく。"
   ]
  },
  {
   "cell_type": "code",
   "execution_count": 25,
   "metadata": {
    "collapsed": false
   },
   "outputs": [
    {
     "name": "stdout",
     "output_type": "stream",
     "text": [
      "9\n",
      "10\n",
      "11\n",
      "12\n",
      "13\n",
      "14\n"
     ]
    }
   ],
   "source": [
    "for i in range(9, 15):\n",
    "    print(i)"
   ]
  },
  {
   "cell_type": "code",
   "execution_count": 50,
   "metadata": {
    "collapsed": false
   },
   "outputs": [
    {
     "name": "stdout",
     "output_type": "stream",
     "text": [
      "Acidimicrobium\n",
      "Aciditerrimonas\n",
      "Ferrimicrobium\n",
      "Ferrithrix\n",
      "Ilumatobacter\n",
      "Iamia\n",
      "Aquihabitans\n"
     ]
    }
   ],
   "source": [
    "for i1 in range(9, 15):\n",
    "    moku = dom.xpath('//*[@id=\"mw-content-text\"]/div/ul[' + str(i1) + ']/li/ul/li')\n",
    "    # print(list(moku[0]))\n",
    "    for i2 in moku:\n",
    "        for i3 in list(i2)[1:]:\n",
    "            if i3.tag == \"a\":\n",
    "                print(list(i3)[0].text)\n",
    "            elif i3.tag == \"i\":\n",
    "                print(i3.text)\n",
    "            else:\n",
    "                print(\"DAME\")\n",
    "    break"
   ]
  },
  {
   "cell_type": "code",
   "execution_count": 51,
   "metadata": {
    "collapsed": true
   },
   "outputs": [],
   "source": [
    "acti = []\n",
    "for i1 in range(9, 15):\n",
    "    moku = dom.xpath('//*[@id=\"mw-content-text\"]/div/ul[' + str(i1) + ']/li/ul/li')\n",
    "    # print(list(moku[0]))\n",
    "    for i2 in moku:\n",
    "        for i3 in list(i2)[1:]:\n",
    "            if i3.tag == \"a\":\n",
    "                acti.append(list(i3)[0].text)\n",
    "            elif i3.tag == \"i\":\n",
    "                acti.append(i3.text)\n",
    "            else:\n",
    "                print(\"DAME\")"
   ]
  },
  {
   "cell_type": "code",
   "execution_count": 52,
   "metadata": {
    "collapsed": false
   },
   "outputs": [
    {
     "name": "stdout",
     "output_type": "stream",
     "text": [
      "['Acidimicrobium', 'Aciditerrimonas', 'Ferrimicrobium', 'Ferrithrix', 'Ilumatobacter', 'Iamia', 'Aquihabitans', 'Coriobacterium', 'Collinsella', 'Enorma', 'Parvibacter', 'Senegalimassilia', 'Atopobium', 'Olsenella', 'Eggerthella', 'Adlercreutzia', 'Asaccharobacter', 'Cryptobacterium', 'Denitrobacterium', 'Enterorhabdus', 'Gordonibacter', 'Paraeggerthella', 'Slackia', 'Nitriliruptor', 'Egibacter', 'Egicoccus', 'Euzebya', 'Rubrobacter', 'Gaiella', 'Thermoleophilum', 'Solirubrobacter', 'Conexibacter', 'Parviterribacter', 'Patulibacter', 'Actinomyces', 'Actinobaculum', 'Actinotignum', 'Arcanobacterium', 'Flaviflexus', 'Mobiluncus', 'Trueperella', 'Varibaculum', 'Acidothermus', 'Actinopolyspora', 'Haloactinomyces', 'Mzabimyces', 'Halopolyspora', 'Bifidobacterium', 'Aeriscardovia', 'Alloscardovia', 'Bombiscardovia', 'Galliscardovia', 'Gardnerella', 'Neoscardovia', 'Parascardovia', 'Pseudoscardovia', 'Scardovia', 'Catenulispora', 'Actinospica', 'Actinocrinis', 'Corynebacterium', 'Turicella', 'Dietzia', 'Mycobacterium', 'Hoyosella', 'Nocardia', 'Gordonia', 'Millisia', 'Rhodococcus', 'Skermania', 'Smaragdicoccus', 'Williamsia', 'Segniliparus', 'Tsukamurella', 'Tomitella', 'Frankia', 'Jatrophihabitans', 'Cryptosporangium', 'Fodinicola', 'Motilibacter', 'Sporichthya', 'Geodermatophilus', 'Blastococcus', 'Cumulibacter', 'Modestobacter', 'Glycomyces', 'Haloglycomyces', 'Salilacibacter', 'Salininema', 'Stackebrandtia', 'Jiangella', 'Haloactinopolyspora', 'Phytoactinopolyspora', 'Kineosporia', 'Angustibacter', 'Kineococcus', 'Pseudokineococcus', 'Quadrisphaera', 'Thalassiella', 'Micrococcus', 'Acaricomes', 'Arthrobacter', 'Auritidibacter', 'Citricoccus', 'Enteractinococcus', 'Garicola', 'Glutamicibacter', 'Haematomicrobium', 'Kocuria', 'Micrococcoides', 'Neomicrococcus', 'Nesterenkonia', 'Paenarthrobacter', 'Paeniglutamicibacter', 'Pseudarthrobacter', 'Pseudoglutamicibacter', 'Psychromicrobium', 'Renibacterium', 'Rothia', 'Sinomonas', 'Tersicoccus', 'Yaniella', 'Zhihengliuella', 'Beutenbergia', 'Miniimonas', 'Salana', 'Serinibacter', 'Bogoriella', 'Georgenia', 'Brevibacterium', 'Sediminivirga', 'Spelaeicoccus', 'Cellulomonas', 'Actinotalea', 'Oerskovia', 'Paraoerskovia', 'Pseudactinotalea', 'Sediminihabitans', 'Tropheryma', 'Tropicihabitans', 'Demequina', 'Lysinimicrobium', 'Dermabacter', 'Brachybacterium', 'Devriesea', 'Helcobacillus', 'Dermacoccus', 'Barrientosiimonas', 'Branchiibius', 'Calidifontibacter', 'Demetria', 'Flexivirga', 'Kytococcus', 'Luteipulveratus', 'Rudaeicoccus', 'Yimella', 'Dermatophilus', 'Austwickia', 'Kineosphaera', 'Mobilicoccus', 'Piscicoccus', 'Tonsilliphilus', 'Intrasporangium', 'Aquipuribacter', 'Arsenicicoccus', 'Fodinibacter', 'Humibacillus', 'Janibacter', 'Knoellia', 'Kribbia', 'Lapillicoccus', 'Marihabitans', 'Monashia', 'Ornithinibacter', 'Ornithinicoccus', 'Ornithinimicrobium', 'Oryzihumus', 'Oryzobacter', 'Phycicoccus', 'Serinicoccus', 'Terrabacter', 'Terracoccus', 'Tetrasphaera', 'Jonesia', 'Populibacterium', 'Microbacterium', 'Agreia', 'Agrococcus', 'Agromyces', 'Allohumibacter', 'Alpinimonas', 'Amnibacterium', 'Arenivirga', 'Aurantimicrobium', 'Canibacter', 'Chryseoglobus', 'Clavibacter', 'Cnuibacter', 'Compostimonas', 'Conyzicola', 'Cryobacterium', 'Curtobacterium', 'Diaminobutyricibacter', 'Diaminobutyricimonas', 'Frigoribacterium', 'Frondihabitans', 'Galbitalea', 'Glaciibacter', 'Glaciihabitans', 'Gryllotalpicola', 'Gulosibacter', 'Herbiconiux', 'Homoserinibacter', 'Homoserinimonas', 'Huakuichenia', 'Humibacter', 'Klugiella', 'Labedella', 'Leifsonia', 'Leucobacter', 'Lysinibacter', 'Lysinimonas', 'Marisediminicola', 'Microcella', 'Microterricola', 'Mycetocola', 'Naasia', 'Okibacterium', 'Parafrigoribacterium', 'Plantibacter', 'Pontimonas', 'Pseudoclavibacter', 'Puzihella', 'Rathayibacter', 'Rhodoglobus', 'Rhodoluna', 'Rudaibacter', 'Salinibacterium', 'Schumannella', 'Subtercola', 'Yonghaparkia', 'Promicromonospora', 'Cellulosimicrobium', 'Isoptericola', 'Krasilnikoviella', 'Myceligenerans', 'Xylanibacterium', 'Xylanimicrobium', 'Xylanimonas', 'Rarobacter', 'Ruania', 'Haloactinobacterium', 'Sanguibacter', 'Timonella', 'Micromonospora', 'Actinocatenispora', 'Actinoplanes', 'Actinorhabdospora', 'Allocatelliglobosispora', 'Asanoa', 'Catellatospora', 'Catelliglobosispora', 'Catenuloplanes', 'Couchioplanes', 'Dactylosporangium', 'Hamadaea', 'Jishengella', 'Krasilnikovia', 'Longispora', 'Luedemannella', 'Mangrovihabitans', 'Phytohabitans', 'Phytomonospora', 'Pilimelia', 'Planosporangium', 'Plantactinospora', 'Polymorphospora', 'Pseudosporangium', 'Rhizocola', 'Rugosimonospora', 'Salinispora', 'Spirilliplanes', 'Verrucosispora', 'Virgisporangium', 'Xiangella', 'Nakamurella', 'Propionibacterium', 'Acidipropionibacterium', 'Aestuariimicrobium', 'Auraticoccus', 'Brooklawnia', 'Cutibacterium', 'Friedmanniella', 'Granulicoccus', 'Luteococcus', 'Mariniluteicoccus', 'Microlunatus', 'Micropruina', 'Naumannella', 'Propionicicella', 'Propioniciclava', 'Propionicimonas', 'Propioniferax', 'Propionimicrobium', 'Pseudopropionibacterium', 'Raineyella', 'Tessaracoccus', 'Nocardioides', 'Actinopolymorpha', 'Aeromicrobium', 'Flindersiella', 'Kribbella', 'Marmoricola', 'Mumia', 'Tenggerimyces', 'Thermasporomyces', 'Pseudonocardia', 'Actinoalloteichus', 'Actinocrispum', 'Actinokineospora', 'Actinomycetospora', 'Actinophytocola', 'Actinorectispora', 'Actinosynnema', 'Alloactinosynnema', 'Allokutzneria', 'Amycolatopsis', 'Crossiella', 'Goodfellowiella', 'Haloechinothrix', 'Herbihabitans', 'Kibdelosporangium', 'Kutzneria', 'Labedaea', 'Lechevalieria', 'Lentzea', 'Longimycelium', 'Prauserella', 'Saccharomonospora', 'Saccharopolyspora', 'Saccharothrix', 'Sciscionella', 'Streptoalloteichus', 'Tamaricihabitans', 'Thermobispora', 'Thermocrispum', 'Thermotunica', 'Umezawaea', 'Yuhushiella', 'Streptomyces', 'Allostreptomyces', 'Kitasatospora', 'Streptacidiphilus', 'Streptosporangium', 'Acrocarpospora', 'Herbidospora', 'Microbispora', 'Microtetraspora', 'Nonomuraea', 'Planobispora', 'Planomonospora', 'Planotetraspora', 'Sinosporangium', 'Sphaerimonospora', 'Sphaerisporangium', 'Thermoactinospora', 'Thermocatellispora', 'Thermopolyspora', 'Nocardiopsis', 'Actinorugispora', 'Allosalinactinospora', 'Haloactinospora', 'Lipingzhangella', 'Marinactinospora', 'Murinocardiopsis', 'Salinactinospora', 'Spinactinospora', 'Streptomonospora', 'Thermobifida', 'Thermomonospora', 'Actinoallomurus', 'Actinocorallia', 'Actinomadura', 'Spirillospora']\n"
     ]
    }
   ],
   "source": [
    "print(acti)"
   ]
  },
  {
   "cell_type": "code",
   "execution_count": 53,
   "metadata": {
    "collapsed": false
   },
   "outputs": [
    {
     "name": "stdout",
     "output_type": "stream",
     "text": [
      "384 384\n"
     ]
    }
   ],
   "source": [
    "print(len(acti), len(set(acti)))"
   ]
  },
  {
   "cell_type": "markdown",
   "metadata": {},
   "source": [
    "放線菌の属の抜き出しは終わった。  \n",
    "この程度の全抜きなら30分くらいで終わる。"
   ]
  },
  {
   "cell_type": "code",
   "execution_count": 63,
   "metadata": {
    "collapsed": true
   },
   "outputs": [],
   "source": [
    "class MCS_Finder2(object):\n",
    "    def __init__(self, genus):\n",
    "        import urllib.request\n",
    "        import os\n",
    "        import time\n",
    "        from rdkit.Chem import rdFMCS\n",
    "        from rdkit import Chem\n",
    "        from rdkit.Chem import Draw\n",
    "        from rdkit.Chem import rdDepictor\n",
    "        import requests\n",
    "        import lxml.html\n",
    "        import re\n",
    "        import networkx as nx\n",
    "\n",
    "        self.genus = genus\n",
    "        self.mol_list = None\n",
    "\n",
    "        if not os.path.exists(\"test/\" + self.genus):\n",
    "            os.mkdir(\"test/\" + self.genus)\n",
    "\n",
    "    def get_html(self, genus):\n",
    "        \"\"\"\n",
    "        get htmlfile from KNApSAck search engine\n",
    "\n",
    "        input\n",
    "            genus: str, genusric name\n",
    "\n",
    "        output\n",
    "            html: requests.models.Response\n",
    "        \"\"\"\n",
    "        import requests\n",
    "        html = requests.get(\"http://kanaya.naist.jp/knapsack_jsp/result.jsp?sname=organism&word=\" + genus)\n",
    "        return html\n",
    "\n",
    "    def get_Cnumber(self, html, limit=2000):\n",
    "        \"\"\"\n",
    "        get Cnumber list from KNApSAck htmlfile\n",
    "\n",
    "        input\n",
    "            html: requests.models.Response\n",
    "            limit: int, itertion limit\n",
    "\n",
    "        output\n",
    "            Cnumber: list, sorted list of Cnumber\n",
    "        \"\"\"\n",
    "        import lxml.html\n",
    "        dom = lxml.html.fromstring(html.text)\n",
    "        i = 1\n",
    "        Cnumber = set()\n",
    "        genus = dom.xpath('//*[@id=\"my_contents\"]/font[2]')[0].text\n",
    "        genus = genus[0].upper() + genus[1:]\n",
    "        while(True):\n",
    "            if i > limit:\n",
    "                print(\"max itertion\")\n",
    "                raise Exception(\"max iteration change limit\")\n",
    "\n",
    "            try:\n",
    "                Cn = dom.xpath('//*[@class=\"sortable d1\"]/tr[' + str(i) + ']/td[1]/a')[0].text\n",
    "            except IndexError:\n",
    "                # print(\"finish getting Cnumber\")\n",
    "                # print(i)\n",
    "                break\n",
    "\n",
    "            try:\n",
    "                if genus != dom.xpath('//*[@class=\"sortable d1\"]/tr[' + str(i) + ']/td[6]/font')[0].text:\n",
    "                    i += 1\n",
    "                    continue\n",
    "            except IndexError:\n",
    "                print(\"font error line \", + str(i))\n",
    "                i += 1\n",
    "                continue\n",
    "\n",
    "            Cnumber.add(Cn)\n",
    "            i += 1\n",
    "        Cnumber = list(sorted(Cnumber))\n",
    "        return Cnumber\n",
    "\n",
    "    def search(self, Cnumberlist, filename=None):\n",
    "        \"make kcffile only given Cnumbers from all kcffile\"\n",
    "        if filename is None:\n",
    "            filename = self.genus + \"/kcfs.kcfs\"\n",
    "        with open(filename, \"w\"):\n",
    "            pass\n",
    "\n",
    "        for Cnumber in Cnumberlist:\n",
    "            Cn = int(Cnumber[1:])\n",
    "            if Cn <= 9217:\n",
    "                page = \"1-9\"\n",
    "            elif Cn <= 19275:\n",
    "                page = \"10-19\"\n",
    "            elif Cn <= 29326:\n",
    "                page = \"20-29\"\n",
    "            elif Cn <= 39355:\n",
    "                page = \"30-39\"\n",
    "            elif Cn <= 49370:\n",
    "                page = \"40-49\"\n",
    "            elif Cn <= 50409:\n",
    "                page = \"50-59\"\n",
    "            else:\n",
    "                print(\"your Cnumber \" + Cnumber + \" is too large\")\n",
    "                continue\n",
    "\n",
    "            with open(\"../../../database/kcfs/KNApSAck\" + page + \".kcfs\") as f:\n",
    "                for (i, line) in enumerate(f):\n",
    "                    # print(line[12:21]) # C00000000\n",
    "                    if line[12:21] == Cnumber:\n",
    "                        # temp = i\n",
    "                        # print(\"find\", temp)\n",
    "                        lin = line\n",
    "                        flag = 0\n",
    "                        with open(filename, \"a\") as fw:\n",
    "                            while((lin[:5] != \"ENTRY\" and lin != \"\") or flag != 1):\n",
    "                                flag = 1\n",
    "                                fw.write(lin)\n",
    "                                lin = f.readline()\n",
    "                            else:\n",
    "                                break\n",
    "        return True\n",
    "\n",
    "    def kcfs2count(self, kcfs, txt):\n",
    "        import re\n",
    "        dic = {}\n",
    "        with open(kcfs, \"r\") as f:\n",
    "            for mol in f.read(None).split(\"///\\n\"):\n",
    "                # sta = 0\n",
    "                sta2 = 0\n",
    "                type_ = 0\n",
    "                for line in mol.split(\"\\n\"):\n",
    "                    # if re.match(\"^\\S\", line):\n",
    "                        # sta = line.split()[0]\n",
    "                    if re.match(\"^\\s\\s\\S\", line):\n",
    "                        sta2 = line.split()[0]\n",
    "                    if re.match(\"///\", line):\n",
    "                        pass\n",
    "                    elif sta2:\n",
    "                        a = line[12:].split()\n",
    "                        type_ = sta2\n",
    "                        try:\n",
    "                            num = int(re.findall(\"\\d+\", a[1])[0])\n",
    "                            str_ = a[0]\n",
    "                        except IndexError:\n",
    "                            continue\n",
    "                        str1 = re.sub(\"[a-z]\", \"\", str_)\n",
    "                        str2 = re.sub(\"\\d\", \"\", str1)\n",
    "                        dic.setdefault((type_, str_), 0)\n",
    "                        dic[(type_, str_)] += num\n",
    "                        dic.setdefault((type_, str2), 0)\n",
    "                        dic[(type_, str2)] += num\n",
    "                        dic.setdefault((type_, str1), 0)\n",
    "                        dic[(type_, str1)] += num\n",
    "\n",
    "        array = []\n",
    "        for item in dic.items():\n",
    "            array += [[0 - item[1], item[0]]]\n",
    "\n",
    "        with open(txt, \"w\") as f2:\n",
    "            index = 0\n",
    "            for list_ in sorted(array):\n",
    "                index += 1\n",
    "                num = str(index)\n",
    "                while(len(num) < 8):\n",
    "                    num = \"0\" + num\n",
    "                num = \"S\" + num + list_[1][0][0]\n",
    "                f2.write(num + \"\\t\" + list_[1][0] + \"\\t\" + list_[1][1] + \"\\t\" + str(0 - list_[0]) + \"\\n\")\n",
    "        return True\n",
    "\n",
    "    def split(self, countfile, result=\"test.txt\", limit=0):\n",
    "        with open(countfile, \"r\") as f:\n",
    "            with open(result, \"w\") as f2:\n",
    "                for line in f:\n",
    "                    i = -1\n",
    "                    if line[11] == \"R\":\n",
    "                        i = -1\n",
    "                        while(True):\n",
    "                            if line[i] == \"\\t\":\n",
    "                                # print(line[i+1:])\n",
    "                                break\n",
    "                            i -= 1\n",
    "                        if int(line[i + 1:]) < limit:\n",
    "                            break\n",
    "                        # print(line)\n",
    "                        f2.write(line)\n",
    "                    elif line[11] == \"I\":\n",
    "                        i = -1\n",
    "                        while(True):\n",
    "                            if line[i] == \"\\t\":\n",
    "                                # print(line[i+1:])\n",
    "                                break\n",
    "                            i -= 1\n",
    "                        if int(line[i + 1:]) < limit:\n",
    "                            break\n",
    "                        # print(line)\n",
    "                        f2.write(line)\n",
    "                    elif line[11] == \"S\":\n",
    "                        i = -1\n",
    "                        while(True):\n",
    "                            if line[i] == \"\\t\":\n",
    "                                # print(line[i+1:])\n",
    "                                break\n",
    "                            i -= 1\n",
    "                        if int(line[i + 1:]) < limit:\n",
    "                            break\n",
    "                        # print(line)\n",
    "                        f2.write(line)\n",
    "        return True"
   ]
  },
  {
   "cell_type": "code",
   "execution_count": 66,
   "metadata": {
    "collapsed": false
   },
   "outputs": [],
   "source": [
    "def make_kcfs2(f, limit=2000, splimit=0):\n",
    "    html = f.get_html(f.genus)\n",
    "    Cnumber = f.get_Cnumber(html, limit)\n",
    "    if Cnumber == []:\n",
    "        return False\n",
    "    f.search(Cnumber, \"test/\" + f.genus + \"/kcfs.kcfs\")\n",
    "    f.kcfs2count(\"test/\" + f.genus + \"/kcfs.kcfs\", \"test/\" + f.genus + \"/kcfscount.txt\")\n",
    "    f.split(\"test/\" + f.genus + \"/kcfscount.txt\", \"test/\" + f.genus + \"/splitedcount.txt\", splimit)\n",
    "    return True"
   ]
  },
  {
   "cell_type": "code",
   "execution_count": 78,
   "metadata": {
    "collapsed": false
   },
   "outputs": [
    {
     "name": "stdout",
     "output_type": "stream",
     "text": [
      "2017-10-20 17:39:48.041148\n",
      "your Cnumber C00051749 is too large\n",
      "your Cnumber C00051750 is too large\n",
      "your Cnumber C00051751 is too large\n",
      "your Cnumber C00051753 is too large\n",
      "CPU times: user 8min 31s, sys: 14 s, total: 8min 45s\n",
      "Wall time: 30min 9s\n"
     ]
    }
   ],
   "source": [
    "%%time\n",
    "import time\n",
    "import datetime\n",
    "import os\n",
    "print(datetime.datetime.now())\n",
    "for i in acti:\n",
    "    if os.path.exists(\"test/\" + i):\n",
    "        continue\n",
    "    f = MCS_Finder2(i)\n",
    "    make_kcfs2(f)\n",
    "    time.sleep(10)"
   ]
  },
  {
   "cell_type": "code",
   "execution_count": 73,
   "metadata": {
    "collapsed": false
   },
   "outputs": [
    {
     "name": "stdout",
     "output_type": "stream",
     "text": [
      "2017-10-20 17:01:35.607504\n"
     ]
    }
   ],
   "source": [
    "import datetime\n",
    "print(datetime.datetime.now())"
   ]
  },
  {
   "cell_type": "code",
   "execution_count": null,
   "metadata": {
    "collapsed": true
   },
   "outputs": [],
   "source": [
    "32"
   ]
  }
 ],
 "metadata": {
  "kernelspec": {
   "display_name": "Python 3",
   "language": "python",
   "name": "python3"
  },
  "language_info": {
   "codemirror_mode": {
    "name": "ipython",
    "version": 3
   },
   "file_extension": ".py",
   "mimetype": "text/x-python",
   "name": "python",
   "nbconvert_exporter": "python",
   "pygments_lexer": "ipython3",
   "version": "3.4.5"
  }
 },
 "nbformat": 4,
 "nbformat_minor": 2
}
