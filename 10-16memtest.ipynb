{
 "cells": [
  {
   "cell_type": "code",
   "execution_count": 62,
   "metadata": {
    "collapsed": true
   },
   "outputs": [],
   "source": [
    "import resource"
   ]
  },
  {
   "cell_type": "code",
   "execution_count": 63,
   "metadata": {
    "collapsed": true
   },
   "outputs": [],
   "source": [
    "rsrc = resource.RLIMIT_AS\n",
    "soft, hard = resource.getrlimit(rsrc)"
   ]
  },
  {
   "cell_type": "code",
   "execution_count": 64,
   "metadata": {
    "collapsed": false
   },
   "outputs": [
    {
     "name": "stdout",
     "output_type": "stream",
     "text": [
      "256 9223372036854775807\n"
     ]
    }
   ],
   "source": [
    "print(soft, hard)"
   ]
  },
  {
   "cell_type": "code",
   "execution_count": 65,
   "metadata": {
    "collapsed": true
   },
   "outputs": [],
   "source": [
    "soft = 256\n",
    "resource.setrlimit(rsrc,(soft,hard))"
   ]
  },
  {
   "cell_type": "code",
   "execution_count": 66,
   "metadata": {
    "collapsed": false
   },
   "outputs": [
    {
     "name": "stdout",
     "output_type": "stream",
     "text": [
      "100\n"
     ]
    }
   ],
   "source": [
    "k = 0\n",
    "d = dict()\n",
    "for i in range(100):\n",
    "    k += 1\n",
    "    d[str(i)] = i\n",
    "print(k)"
   ]
  },
  {
   "cell_type": "code",
   "execution_count": 67,
   "metadata": {
    "collapsed": false
   },
   "outputs": [
    {
     "name": "stdout",
     "output_type": "stream",
     "text": [
      "256 9223372036854775807\n"
     ]
    }
   ],
   "source": [
    "print(soft, hard)"
   ]
  },
  {
   "cell_type": "code",
   "execution_count": 68,
   "metadata": {
    "collapsed": false
   },
   "outputs": [
    {
     "name": "stdout",
     "output_type": "stream",
     "text": [
      "{'13': 13, '30': 30, '66': 66, '64': 64, '76': 76, '72': 72, '29': 29, '18': 18, '47': 47, '40': 40, '8': 8, '73': 73, '49': 49, '80': 80, '79': 79, '96': 96, '94': 94, '75': 75, '55': 55, '25': 25, '11': 11, '4': 4, '3': 3, '60': 60, '88': 88, '42': 42, '28': 28, '65': 65, '87': 87, '58': 58, '45': 45, '70': 70, '35': 35, '97': 97, '86': 86, '53': 53, '84': 84, '63': 63, '62': 62, '26': 26, '98': 98, '43': 43, '38': 38, '17': 17, '32': 32, '41': 41, '5': 5, '59': 59, '92': 92, '6': 6, '19': 19, '14': 14, '10': 10, '74': 74, '36': 36, '69': 69, '37': 37, '7': 7, '15': 15, '90': 90, '52': 52, '46': 46, '61': 61, '57': 57, '33': 33, '16': 16, '44': 44, '85': 85, '9': 9, '34': 34, '81': 81, '50': 50, '95': 95, '51': 51, '1': 1, '12': 12, '78': 78, '48': 48, '21': 21, '93': 93, '2': 2, '31': 31, '39': 39, '22': 22, '99': 99, '56': 56, '24': 24, '27': 27, '89': 89, '23': 23, '71': 71, '77': 77, '83': 83, '82': 82, '91': 91, '68': 68, '0': 0, '54': 54, '67': 67, '20': 20} 100\n"
     ]
    }
   ],
   "source": [
    "print(d, len(d))"
   ]
  },
  {
   "cell_type": "code",
   "execution_count": 69,
   "metadata": {
    "collapsed": false
   },
   "outputs": [
    {
     "name": "stdout",
     "output_type": "stream",
     "text": [
      "4.620398\n"
     ]
    }
   ],
   "source": [
    "print(getattr(resource.getrusage(resource.RUSAGE_SELF),'ru_utime'))"
   ]
  },
  {
   "cell_type": "code",
   "execution_count": 70,
   "metadata": {
    "collapsed": false
   },
   "outputs": [
    {
     "name": "stdout",
     "output_type": "stream",
     "text": [
      "0\n"
     ]
    }
   ],
   "source": [
    "print(getattr(resource.getrusage(resource.RUSAGE_SELF),'ru_ixrss'))"
   ]
  },
  {
   "cell_type": "code",
   "execution_count": 71,
   "metadata": {
    "collapsed": false
   },
   "outputs": [
    {
     "name": "stdout",
     "output_type": "stream",
     "text": [
      "0\n"
     ]
    }
   ],
   "source": [
    "print(getattr(resource.getrusage(resource.RUSAGE_SELF),'ru_idrss'))"
   ]
  },
  {
   "cell_type": "code",
   "execution_count": 72,
   "metadata": {
    "collapsed": false
   },
   "outputs": [
    {
     "data": {
      "text/plain": [
       "4096"
      ]
     },
     "execution_count": 72,
     "metadata": {},
     "output_type": "execute_result"
    }
   ],
   "source": [
    "resource.getpagesize()"
   ]
  },
  {
   "cell_type": "code",
   "execution_count": 73,
   "metadata": {
    "collapsed": true
   },
   "outputs": [],
   "source": [
    "import gc"
   ]
  },
  {
   "cell_type": "code",
   "execution_count": 74,
   "metadata": {
    "collapsed": false
   },
   "outputs": [
    {
     "data": {
      "text/plain": [
       "True"
      ]
     },
     "execution_count": 74,
     "metadata": {},
     "output_type": "execute_result"
    }
   ],
   "source": [
    "gc.isenabled()"
   ]
  },
  {
   "cell_type": "code",
   "execution_count": 77,
   "metadata": {
    "collapsed": false
   },
   "outputs": [
    {
     "data": {
      "text/plain": [
       "0"
      ]
     },
     "execution_count": 77,
     "metadata": {},
     "output_type": "execute_result"
    }
   ],
   "source": [
    "gc.collect()"
   ]
  },
  {
   "cell_type": "code",
   "execution_count": null,
   "metadata": {
    "collapsed": true
   },
   "outputs": [],
   "source": []
  }
 ],
 "metadata": {
  "kernelspec": {
   "display_name": "Python 3",
   "language": "python",
   "name": "python3"
  },
  "language_info": {
   "codemirror_mode": {
    "name": "ipython",
    "version": 3
   },
   "file_extension": ".py",
   "mimetype": "text/x-python",
   "name": "python",
   "nbconvert_exporter": "python",
   "pygments_lexer": "ipython3",
   "version": "3.4.5"
  }
 },
 "nbformat": 4,
 "nbformat_minor": 2
}
